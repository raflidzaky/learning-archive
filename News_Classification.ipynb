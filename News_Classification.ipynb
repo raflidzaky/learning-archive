{
  "nbformat": 4,
  "nbformat_minor": 0,
  "metadata": {
    "colab": {
      "provenance": [],
      "gpuType": "T4",
      "toc_visible": true,
      "authorship_tag": "ABX9TyO5K0DOKfFcFVl6m+l07wQP",
      "include_colab_link": true
    },
    "kernelspec": {
      "name": "python3",
      "display_name": "Python 3"
    },
    "language_info": {
      "name": "python"
    },
    "accelerator": "GPU"
  },
  "cells": [
    {
      "cell_type": "markdown",
      "metadata": {
        "id": "view-in-github",
        "colab_type": "text"
      },
      "source": [
        "<a href=\"https://colab.research.google.com/github/raflidzaky/learning-archive/blob/master/News_Classification.ipynb\" target=\"_parent\"><img src=\"https://colab.research.google.com/assets/colab-badge.svg\" alt=\"Open In Colab\"/></a>"
      ]
    },
    {
      "cell_type": "code",
      "source": [
        "# For data prep\n",
        "import pandas as pd\n",
        "import numpy as np\n",
        "import matplotlib.pyplot as plt\n",
        "\n",
        "# For text preprocessing\n",
        "import re\n",
        "import string\n",
        "import nltk\n",
        "from nltk.stem import WordNetLemmatizer\n",
        "from nltk.corpus import stopwords\n",
        "from sklearn.feature_extraction.text import CountVectorizer, TfidfVectorizer\n",
        "\n",
        "# For modelling\n",
        "from sklearn.model_selection import train_test_split\n",
        "from sklearn.tree import DecisionTreeClassifier\n",
        "from sklearn.model_selection import cross_val_score\n",
        "from sklearn.preprocessing import LabelEncoder\n",
        "import keras\n",
        "from keras.models import Model\n",
        "from keras.layers import LSTM, Activation, Dense, Dropout, Input, Embedding\n",
        "from keras.optimizers import RMSprop, SGD, Adam, AdamW, Adamax, Adagrad\n",
        "from tensorflow.keras.preprocessing.text import Tokenizer\n",
        "from keras.preprocessing import sequence\n",
        "from keras.utils import to_categorical\n",
        "\n",
        "# Gensim's embedding\n",
        "import gensim\n",
        "from gensim.models import word2vec\n",
        "from sklearn.manifold import TSNE"
      ],
      "metadata": {
        "id": "rn25IRD5EzVp"
      },
      "execution_count": null,
      "outputs": []
    },
    {
      "cell_type": "code",
      "execution_count": null,
      "metadata": {
        "id": "6_GSEHJO1asI"
      },
      "outputs": [],
      "source": [
        "import zipfile\n",
        "\n",
        "# Data is downloaded from kaggle, thanks to Al Fath Terry\n",
        "# Here is the link: https://www.kaggle.com/datasets/alfathterry/bbc-full-text-document-classification\n",
        "with zipfile.ZipFile('/content/bbc_data.csv.zip', 'r') as zip_ref:\n",
        "    zip_ref.extractall('/content/bbc_data')"
      ]
    },
    {
      "cell_type": "code",
      "source": [
        "# Move the file (so it is not within a folder)\n",
        "import shutil\n",
        "text_file = '/content/bbc_data/bbc_data.csv'\n",
        "dest      = '/content'\n",
        "\n",
        "shutil.move(text_file, dest)"
      ],
      "metadata": {
        "colab": {
          "base_uri": "https://localhost:8080/",
          "height": 35
        },
        "id": "gfDl7kt6gByS",
        "outputId": "dc526df2-55f4-46fa-9789-12820954a33c"
      },
      "execution_count": null,
      "outputs": [
        {
          "output_type": "execute_result",
          "data": {
            "text/plain": [
              "'/content/bbc_data.csv'"
            ],
            "application/vnd.google.colaboratory.intrinsic+json": {
              "type": "string"
            }
          },
          "metadata": {},
          "execution_count": 17
        }
      ]
    },
    {
      "cell_type": "code",
      "source": [
        "import pandas as pd"
      ],
      "metadata": {
        "id": "S9rKV3rC2q0C"
      },
      "execution_count": null,
      "outputs": []
    },
    {
      "cell_type": "code",
      "source": [
        "text_data = pd.read_csv('bbc_data.csv')\n",
        "text_data"
      ],
      "metadata": {
        "colab": {
          "base_uri": "https://localhost:8080/",
          "height": 424
        },
        "id": "10D5qJ3g2qwi",
        "outputId": "5dce82f9-9a74-4d47-fa0e-ccdfb579d198"
      },
      "execution_count": null,
      "outputs": [
        {
          "output_type": "execute_result",
          "data": {
            "text/plain": [
              "                                                   data         labels\n",
              "0     Musicians to tackle US red tape  Musicians gro...  entertainment\n",
              "1     U2s desire to be number one  U2, who have won ...  entertainment\n",
              "2     Rocker Doherty in on-stage fight  Rock singer ...  entertainment\n",
              "3     Snicket tops US box office chart  The film ada...  entertainment\n",
              "4     Oceans Twelve raids box office  Oceans Twelve,...  entertainment\n",
              "...                                                 ...            ...\n",
              "2220  Warning over Windows Word files  Writing a Mic...           tech\n",
              "2221  Fast lifts rise into record books  Two high-sp...           tech\n",
              "2222  Nintendo adds media playing to DS  Nintendo is...           tech\n",
              "2223  Fast moving phone viruses appear  Security fir...           tech\n",
              "2224  Hacker threat to Apples iTunes  Users of Apple...           tech\n",
              "\n",
              "[2225 rows x 2 columns]"
            ],
            "text/html": [
              "\n",
              "  <div id=\"df-f6cf2e03-0694-4b9d-b60f-dd0f7260edad\" class=\"colab-df-container\">\n",
              "    <div>\n",
              "<style scoped>\n",
              "    .dataframe tbody tr th:only-of-type {\n",
              "        vertical-align: middle;\n",
              "    }\n",
              "\n",
              "    .dataframe tbody tr th {\n",
              "        vertical-align: top;\n",
              "    }\n",
              "\n",
              "    .dataframe thead th {\n",
              "        text-align: right;\n",
              "    }\n",
              "</style>\n",
              "<table border=\"1\" class=\"dataframe\">\n",
              "  <thead>\n",
              "    <tr style=\"text-align: right;\">\n",
              "      <th></th>\n",
              "      <th>data</th>\n",
              "      <th>labels</th>\n",
              "    </tr>\n",
              "  </thead>\n",
              "  <tbody>\n",
              "    <tr>\n",
              "      <th>0</th>\n",
              "      <td>Musicians to tackle US red tape  Musicians gro...</td>\n",
              "      <td>entertainment</td>\n",
              "    </tr>\n",
              "    <tr>\n",
              "      <th>1</th>\n",
              "      <td>U2s desire to be number one  U2, who have won ...</td>\n",
              "      <td>entertainment</td>\n",
              "    </tr>\n",
              "    <tr>\n",
              "      <th>2</th>\n",
              "      <td>Rocker Doherty in on-stage fight  Rock singer ...</td>\n",
              "      <td>entertainment</td>\n",
              "    </tr>\n",
              "    <tr>\n",
              "      <th>3</th>\n",
              "      <td>Snicket tops US box office chart  The film ada...</td>\n",
              "      <td>entertainment</td>\n",
              "    </tr>\n",
              "    <tr>\n",
              "      <th>4</th>\n",
              "      <td>Oceans Twelve raids box office  Oceans Twelve,...</td>\n",
              "      <td>entertainment</td>\n",
              "    </tr>\n",
              "    <tr>\n",
              "      <th>...</th>\n",
              "      <td>...</td>\n",
              "      <td>...</td>\n",
              "    </tr>\n",
              "    <tr>\n",
              "      <th>2220</th>\n",
              "      <td>Warning over Windows Word files  Writing a Mic...</td>\n",
              "      <td>tech</td>\n",
              "    </tr>\n",
              "    <tr>\n",
              "      <th>2221</th>\n",
              "      <td>Fast lifts rise into record books  Two high-sp...</td>\n",
              "      <td>tech</td>\n",
              "    </tr>\n",
              "    <tr>\n",
              "      <th>2222</th>\n",
              "      <td>Nintendo adds media playing to DS  Nintendo is...</td>\n",
              "      <td>tech</td>\n",
              "    </tr>\n",
              "    <tr>\n",
              "      <th>2223</th>\n",
              "      <td>Fast moving phone viruses appear  Security fir...</td>\n",
              "      <td>tech</td>\n",
              "    </tr>\n",
              "    <tr>\n",
              "      <th>2224</th>\n",
              "      <td>Hacker threat to Apples iTunes  Users of Apple...</td>\n",
              "      <td>tech</td>\n",
              "    </tr>\n",
              "  </tbody>\n",
              "</table>\n",
              "<p>2225 rows × 2 columns</p>\n",
              "</div>\n",
              "    <div class=\"colab-df-buttons\">\n",
              "\n",
              "  <div class=\"colab-df-container\">\n",
              "    <button class=\"colab-df-convert\" onclick=\"convertToInteractive('df-f6cf2e03-0694-4b9d-b60f-dd0f7260edad')\"\n",
              "            title=\"Convert this dataframe to an interactive table.\"\n",
              "            style=\"display:none;\">\n",
              "\n",
              "  <svg xmlns=\"http://www.w3.org/2000/svg\" height=\"24px\" viewBox=\"0 -960 960 960\">\n",
              "    <path d=\"M120-120v-720h720v720H120Zm60-500h600v-160H180v160Zm220 220h160v-160H400v160Zm0 220h160v-160H400v160ZM180-400h160v-160H180v160Zm440 0h160v-160H620v160ZM180-180h160v-160H180v160Zm440 0h160v-160H620v160Z\"/>\n",
              "  </svg>\n",
              "    </button>\n",
              "\n",
              "  <style>\n",
              "    .colab-df-container {\n",
              "      display:flex;\n",
              "      gap: 12px;\n",
              "    }\n",
              "\n",
              "    .colab-df-convert {\n",
              "      background-color: #E8F0FE;\n",
              "      border: none;\n",
              "      border-radius: 50%;\n",
              "      cursor: pointer;\n",
              "      display: none;\n",
              "      fill: #1967D2;\n",
              "      height: 32px;\n",
              "      padding: 0 0 0 0;\n",
              "      width: 32px;\n",
              "    }\n",
              "\n",
              "    .colab-df-convert:hover {\n",
              "      background-color: #E2EBFA;\n",
              "      box-shadow: 0px 1px 2px rgba(60, 64, 67, 0.3), 0px 1px 3px 1px rgba(60, 64, 67, 0.15);\n",
              "      fill: #174EA6;\n",
              "    }\n",
              "\n",
              "    .colab-df-buttons div {\n",
              "      margin-bottom: 4px;\n",
              "    }\n",
              "\n",
              "    [theme=dark] .colab-df-convert {\n",
              "      background-color: #3B4455;\n",
              "      fill: #D2E3FC;\n",
              "    }\n",
              "\n",
              "    [theme=dark] .colab-df-convert:hover {\n",
              "      background-color: #434B5C;\n",
              "      box-shadow: 0px 1px 3px 1px rgba(0, 0, 0, 0.15);\n",
              "      filter: drop-shadow(0px 1px 2px rgba(0, 0, 0, 0.3));\n",
              "      fill: #FFFFFF;\n",
              "    }\n",
              "  </style>\n",
              "\n",
              "    <script>\n",
              "      const buttonEl =\n",
              "        document.querySelector('#df-f6cf2e03-0694-4b9d-b60f-dd0f7260edad button.colab-df-convert');\n",
              "      buttonEl.style.display =\n",
              "        google.colab.kernel.accessAllowed ? 'block' : 'none';\n",
              "\n",
              "      async function convertToInteractive(key) {\n",
              "        const element = document.querySelector('#df-f6cf2e03-0694-4b9d-b60f-dd0f7260edad');\n",
              "        const dataTable =\n",
              "          await google.colab.kernel.invokeFunction('convertToInteractive',\n",
              "                                                    [key], {});\n",
              "        if (!dataTable) return;\n",
              "\n",
              "        const docLinkHtml = 'Like what you see? Visit the ' +\n",
              "          '<a target=\"_blank\" href=https://colab.research.google.com/notebooks/data_table.ipynb>data table notebook</a>'\n",
              "          + ' to learn more about interactive tables.';\n",
              "        element.innerHTML = '';\n",
              "        dataTable['output_type'] = 'display_data';\n",
              "        await google.colab.output.renderOutput(dataTable, element);\n",
              "        const docLink = document.createElement('div');\n",
              "        docLink.innerHTML = docLinkHtml;\n",
              "        element.appendChild(docLink);\n",
              "      }\n",
              "    </script>\n",
              "  </div>\n",
              "\n",
              "\n",
              "<div id=\"df-e8415f05-232a-4417-b849-c3eba4dce48d\">\n",
              "  <button class=\"colab-df-quickchart\" onclick=\"quickchart('df-e8415f05-232a-4417-b849-c3eba4dce48d')\"\n",
              "            title=\"Suggest charts\"\n",
              "            style=\"display:none;\">\n",
              "\n",
              "<svg xmlns=\"http://www.w3.org/2000/svg\" height=\"24px\"viewBox=\"0 0 24 24\"\n",
              "     width=\"24px\">\n",
              "    <g>\n",
              "        <path d=\"M19 3H5c-1.1 0-2 .9-2 2v14c0 1.1.9 2 2 2h14c1.1 0 2-.9 2-2V5c0-1.1-.9-2-2-2zM9 17H7v-7h2v7zm4 0h-2V7h2v10zm4 0h-2v-4h2v4z\"/>\n",
              "    </g>\n",
              "</svg>\n",
              "  </button>\n",
              "\n",
              "<style>\n",
              "  .colab-df-quickchart {\n",
              "      --bg-color: #E8F0FE;\n",
              "      --fill-color: #1967D2;\n",
              "      --hover-bg-color: #E2EBFA;\n",
              "      --hover-fill-color: #174EA6;\n",
              "      --disabled-fill-color: #AAA;\n",
              "      --disabled-bg-color: #DDD;\n",
              "  }\n",
              "\n",
              "  [theme=dark] .colab-df-quickchart {\n",
              "      --bg-color: #3B4455;\n",
              "      --fill-color: #D2E3FC;\n",
              "      --hover-bg-color: #434B5C;\n",
              "      --hover-fill-color: #FFFFFF;\n",
              "      --disabled-bg-color: #3B4455;\n",
              "      --disabled-fill-color: #666;\n",
              "  }\n",
              "\n",
              "  .colab-df-quickchart {\n",
              "    background-color: var(--bg-color);\n",
              "    border: none;\n",
              "    border-radius: 50%;\n",
              "    cursor: pointer;\n",
              "    display: none;\n",
              "    fill: var(--fill-color);\n",
              "    height: 32px;\n",
              "    padding: 0;\n",
              "    width: 32px;\n",
              "  }\n",
              "\n",
              "  .colab-df-quickchart:hover {\n",
              "    background-color: var(--hover-bg-color);\n",
              "    box-shadow: 0 1px 2px rgba(60, 64, 67, 0.3), 0 1px 3px 1px rgba(60, 64, 67, 0.15);\n",
              "    fill: var(--button-hover-fill-color);\n",
              "  }\n",
              "\n",
              "  .colab-df-quickchart-complete:disabled,\n",
              "  .colab-df-quickchart-complete:disabled:hover {\n",
              "    background-color: var(--disabled-bg-color);\n",
              "    fill: var(--disabled-fill-color);\n",
              "    box-shadow: none;\n",
              "  }\n",
              "\n",
              "  .colab-df-spinner {\n",
              "    border: 2px solid var(--fill-color);\n",
              "    border-color: transparent;\n",
              "    border-bottom-color: var(--fill-color);\n",
              "    animation:\n",
              "      spin 1s steps(1) infinite;\n",
              "  }\n",
              "\n",
              "  @keyframes spin {\n",
              "    0% {\n",
              "      border-color: transparent;\n",
              "      border-bottom-color: var(--fill-color);\n",
              "      border-left-color: var(--fill-color);\n",
              "    }\n",
              "    20% {\n",
              "      border-color: transparent;\n",
              "      border-left-color: var(--fill-color);\n",
              "      border-top-color: var(--fill-color);\n",
              "    }\n",
              "    30% {\n",
              "      border-color: transparent;\n",
              "      border-left-color: var(--fill-color);\n",
              "      border-top-color: var(--fill-color);\n",
              "      border-right-color: var(--fill-color);\n",
              "    }\n",
              "    40% {\n",
              "      border-color: transparent;\n",
              "      border-right-color: var(--fill-color);\n",
              "      border-top-color: var(--fill-color);\n",
              "    }\n",
              "    60% {\n",
              "      border-color: transparent;\n",
              "      border-right-color: var(--fill-color);\n",
              "    }\n",
              "    80% {\n",
              "      border-color: transparent;\n",
              "      border-right-color: var(--fill-color);\n",
              "      border-bottom-color: var(--fill-color);\n",
              "    }\n",
              "    90% {\n",
              "      border-color: transparent;\n",
              "      border-bottom-color: var(--fill-color);\n",
              "    }\n",
              "  }\n",
              "</style>\n",
              "\n",
              "  <script>\n",
              "    async function quickchart(key) {\n",
              "      const quickchartButtonEl =\n",
              "        document.querySelector('#' + key + ' button');\n",
              "      quickchartButtonEl.disabled = true;  // To prevent multiple clicks.\n",
              "      quickchartButtonEl.classList.add('colab-df-spinner');\n",
              "      try {\n",
              "        const charts = await google.colab.kernel.invokeFunction(\n",
              "            'suggestCharts', [key], {});\n",
              "      } catch (error) {\n",
              "        console.error('Error during call to suggestCharts:', error);\n",
              "      }\n",
              "      quickchartButtonEl.classList.remove('colab-df-spinner');\n",
              "      quickchartButtonEl.classList.add('colab-df-quickchart-complete');\n",
              "    }\n",
              "    (() => {\n",
              "      let quickchartButtonEl =\n",
              "        document.querySelector('#df-e8415f05-232a-4417-b849-c3eba4dce48d button');\n",
              "      quickchartButtonEl.style.display =\n",
              "        google.colab.kernel.accessAllowed ? 'block' : 'none';\n",
              "    })();\n",
              "  </script>\n",
              "</div>\n",
              "\n",
              "  <div id=\"id_aa99f627-9361-4de0-a487-3c026995d49b\">\n",
              "    <style>\n",
              "      .colab-df-generate {\n",
              "        background-color: #E8F0FE;\n",
              "        border: none;\n",
              "        border-radius: 50%;\n",
              "        cursor: pointer;\n",
              "        display: none;\n",
              "        fill: #1967D2;\n",
              "        height: 32px;\n",
              "        padding: 0 0 0 0;\n",
              "        width: 32px;\n",
              "      }\n",
              "\n",
              "      .colab-df-generate:hover {\n",
              "        background-color: #E2EBFA;\n",
              "        box-shadow: 0px 1px 2px rgba(60, 64, 67, 0.3), 0px 1px 3px 1px rgba(60, 64, 67, 0.15);\n",
              "        fill: #174EA6;\n",
              "      }\n",
              "\n",
              "      [theme=dark] .colab-df-generate {\n",
              "        background-color: #3B4455;\n",
              "        fill: #D2E3FC;\n",
              "      }\n",
              "\n",
              "      [theme=dark] .colab-df-generate:hover {\n",
              "        background-color: #434B5C;\n",
              "        box-shadow: 0px 1px 3px 1px rgba(0, 0, 0, 0.15);\n",
              "        filter: drop-shadow(0px 1px 2px rgba(0, 0, 0, 0.3));\n",
              "        fill: #FFFFFF;\n",
              "      }\n",
              "    </style>\n",
              "    <button class=\"colab-df-generate\" onclick=\"generateWithVariable('text_data')\"\n",
              "            title=\"Generate code using this dataframe.\"\n",
              "            style=\"display:none;\">\n",
              "\n",
              "  <svg xmlns=\"http://www.w3.org/2000/svg\" height=\"24px\"viewBox=\"0 0 24 24\"\n",
              "       width=\"24px\">\n",
              "    <path d=\"M7,19H8.4L18.45,9,17,7.55,7,17.6ZM5,21V16.75L18.45,3.32a2,2,0,0,1,2.83,0l1.4,1.43a1.91,1.91,0,0,1,.58,1.4,1.91,1.91,0,0,1-.58,1.4L9.25,21ZM18.45,9,17,7.55Zm-12,3A5.31,5.31,0,0,0,4.9,8.1,5.31,5.31,0,0,0,1,6.5,5.31,5.31,0,0,0,4.9,4.9,5.31,5.31,0,0,0,6.5,1,5.31,5.31,0,0,0,8.1,4.9,5.31,5.31,0,0,0,12,6.5,5.46,5.46,0,0,0,6.5,12Z\"/>\n",
              "  </svg>\n",
              "    </button>\n",
              "    <script>\n",
              "      (() => {\n",
              "      const buttonEl =\n",
              "        document.querySelector('#id_aa99f627-9361-4de0-a487-3c026995d49b button.colab-df-generate');\n",
              "      buttonEl.style.display =\n",
              "        google.colab.kernel.accessAllowed ? 'block' : 'none';\n",
              "\n",
              "      buttonEl.onclick = () => {\n",
              "        google.colab.notebook.generateWithVariable('text_data');\n",
              "      }\n",
              "      })();\n",
              "    </script>\n",
              "  </div>\n",
              "\n",
              "    </div>\n",
              "  </div>\n"
            ],
            "application/vnd.google.colaboratory.intrinsic+json": {
              "type": "dataframe",
              "variable_name": "text_data",
              "summary": "{\n  \"name\": \"text_data\",\n  \"rows\": 2225,\n  \"fields\": [\n    {\n      \"column\": \"data\",\n      \"properties\": {\n        \"dtype\": \"string\",\n        \"num_unique_values\": 2126,\n        \"samples\": [\n          \"Media seek Jackson juror notes  Reporters covering singer Michael Jacksons trial in California have asked to see questionnaires completed by potential jurors.  Lawyers for news organisations said it was \\\"really vital\\\" for the responses of 250 potential jurors to be made public \\\"to serve as a check on the process\\\". Santa Barbara County Superior Court is due to consider the request on Monday. Mr Jackson denies child molestation. It is estimated his trial will cost Santa Barbara county up to $4m (xc2xa32.13m).  Meanwhile Michael Jacksons mother has said she is \\\"100% certain\\\" her son did not commit the child abuse charges he faces. The court is currently selecting 12 jurors and eight stand-by jurors for the trial, a process delayed until at least Thursday after a member of the stars legal team was hit by family illness. Defence lawyers argued against the bid by Associated Press and other news organisations to have potential jurors responses made public.  \\\"The release of the completed jury questionnaires does not serve any purpose other than to add to the sensationalist coverage of this case,\\\" a motion by Mr Jacksons lawyers stated. The estimated total costs of the trial, expected to last five months, range from $2.5m (xc2xa31.33m) to $4m (xc2xa32.13m) of local taxpayers money. Those estimates do not include costs to the city of Santa Maria, the Superior Court or for the investigation and prosecution of the case. The cost of security and other needs around the courthouse has been estimated at $40,000 (xc2xa321,000) per day, said Jason Stilwell, a special projects manager at the county administrators office.  Mr Jackson, 46, denies plying a boy with alcohol and molesting him. His mother Katherine Jackson told US TV network Fox News on Sunday that her pop star son told her he was innocent. \\\"I believe that for one reason - I know his character,\\\" she said. \\\"He loves children. You dont molest anything that you love.\\\" Describing Mr Jackson as \\\"a good person\\\", the mother-of-nine said she feared he would not be given a fair trial. \\\"I cant sleep thinking about what these wicked people might try to do to him,\\\" she said. \",\n          \"Game firm holds cast auditions  Video game firm Bioware is to hold open auditions for people to become cast members for future games.  The company, which makes role playing games such as Knights of the Old Republic and Neverwinter Nights, is seeking people aged 18 to 99. The Canada-based company says it was looking for \\\"a wide variety of people to use as face models for characters\\\". Everyone chosen to appear in a video game will receive a performers fee for the use of their image. The company is inviting people to come along to a shopping mall in West Edmonton, Alberta, on Friday and Saturday, bringing along a piece of photo identification.  \\\"There are hundreds and hundreds of characters in a typical Bioware game,\\\" said Shauna Perry, Biowares audio and external resources producer. \\\"Those people live in any city and village and so we need ordinary people, people with interesting faces.\\\" She added: \\\"Not everyone is a model in the world so we dont want just models in our games.\\\" People chosen to appear in a game will have their head scanned in three dimensions. Hundreds of photos of the persons head are taken so that a model of the head can be generated in 3D. \\\"The 3D model will look exactly like the person - its really quite incredible how detailed they are,\\\" said Ms Perry. She said chosen participants will have no control over how the image is used in a computer game. \\\"We cannot give people any control over how the images are used. \\\"But their face could be used in multiple games - so they could be the hero in one, the villain in another and just a merchant in a third.\\\" \",\n          \"Citizenship event for 18s touted  Citizenship ceremonies could be introduced for people celebrating their 18th birthday, Charles Clarke has said.  The idea will be tried as part of an overhaul of the way government approaches \\\"inclusive citizenship\\\" particularly for ethnic minorities. A pilot scheme based on ceremonies in Australia will start in October. Mr Clarke said it would be a way of recognising young people reaching their voting age when they also gain greater independence from parents. Britains young black and Asian people are to be encouraged to learn about the nations heritage as part of the governments new race strategy which will also target specific issues within different ethnic minority groups. Officials say the home secretary wants young people to feel they belong and to understand their \\\"other cultural identities\\\" alongside being British. The launch follows a row about the role of faith schools in Britain. On Monday school inspection chief David Bell, accused some Islamic schools of failing to teach pupils about their obligations to British society.  The Muslim Council of Britain said Ofsted boss Mr Bells comments were \\\"highly irresponsible\\\". The Home Office started work on its Community Cohesion and Race Equality Strategy last year and the outcome, launched on Wednesday, is called Improving Opportunity, Strengthening Society. It is aimed at tackling racism, exclusion, segregation and the rise in political and religious extremism. \\\"It represents a move away from the one-size-fits-all approach to focus on specifics within cultural groups,\\\" said a Home Office spokesman. \\\"It is not right to say that if you are from a black or ethnic minority group you must be disadvantaged.\\\" The spokesman highlighted specific issues that affect particular communities - for example people of south Asian origin tend to suffer from a high incidence of heart disease.  \\\"It is about drilling down and focusing on these sorts of problems,\\\" the spokesman added. Launching the initiative Mr Clarke said enormous progress had been made on race issues in recent years. He added: \\\"But while many members of black and minority ethnic communities are thriving, some may still find it harder to succeed in employment or gain access to healthcare, education or housing. \\\"This strategy sets out the governments commitment to doing more to identify and respond to the specific needs of minorities in our society.\\\" Some 8% of the UK population described themselves as coming from a non-white ethnic minority in the 2001 Census.  The Downing Street Strategy Unit in 2003 said people from Indian and Chinese backgrounds were doing well on average, often outperforming white people in education and earnings. But those of Pakistani, Bangladeshi and black Caribbean origin were significantly more likely to be unemployed and earn less than whites, it said. The Home Office wants more initiatives which try to promote a sense of belonging by encouraging young people to take part in voluntary work. The programmes are designed to support the citizenship lessons already taking place in schools. \"\n        ],\n        \"semantic_type\": \"\",\n        \"description\": \"\"\n      }\n    },\n    {\n      \"column\": \"labels\",\n      \"properties\": {\n        \"dtype\": \"category\",\n        \"num_unique_values\": 5,\n        \"samples\": [\n          \"business\",\n          \"tech\",\n          \"sport\"\n        ],\n        \"semantic_type\": \"\",\n        \"description\": \"\"\n      }\n    }\n  ]\n}"
            }
          },
          "metadata": {},
          "execution_count": 19
        }
      ]
    },
    {
      "cell_type": "markdown",
      "source": [
        "# Explore the Label"
      ],
      "metadata": {
        "id": "v_ROUBZr200x"
      }
    },
    {
      "cell_type": "code",
      "source": [
        "# There are 2225 rows with 5 unique topics\n",
        "# Most of the topics are sport (511)\n",
        "text_data['labels'].describe()"
      ],
      "metadata": {
        "colab": {
          "base_uri": "https://localhost:8080/",
          "height": 210
        },
        "id": "4rITI83c24BV",
        "outputId": "3cbac2c2-bced-4cee-8d6b-8bb5e1e986ff"
      },
      "execution_count": null,
      "outputs": [
        {
          "output_type": "execute_result",
          "data": {
            "text/plain": [
              "count      2225\n",
              "unique        5\n",
              "top       sport\n",
              "freq        511\n",
              "Name: labels, dtype: object"
            ],
            "text/html": [
              "<div>\n",
              "<style scoped>\n",
              "    .dataframe tbody tr th:only-of-type {\n",
              "        vertical-align: middle;\n",
              "    }\n",
              "\n",
              "    .dataframe tbody tr th {\n",
              "        vertical-align: top;\n",
              "    }\n",
              "\n",
              "    .dataframe thead th {\n",
              "        text-align: right;\n",
              "    }\n",
              "</style>\n",
              "<table border=\"1\" class=\"dataframe\">\n",
              "  <thead>\n",
              "    <tr style=\"text-align: right;\">\n",
              "      <th></th>\n",
              "      <th>labels</th>\n",
              "    </tr>\n",
              "  </thead>\n",
              "  <tbody>\n",
              "    <tr>\n",
              "      <th>count</th>\n",
              "      <td>2225</td>\n",
              "    </tr>\n",
              "    <tr>\n",
              "      <th>unique</th>\n",
              "      <td>5</td>\n",
              "    </tr>\n",
              "    <tr>\n",
              "      <th>top</th>\n",
              "      <td>sport</td>\n",
              "    </tr>\n",
              "    <tr>\n",
              "      <th>freq</th>\n",
              "      <td>511</td>\n",
              "    </tr>\n",
              "  </tbody>\n",
              "</table>\n",
              "</div><br><label><b>dtype:</b> object</label>"
            ]
          },
          "metadata": {},
          "execution_count": 20
        }
      ]
    },
    {
      "cell_type": "code",
      "source": [
        "# Count values of each topic\n",
        "df = text_data['labels'].value_counts()\n",
        "\n",
        "# Make a bar chart outta it\n",
        "bars = plt.bar(df.index,\n",
        "               df.values\n",
        "              )\n",
        "\n",
        "# Label each chart\n",
        "for bar in bars:\n",
        "  yval = bar.get_height()\n",
        "  plt.text(bar.get_x() + bar.get_width()/2,\n",
        "           yval, yval,\n",
        "           ha='center',\n",
        "           va='bottom')\n",
        "\n",
        "# Signs of the chart\n",
        "plt.title('Distribution of topics')\n",
        "plt.ylabel('Count')\n",
        "plt.xlabel('Topics');"
      ],
      "metadata": {
        "colab": {
          "base_uri": "https://localhost:8080/",
          "height": 472
        },
        "id": "cu_tEd593HhH",
        "outputId": "08dfecee-7813-4ec0-c802-dd09b15bd45d"
      },
      "execution_count": null,
      "outputs": [
        {
          "output_type": "display_data",
          "data": {
            "text/plain": [
              "<Figure size 640x480 with 1 Axes>"
            ],
            "image/png": "[encoded data removed]"
          },
          "metadata": {}
        }
      ]
    },
    {
      "cell_type": "markdown",
      "source": [
        "Since the topic is not severely imbalance, I think it is not needed to pre-process against its distribution."
      ],
      "metadata": {
        "id": "t74qq1zN56Ui"
      }
    },
    {
      "cell_type": "markdown",
      "source": [
        "# Data Pre-processing"
      ],
      "metadata": {
        "id": "h4gWLCLC6CYy"
      }
    },
    {
      "cell_type": "markdown",
      "source": [
        "## Text cleaning and vectorizing"
      ],
      "metadata": {
        "id": "5y_VngcqFovE"
      }
    },
    {
      "cell_type": "code",
      "source": [
        "nltk.download('wordnet')"
      ],
      "metadata": {
        "colab": {
          "base_uri": "https://localhost:8080/"
        },
        "id": "7B8op1Ib6RLZ",
        "outputId": "1f4f0d46-bca7-4778-fb03-c7c29f73ef7c"
      },
      "execution_count": null,
      "outputs": [
        {
          "output_type": "stream",
          "name": "stderr",
          "text": [
            "[nltk_data] Downloading package wordnet to /root/nltk_data...\n"
          ]
        },
        {
          "output_type": "execute_result",
          "data": {
            "text/plain": [
              "True"
            ]
          },
          "metadata": {},
          "execution_count": 23
        }
      ]
    },
    {
      "cell_type": "code",
      "source": [
        "nltk.download('stopwords')"
      ],
      "metadata": {
        "colab": {
          "base_uri": "https://localhost:8080/"
        },
        "id": "iup-csiF7qDa",
        "outputId": "430c2604-19f0-43cc-d4bf-e13dec0d33c0"
      },
      "execution_count": null,
      "outputs": [
        {
          "output_type": "stream",
          "name": "stderr",
          "text": [
            "[nltk_data] Downloading package stopwords to /root/nltk_data...\n",
            "[nltk_data]   Unzipping corpora/stopwords.zip.\n"
          ]
        },
        {
          "output_type": "execute_result",
          "data": {
            "text/plain": [
              "True"
            ]
          },
          "metadata": {},
          "execution_count": 24
        }
      ]
    },
    {
      "cell_type": "code",
      "source": [
        "nltk.download('punkt')"
      ],
      "metadata": {
        "colab": {
          "base_uri": "https://localhost:8080/"
        },
        "id": "Uco36XkB7vuQ",
        "outputId": "708ba8be-22a5-46e7-f1c1-a9cb4fc6eece"
      },
      "execution_count": null,
      "outputs": [
        {
          "output_type": "stream",
          "name": "stderr",
          "text": [
            "[nltk_data] Downloading package punkt to /root/nltk_data...\n",
            "[nltk_data]   Unzipping tokenizers/punkt.zip.\n"
          ]
        },
        {
          "output_type": "execute_result",
          "data": {
            "text/plain": [
              "True"
            ]
          },
          "metadata": {},
          "execution_count": 25
        }
      ]
    },
    {
      "cell_type": "code",
      "source": [
        "def preprocess_text(text):\n",
        "    '''Preprocess text by making it lowercase, removing text in square brackets, removing links, removing punctuation, and removing words containing numbers.'''\n",
        "    return re.sub('\\[.*?\\]|\\w*\\d\\w*|https?://\\S+|www\\.\\S+|<.*?>+|[%s]' % re.escape(string.punctuation), '', str(text).lower())\n",
        "\n",
        "def eliminate_stopwords(text):\n",
        "    '''Remove stopwords from the text'''\n",
        "    stop_words = stopwords.words('english')\n",
        "    # Tokenize words (splitting it piece by piece)\n",
        "    words = text.split(' ')\n",
        "    words = [word for word in words if word not in stop_words]\n",
        "    return ' '.join(words)\n",
        "\n",
        "# I skip stemming because it also filter out non-suffixes --> for example, athlete become athlet which is not contextual.\n",
        "def apply_lemms(sentence):\n",
        "    lemms = WordNetLemmatizer()\n",
        "\n",
        "    # Unite the words as a compact sentence again\n",
        "    return ' '.join(lemms.lemmatize(word) for word in sentence.split(' '))\n",
        "\n",
        "def preprocess_and_clean(sentence):\n",
        "    '''Preprocess and clean the text'''\n",
        "    cleaned_text = preprocess_text(sentence)\n",
        "    stop_words = stopwords.words('english')\n",
        "    removed_stopwords_text = ' '.join(word for word in cleaned_text.split(' ') if word not in stop_words)\n",
        "    lemms_text = ' '.join(apply_lemms(word) for word in removed_stopwords_text.split(' '))\n",
        "    return lemms_text"
      ],
      "metadata": {
        "id": "nuyIOsKw6tVs"
      },
      "execution_count": null,
      "outputs": []
    },
    {
      "cell_type": "code",
      "source": [
        "text_data['cleaned_text'] = text_data['data'].apply(preprocess_text)\n",
        "text_data['no_stopwords'] = text_data['cleaned_text'].apply(eliminate_stopwords)\n",
        "text_data['lemmatization'] = text_data['no_stopwords'].apply(apply_lemms)\n",
        "text_data['final_text']   = text_data['lemmatization'].apply(preprocess_and_clean)"
      ],
      "metadata": {
        "id": "xDOfVmSi60Rc"
      },
      "execution_count": null,
      "outputs": []
    },
    {
      "cell_type": "code",
      "source": [
        "text_data"
      ],
      "metadata": {
        "colab": {
          "base_uri": "https://localhost:8080/",
          "height": 823
        },
        "id": "O3Xy87WK-yh5",
        "outputId": "41d6e595-ccff-4fde-8f63-faf01a12cfe0"
      },
      "execution_count": null,
      "outputs": [
        {
          "output_type": "execute_result",
          "data": {
            "text/plain": [
              "                                                   data         labels  \\\n",
              "0     Musicians to tackle US red tape  Musicians gro...  entertainment   \n",
              "1     U2s desire to be number one  U2, who have won ...  entertainment   \n",
              "2     Rocker Doherty in on-stage fight  Rock singer ...  entertainment   \n",
              "3     Snicket tops US box office chart  The film ada...  entertainment   \n",
              "4     Oceans Twelve raids box office  Oceans Twelve,...  entertainment   \n",
              "...                                                 ...            ...   \n",
              "2220  Warning over Windows Word files  Writing a Mic...           tech   \n",
              "2221  Fast lifts rise into record books  Two high-sp...           tech   \n",
              "2222  Nintendo adds media playing to DS  Nintendo is...           tech   \n",
              "2223  Fast moving phone viruses appear  Security fir...           tech   \n",
              "2224  Hacker threat to Apples iTunes  Users of Apple...           tech   \n",
              "\n",
              "                                           cleaned_text  \\\n",
              "0     musicians to tackle us red tape  musicians gro...   \n",
              "1      desire to be number one   who have won three ...   \n",
              "2     rocker doherty in onstage fight  rock singer p...   \n",
              "3     snicket tops us box office chart  the film ada...   \n",
              "4     oceans twelve raids box office  oceans twelve ...   \n",
              "...                                                 ...   \n",
              "2220  warning over windows word files  writing a mic...   \n",
              "2221  fast lifts rise into record books  two highspe...   \n",
              "2222  nintendo adds media playing to ds  nintendo is...   \n",
              "2223  fast moving phone viruses appear  security fir...   \n",
              "2224  hacker threat to apples itunes  users of apple...   \n",
              "\n",
              "                                           no_stopwords  \\\n",
              "0     musicians tackle us red tape  musicians groups...   \n",
              "1      desire number one   three prestigious grammy ...   \n",
              "2     rocker doherty onstage fight  rock singer pete...   \n",
              "3     snicket tops us box office chart  film adaptat...   \n",
              "4     oceans twelve raids box office  oceans twelve ...   \n",
              "...                                                 ...   \n",
              "2220  warning windows word files  writing microsoft ...   \n",
              "2221  fast lifts rise record books  two highspeed li...   \n",
              "2222  nintendo adds media playing ds  nintendo relea...   \n",
              "2223  fast moving phone viruses appear  security fir...   \n",
              "2224  hacker threat apples itunes  users apples musi...   \n",
              "\n",
              "                                          lemmatization  \\\n",
              "0     musician tackle u red tape  musician group tac...   \n",
              "1      desire number one   three prestigious grammy ...   \n",
              "2     rocker doherty onstage fight  rock singer pete...   \n",
              "3     snicket top u box office chart  film adaptatio...   \n",
              "4     ocean twelve raid box office  ocean twelve cri...   \n",
              "...                                                 ...   \n",
              "2220  warning window word file  writing microsoft wo...   \n",
              "2221  fast lift rise record book  two highspeed lift...   \n",
              "2222  nintendo add medium playing d  nintendo releas...   \n",
              "2223  fast moving phone virus appear  security firm ...   \n",
              "2224  hacker threat apple itunes  user apple music j...   \n",
              "\n",
              "                                             final_text  \n",
              "0     musician tackle u red tape  musician group tac...  \n",
              "1      desire number one   three prestigious grammy ...  \n",
              "2     rocker doherty onstage fight  rock singer pete...  \n",
              "3     snicket top u box office chart  film adaptatio...  \n",
              "4     ocean twelve raid box office  ocean twelve cri...  \n",
              "...                                                 ...  \n",
              "2220  warning window word file  writing microsoft wo...  \n",
              "2221  fast lift rise record book  two highspeed lift...  \n",
              "2222  nintendo add medium playing  nintendo releasin...  \n",
              "2223  fast moving phone virus appear  security firm ...  \n",
              "2224  hacker threat apple itunes  user apple music j...  \n",
              "\n",
              "[2225 rows x 6 columns]"
            ],
            "text/html": [
              "\n",
              "  <div id=\"df-b9b2a6c3-901e-4ace-95b9-ee3a10112eb6\" class=\"colab-df-container\">\n",
              "    <div>\n",
              "<style scoped>\n",
              "    .dataframe tbody tr th:only-of-type {\n",
              "        vertical-align: middle;\n",
              "    }\n",
              "\n",
              "    .dataframe tbody tr th {\n",
              "        vertical-align: top;\n",
              "    }\n",
              "\n",
              "    .dataframe thead th {\n",
              "        text-align: right;\n",
              "    }\n",
              "</style>\n",
              "<table border=\"1\" class=\"dataframe\">\n",
              "  <thead>\n",
              "    <tr style=\"text-align: right;\">\n",
              "      <th></th>\n",
              "      <th>data</th>\n",
              "      <th>labels</th>\n",
              "      <th>cleaned_text</th>\n",
              "      <th>no_stopwords</th>\n",
              "      <th>lemmatization</th>\n",
              "      <th>final_text</th>\n",
              "    </tr>\n",
              "  </thead>\n",
              "  <tbody>\n",
              "    <tr>\n",
              "      <th>0</th>\n",
              "      <td>Musicians to tackle US red tape  Musicians gro...</td>\n",
              "      <td>entertainment</td>\n",
              "      <td>musicians to tackle us red tape  musicians gro...</td>\n",
              "      <td>musicians tackle us red tape  musicians groups...</td>\n",
              "      <td>musician tackle u red tape  musician group tac...</td>\n",
              "      <td>musician tackle u red tape  musician group tac...</td>\n",
              "    </tr>\n",
              "    <tr>\n",
              "      <th>1</th>\n",
              "      <td>U2s desire to be number one  U2, who have won ...</td>\n",
              "      <td>entertainment</td>\n",
              "      <td>desire to be number one   who have won three ...</td>\n",
              "      <td>desire number one   three prestigious grammy ...</td>\n",
              "      <td>desire number one   three prestigious grammy ...</td>\n",
              "      <td>desire number one   three prestigious grammy ...</td>\n",
              "    </tr>\n",
              "    <tr>\n",
              "      <th>2</th>\n",
              "      <td>Rocker Doherty in on-stage fight  Rock singer ...</td>\n",
              "      <td>entertainment</td>\n",
              "      <td>rocker doherty in onstage fight  rock singer p...</td>\n",
              "      <td>rocker doherty onstage fight  rock singer pete...</td>\n",
              "      <td>rocker doherty onstage fight  rock singer pete...</td>\n",
              "      <td>rocker doherty onstage fight  rock singer pete...</td>\n",
              "    </tr>\n",
              "    <tr>\n",
              "      <th>3</th>\n",
              "      <td>Snicket tops US box office chart  The film ada...</td>\n",
              "      <td>entertainment</td>\n",
              "      <td>snicket tops us box office chart  the film ada...</td>\n",
              "      <td>snicket tops us box office chart  film adaptat...</td>\n",
              "      <td>snicket top u box office chart  film adaptatio...</td>\n",
              "      <td>snicket top u box office chart  film adaptatio...</td>\n",
              "    </tr>\n",
              "    <tr>\n",
              "      <th>4</th>\n",
              "      <td>Oceans Twelve raids box office  Oceans Twelve,...</td>\n",
              "      <td>entertainment</td>\n",
              "      <td>oceans twelve raids box office  oceans twelve ...</td>\n",
              "      <td>oceans twelve raids box office  oceans twelve ...</td>\n",
              "      <td>ocean twelve raid box office  ocean twelve cri...</td>\n",
              "      <td>ocean twelve raid box office  ocean twelve cri...</td>\n",
              "    </tr>\n",
              "    <tr>\n",
              "      <th>...</th>\n",
              "      <td>...</td>\n",
              "      <td>...</td>\n",
              "      <td>...</td>\n",
              "      <td>...</td>\n",
              "      <td>...</td>\n",
              "      <td>...</td>\n",
              "    </tr>\n",
              "    <tr>\n",
              "      <th>2220</th>\n",
              "      <td>Warning over Windows Word files  Writing a Mic...</td>\n",
              "      <td>tech</td>\n",
              "      <td>warning over windows word files  writing a mic...</td>\n",
              "      <td>warning windows word files  writing microsoft ...</td>\n",
              "      <td>warning window word file  writing microsoft wo...</td>\n",
              "      <td>warning window word file  writing microsoft wo...</td>\n",
              "    </tr>\n",
              "    <tr>\n",
              "      <th>2221</th>\n",
              "      <td>Fast lifts rise into record books  Two high-sp...</td>\n",
              "      <td>tech</td>\n",
              "      <td>fast lifts rise into record books  two highspe...</td>\n",
              "      <td>fast lifts rise record books  two highspeed li...</td>\n",
              "      <td>fast lift rise record book  two highspeed lift...</td>\n",
              "      <td>fast lift rise record book  two highspeed lift...</td>\n",
              "    </tr>\n",
              "    <tr>\n",
              "      <th>2222</th>\n",
              "      <td>Nintendo adds media playing to DS  Nintendo is...</td>\n",
              "      <td>tech</td>\n",
              "      <td>nintendo adds media playing to ds  nintendo is...</td>\n",
              "      <td>nintendo adds media playing ds  nintendo relea...</td>\n",
              "      <td>nintendo add medium playing d  nintendo releas...</td>\n",
              "      <td>nintendo add medium playing  nintendo releasin...</td>\n",
              "    </tr>\n",
              "    <tr>\n",
              "      <th>2223</th>\n",
              "      <td>Fast moving phone viruses appear  Security fir...</td>\n",
              "      <td>tech</td>\n",
              "      <td>fast moving phone viruses appear  security fir...</td>\n",
              "      <td>fast moving phone viruses appear  security fir...</td>\n",
              "      <td>fast moving phone virus appear  security firm ...</td>\n",
              "      <td>fast moving phone virus appear  security firm ...</td>\n",
              "    </tr>\n",
              "    <tr>\n",
              "      <th>2224</th>\n",
              "      <td>Hacker threat to Apples iTunes  Users of Apple...</td>\n",
              "      <td>tech</td>\n",
              "      <td>hacker threat to apples itunes  users of apple...</td>\n",
              "      <td>hacker threat apples itunes  users apples musi...</td>\n",
              "      <td>hacker threat apple itunes  user apple music j...</td>\n",
              "      <td>hacker threat apple itunes  user apple music j...</td>\n",
              "    </tr>\n",
              "  </tbody>\n",
              "</table>\n",
              "<p>2225 rows × 6 columns</p>\n",
              "</div>\n",
              "    <div class=\"colab-df-buttons\">\n",
              "\n",
              "  <div class=\"colab-df-container\">\n",
              "    <button class=\"colab-df-convert\" onclick=\"convertToInteractive('df-b9b2a6c3-901e-4ace-95b9-ee3a10112eb6')\"\n",
              "            title=\"Convert this dataframe to an interactive table.\"\n",
              "            style=\"display:none;\">\n",
              "\n",
              "  <svg xmlns=\"http://www.w3.org/2000/svg\" height=\"24px\" viewBox=\"0 -960 960 960\">\n",
              "    <path d=\"M120-120v-720h720v720H120Zm60-500h600v-160H180v160Zm220 220h160v-160H400v160Zm0 220h160v-160H400v160ZM180-400h160v-160H180v160Zm440 0h160v-160H620v160ZM180-180h160v-160H180v160Zm440 0h160v-160H620v160Z\"/>\n",
              "  </svg>\n",
              "    </button>\n",
              "\n",
              "  <style>\n",
              "    .colab-df-container {\n",
              "      display:flex;\n",
              "      gap: 12px;\n",
              "    }\n",
              "\n",
              "    .colab-df-convert {\n",
              "      background-color: #E8F0FE;\n",
              "      border: none;\n",
              "      border-radius: 50%;\n",
              "      cursor: pointer;\n",
              "      display: none;\n",
              "      fill: #1967D2;\n",
              "      height: 32px;\n",
              "      padding: 0 0 0 0;\n",
              "      width: 32px;\n",
              "    }\n",
              "\n",
              "    .colab-df-convert:hover {\n",
              "      background-color: #E2EBFA;\n",
              "      box-shadow: 0px 1px 2px rgba(60, 64, 67, 0.3), 0px 1px 3px 1px rgba(60, 64, 67, 0.15);\n",
              "      fill: #174EA6;\n",
              "    }\n",
              "\n",
              "    .colab-df-buttons div {\n",
              "      margin-bottom: 4px;\n",
              "    }\n",
              "\n",
              "    [theme=dark] .colab-df-convert {\n",
              "      background-color: #3B4455;\n",
              "      fill: #D2E3FC;\n",
              "    }\n",
              "\n",
              "    [theme=dark] .colab-df-convert:hover {\n",
              "      background-color: #434B5C;\n",
              "      box-shadow: 0px 1px 3px 1px rgba(0, 0, 0, 0.15);\n",
              "      filter: drop-shadow(0px 1px 2px rgba(0, 0, 0, 0.3));\n",
              "      fill: #FFFFFF;\n",
              "    }\n",
              "  </style>\n",
              "\n",
              "    <script>\n",
              "      const buttonEl =\n",
              "        document.querySelector('#df-b9b2a6c3-901e-4ace-95b9-ee3a10112eb6 button.colab-df-convert');\n",
              "      buttonEl.style.display =\n",
              "        google.colab.kernel.accessAllowed ? 'block' : 'none';\n",
              "\n",
              "      async function convertToInteractive(key) {\n",
              "        const element = document.querySelector('#df-b9b2a6c3-901e-4ace-95b9-ee3a10112eb6');\n",
              "        const dataTable =\n",
              "          await google.colab.kernel.invokeFunction('convertToInteractive',\n",
              "                                                    [key], {});\n",
              "        if (!dataTable) return;\n",
              "\n",
              "        const docLinkHtml = 'Like what you see? Visit the ' +\n",
              "          '<a target=\"_blank\" href=https://colab.research.google.com/notebooks/data_table.ipynb>data table notebook</a>'\n",
              "          + ' to learn more about interactive tables.';\n",
              "        element.innerHTML = '';\n",
              "        dataTable['output_type'] = 'display_data';\n",
              "        await google.colab.output.renderOutput(dataTable, element);\n",
              "        const docLink = document.createElement('div');\n",
              "        docLink.innerHTML = docLinkHtml;\n",
              "        element.appendChild(docLink);\n",
              "      }\n",
              "    </script>\n",
              "  </div>\n",
              "\n",
              "\n",
              "<div id=\"df-08b61c05-02d7-4433-b83a-875cf5e5bb18\">\n",
              "  <button class=\"colab-df-quickchart\" onclick=\"quickchart('df-08b61c05-02d7-4433-b83a-875cf5e5bb18')\"\n",
              "            title=\"Suggest charts\"\n",
              "            style=\"display:none;\">\n",
              "\n",
              "<svg xmlns=\"http://www.w3.org/2000/svg\" height=\"24px\"viewBox=\"0 0 24 24\"\n",
              "     width=\"24px\">\n",
              "    <g>\n",
              "        <path d=\"M19 3H5c-1.1 0-2 .9-2 2v14c0 1.1.9 2 2 2h14c1.1 0 2-.9 2-2V5c0-1.1-.9-2-2-2zM9 17H7v-7h2v7zm4 0h-2V7h2v10zm4 0h-2v-4h2v4z\"/>\n",
              "    </g>\n",
              "</svg>\n",
              "  </button>\n",
              "\n",
              "<style>\n",
              "  .colab-df-quickchart {\n",
              "      --bg-color: #E8F0FE;\n",
              "      --fill-color: #1967D2;\n",
              "      --hover-bg-color: #E2EBFA;\n",
              "      --hover-fill-color: #174EA6;\n",
              "      --disabled-fill-color: #AAA;\n",
              "      --disabled-bg-color: #DDD;\n",
              "  }\n",
              "\n",
              "  [theme=dark] .colab-df-quickchart {\n",
              "      --bg-color: #3B4455;\n",
              "      --fill-color: #D2E3FC;\n",
              "      --hover-bg-color: #434B5C;\n",
              "      --hover-fill-color: #FFFFFF;\n",
              "      --disabled-bg-color: #3B4455;\n",
              "      --disabled-fill-color: #666;\n",
              "  }\n",
              "\n",
              "  .colab-df-quickchart {\n",
              "    background-color: var(--bg-color);\n",
              "    border: none;\n",
              "    border-radius: 50%;\n",
              "    cursor: pointer;\n",
              "    display: none;\n",
              "    fill: var(--fill-color);\n",
              "    height: 32px;\n",
              "    padding: 0;\n",
              "    width: 32px;\n",
              "  }\n",
              "\n",
              "  .colab-df-quickchart:hover {\n",
              "    background-color: var(--hover-bg-color);\n",
              "    box-shadow: 0 1px 2px rgba(60, 64, 67, 0.3), 0 1px 3px 1px rgba(60, 64, 67, 0.15);\n",
              "    fill: var(--button-hover-fill-color);\n",
              "  }\n",
              "\n",
              "  .colab-df-quickchart-complete:disabled,\n",
              "  .colab-df-quickchart-complete:disabled:hover {\n",
              "    background-color: var(--disabled-bg-color);\n",
              "    fill: var(--disabled-fill-color);\n",
              "    box-shadow: none;\n",
              "  }\n",
              "\n",
              "  .colab-df-spinner {\n",
              "    border: 2px solid var(--fill-color);\n",
              "    border-color: transparent;\n",
              "    border-bottom-color: var(--fill-color);\n",
              "    animation:\n",
              "      spin 1s steps(1) infinite;\n",
              "  }\n",
              "\n",
              "  @keyframes spin {\n",
              "    0% {\n",
              "      border-color: transparent;\n",
              "      border-bottom-color: var(--fill-color);\n",
              "      border-left-color: var(--fill-color);\n",
              "    }\n",
              "    20% {\n",
              "      border-color: transparent;\n",
              "      border-left-color: var(--fill-color);\n",
              "      border-top-color: var(--fill-color);\n",
              "    }\n",
              "    30% {\n",
              "      border-color: transparent;\n",
              "      border-left-color: var(--fill-color);\n",
              "      border-top-color: var(--fill-color);\n",
              "      border-right-color: var(--fill-color);\n",
              "    }\n",
              "    40% {\n",
              "      border-color: transparent;\n",
              "      border-right-color: var(--fill-color);\n",
              "      border-top-color: var(--fill-color);\n",
              "    }\n",
              "    60% {\n",
              "      border-color: transparent;\n",
              "      border-right-color: var(--fill-color);\n",
              "    }\n",
              "    80% {\n",
              "      border-color: transparent;\n",
              "      border-right-color: var(--fill-color);\n",
              "      border-bottom-color: var(--fill-color);\n",
              "    }\n",
              "    90% {\n",
              "      border-color: transparent;\n",
              "      border-bottom-color: var(--fill-color);\n",
              "    }\n",
              "  }\n",
              "</style>\n",
              "\n",
              "  <script>\n",
              "    async function quickchart(key) {\n",
              "      const quickchartButtonEl =\n",
              "        document.querySelector('#' + key + ' button');\n",
              "      quickchartButtonEl.disabled = true;  // To prevent multiple clicks.\n",
              "      quickchartButtonEl.classList.add('colab-df-spinner');\n",
              "      try {\n",
              "        const charts = await google.colab.kernel.invokeFunction(\n",
              "            'suggestCharts', [key], {});\n",
              "      } catch (error) {\n",
              "        console.error('Error during call to suggestCharts:', error);\n",
              "      }\n",
              "      quickchartButtonEl.classList.remove('colab-df-spinner');\n",
              "      quickchartButtonEl.classList.add('colab-df-quickchart-complete');\n",
              "    }\n",
              "    (() => {\n",
              "      let quickchartButtonEl =\n",
              "        document.querySelector('#df-08b61c05-02d7-4433-b83a-875cf5e5bb18 button');\n",
              "      quickchartButtonEl.style.display =\n",
              "        google.colab.kernel.accessAllowed ? 'block' : 'none';\n",
              "    })();\n",
              "  </script>\n",
              "</div>\n",
              "\n",
              "  <div id=\"id_80414373-55c4-4dbb-95fc-e9a0e5f660b9\">\n",
              "    <style>\n",
              "      .colab-df-generate {\n",
              "        background-color: #E8F0FE;\n",
              "        border: none;\n",
              "        border-radius: 50%;\n",
              "        cursor: pointer;\n",
              "        display: none;\n",
              "        fill: #1967D2;\n",
              "        height: 32px;\n",
              "        padding: 0 0 0 0;\n",
              "        width: 32px;\n",
              "      }\n",
              "\n",
              "      .colab-df-generate:hover {\n",
              "        background-color: #E2EBFA;\n",
              "        box-shadow: 0px 1px 2px rgba(60, 64, 67, 0.3), 0px 1px 3px 1px rgba(60, 64, 67, 0.15);\n",
              "        fill: #174EA6;\n",
              "      }\n",
              "\n",
              "      [theme=dark] .colab-df-generate {\n",
              "        background-color: #3B4455;\n",
              "        fill: #D2E3FC;\n",
              "      }\n",
              "\n",
              "      [theme=dark] .colab-df-generate:hover {\n",
              "        background-color: #434B5C;\n",
              "        box-shadow: 0px 1px 3px 1px rgba(0, 0, 0, 0.15);\n",
              "        filter: drop-shadow(0px 1px 2px rgba(0, 0, 0, 0.3));\n",
              "        fill: #FFFFFF;\n",
              "      }\n",
              "    </style>\n",
              "    <button class=\"colab-df-generate\" onclick=\"generateWithVariable('text_data')\"\n",
              "            title=\"Generate code using this dataframe.\"\n",
              "            style=\"display:none;\">\n",
              "\n",
              "  <svg xmlns=\"http://www.w3.org/2000/svg\" height=\"24px\"viewBox=\"0 0 24 24\"\n",
              "       width=\"24px\">\n",
              "    <path d=\"M7,19H8.4L18.45,9,17,7.55,7,17.6ZM5,21V16.75L18.45,3.32a2,2,0,0,1,2.83,0l1.4,1.43a1.91,1.91,0,0,1,.58,1.4,1.91,1.91,0,0,1-.58,1.4L9.25,21ZM18.45,9,17,7.55Zm-12,3A5.31,5.31,0,0,0,4.9,8.1,5.31,5.31,0,0,0,1,6.5,5.31,5.31,0,0,0,4.9,4.9,5.31,5.31,0,0,0,6.5,1,5.31,5.31,0,0,0,8.1,4.9,5.31,5.31,0,0,0,12,6.5,5.46,5.46,0,0,0,6.5,12Z\"/>\n",
              "  </svg>\n",
              "    </button>\n",
              "    <script>\n",
              "      (() => {\n",
              "      const buttonEl =\n",
              "        document.querySelector('#id_80414373-55c4-4dbb-95fc-e9a0e5f660b9 button.colab-df-generate');\n",
              "      buttonEl.style.display =\n",
              "        google.colab.kernel.accessAllowed ? 'block' : 'none';\n",
              "\n",
              "      buttonEl.onclick = () => {\n",
              "        google.colab.notebook.generateWithVariable('text_data');\n",
              "      }\n",
              "      })();\n",
              "    </script>\n",
              "  </div>\n",
              "\n",
              "    </div>\n",
              "  </div>\n"
            ],
            "application/vnd.google.colaboratory.intrinsic+json": {
              "type": "dataframe",
              "variable_name": "text_data",
              "summary": "{\n  \"name\": \"text_data\",\n  \"rows\": 2225,\n  \"fields\": [\n    {\n      \"column\": \"data\",\n      \"properties\": {\n        \"dtype\": \"string\",\n        \"num_unique_values\": 2126,\n        \"samples\": [\n          \"Media seek Jackson juror notes  Reporters covering singer Michael Jacksons trial in California have asked to see questionnaires completed by potential jurors.  Lawyers for news organisations said it was \\\"really vital\\\" for the responses of 250 potential jurors to be made public \\\"to serve as a check on the process\\\". Santa Barbara County Superior Court is due to consider the request on Monday. Mr Jackson denies child molestation. It is estimated his trial will cost Santa Barbara county up to $4m (xc2xa32.13m).  Meanwhile Michael Jacksons mother has said she is \\\"100% certain\\\" her son did not commit the child abuse charges he faces. The court is currently selecting 12 jurors and eight stand-by jurors for the trial, a process delayed until at least Thursday after a member of the stars legal team was hit by family illness. Defence lawyers argued against the bid by Associated Press and other news organisations to have potential jurors responses made public.  \\\"The release of the completed jury questionnaires does not serve any purpose other than to add to the sensationalist coverage of this case,\\\" a motion by Mr Jacksons lawyers stated. The estimated total costs of the trial, expected to last five months, range from $2.5m (xc2xa31.33m) to $4m (xc2xa32.13m) of local taxpayers money. Those estimates do not include costs to the city of Santa Maria, the Superior Court or for the investigation and prosecution of the case. The cost of security and other needs around the courthouse has been estimated at $40,000 (xc2xa321,000) per day, said Jason Stilwell, a special projects manager at the county administrators office.  Mr Jackson, 46, denies plying a boy with alcohol and molesting him. His mother Katherine Jackson told US TV network Fox News on Sunday that her pop star son told her he was innocent. \\\"I believe that for one reason - I know his character,\\\" she said. \\\"He loves children. You dont molest anything that you love.\\\" Describing Mr Jackson as \\\"a good person\\\", the mother-of-nine said she feared he would not be given a fair trial. \\\"I cant sleep thinking about what these wicked people might try to do to him,\\\" she said. \",\n          \"Game firm holds cast auditions  Video game firm Bioware is to hold open auditions for people to become cast members for future games.  The company, which makes role playing games such as Knights of the Old Republic and Neverwinter Nights, is seeking people aged 18 to 99. The Canada-based company says it was looking for \\\"a wide variety of people to use as face models for characters\\\". Everyone chosen to appear in a video game will receive a performers fee for the use of their image. The company is inviting people to come along to a shopping mall in West Edmonton, Alberta, on Friday and Saturday, bringing along a piece of photo identification.  \\\"There are hundreds and hundreds of characters in a typical Bioware game,\\\" said Shauna Perry, Biowares audio and external resources producer. \\\"Those people live in any city and village and so we need ordinary people, people with interesting faces.\\\" She added: \\\"Not everyone is a model in the world so we dont want just models in our games.\\\" People chosen to appear in a game will have their head scanned in three dimensions. Hundreds of photos of the persons head are taken so that a model of the head can be generated in 3D. \\\"The 3D model will look exactly like the person - its really quite incredible how detailed they are,\\\" said Ms Perry. She said chosen participants will have no control over how the image is used in a computer game. \\\"We cannot give people any control over how the images are used. \\\"But their face could be used in multiple games - so they could be the hero in one, the villain in another and just a merchant in a third.\\\" \",\n          \"Citizenship event for 18s touted  Citizenship ceremonies could be introduced for people celebrating their 18th birthday, Charles Clarke has said.  The idea will be tried as part of an overhaul of the way government approaches \\\"inclusive citizenship\\\" particularly for ethnic minorities. A pilot scheme based on ceremonies in Australia will start in October. Mr Clarke said it would be a way of recognising young people reaching their voting age when they also gain greater independence from parents. Britains young black and Asian people are to be encouraged to learn about the nations heritage as part of the governments new race strategy which will also target specific issues within different ethnic minority groups. Officials say the home secretary wants young people to feel they belong and to understand their \\\"other cultural identities\\\" alongside being British. The launch follows a row about the role of faith schools in Britain. On Monday school inspection chief David Bell, accused some Islamic schools of failing to teach pupils about their obligations to British society.  The Muslim Council of Britain said Ofsted boss Mr Bells comments were \\\"highly irresponsible\\\". The Home Office started work on its Community Cohesion and Race Equality Strategy last year and the outcome, launched on Wednesday, is called Improving Opportunity, Strengthening Society. It is aimed at tackling racism, exclusion, segregation and the rise in political and religious extremism. \\\"It represents a move away from the one-size-fits-all approach to focus on specifics within cultural groups,\\\" said a Home Office spokesman. \\\"It is not right to say that if you are from a black or ethnic minority group you must be disadvantaged.\\\" The spokesman highlighted specific issues that affect particular communities - for example people of south Asian origin tend to suffer from a high incidence of heart disease.  \\\"It is about drilling down and focusing on these sorts of problems,\\\" the spokesman added. Launching the initiative Mr Clarke said enormous progress had been made on race issues in recent years. He added: \\\"But while many members of black and minority ethnic communities are thriving, some may still find it harder to succeed in employment or gain access to healthcare, education or housing. \\\"This strategy sets out the governments commitment to doing more to identify and respond to the specific needs of minorities in our society.\\\" Some 8% of the UK population described themselves as coming from a non-white ethnic minority in the 2001 Census.  The Downing Street Strategy Unit in 2003 said people from Indian and Chinese backgrounds were doing well on average, often outperforming white people in education and earnings. But those of Pakistani, Bangladeshi and black Caribbean origin were significantly more likely to be unemployed and earn less than whites, it said. The Home Office wants more initiatives which try to promote a sense of belonging by encouraging young people to take part in voluntary work. The programmes are designed to support the citizenship lessons already taking place in schools. \"\n        ],\n        \"semantic_type\": \"\",\n        \"description\": \"\"\n      }\n    },\n    {\n      \"column\": \"labels\",\n      \"properties\": {\n        \"dtype\": \"category\",\n        \"num_unique_values\": 5,\n        \"samples\": [\n          \"business\",\n          \"tech\",\n          \"sport\"\n        ],\n        \"semantic_type\": \"\",\n        \"description\": \"\"\n      }\n    },\n    {\n      \"column\": \"cleaned_text\",\n      \"properties\": {\n        \"dtype\": \"string\",\n        \"num_unique_values\": 2124,\n        \"samples\": [\n          \"sky takes over oscar night mantle  sky has signed a major new deal to broadcast this years academy awards taking over from three years of live oscar coverage on the bbc  sky said it was honoured to have won exclusive broadcasting rights and promised to cover the event in a way no other broadcaster could the bbc denied it had lost a bidding war saying it had decided to pass the mantle to another broadcaster the ceremony hosted by newcomer chris rock takes place on  february   skys coverage will launch with the nominations on  january and will include themed programming across sky channels including sky news sky travel and the biography channel there will also be a monthlong season of oscarwinning films on sky movies in the run up to the event and live uninterrupted coverage on the night we are honoured to have won the live and exclusive broadcasting rights for the academy awards said sky networks sophie turner laing sky is the natural place to see the biggest and most prestigious film event of the year and will cover the event in a way that no other broadcaster could  sky first scooped oscar rights from the bbc in  but the bbc won them back in  when sky was forced to pull out of a bidding war due to financial constraints bbc viewers will of course be able to watch quality coverage of the  academy awards on the bbcs bulletins and news programmes a spokesman said among the films tipped to do well at this years academy awards are martin scorseses the aviator jeanpierre jeunets a very long engagement and the ray charles biopic ray \",\n          \"iraq advice claim sparks new row  the tories say ministers must respond in parliament to claims that the legal advice used to justify the iraq war was drawn up at number   downing street has denied the claims made in a new book about the attorney general lord goldsmiths advice lord goldsmith also denied them saying he was not leaned on in any way but the conservatives and liberal democrats say they want the publication of the full legal advice given by the attorney general  the government has consistently refused to publish lord goldsmiths advice on the legality of the war  saying such papers have always been kept confidential  but a short statement about lord goldsmiths position was presented in a written parliamentary answer on  march   just before a crucial commons vote on the military action it said it was plain iraq continued to be in material breach of un resolution  in his new book lawless world philippe sands a qc and international law professor suggests the parliamentary answer was written in downing street according to mr sands lord goldsmith had warned tony blair in a document on  march  that the use of force against iraq could be illegal and that it would have been safer to seek a second un resolution sanctioning military action  mr sands told newsnight the government had prepared a legal team to be able to defend its case in case legal action was taken against the uk over the war on  march military chiefs reportedly asked for an unequivocal statement about the legality of the war to make sure troops could be defended in a court of law the book being serialised in the guardian newspaper says on  march lord goldsmith met then home office minister lord falconer and downing street adviser baroness morgan after that downing street proceeded to set out his  view in a parliamentary answer which was then published on  march said mr sands  tory leader michael howard reiterated calls for the publication of the full legal advice given by the attorney general warning this issue will not go away these revelations throw an intensive spotlight on to the cavalier way in which this government operates  even on an issue as important as peace and war the government needs to act to restore public confidence and trust liberal democrat foreign affairs spokesman menzies campbell repeated his partys calls for lord goldsmiths first piece of legal advice to be made public the public interest which the government claims justifies nonpublication of the whole of the advice can only be served now by the fullest disclosure  in a statement to newsnight lord goldsmith said in my parliamentary answer on march   i explained my genuinely held independent view that military action was lawful under the existing security council resolutions it was certainly not a view that i expressed as a result of being leaned on in any way nor as i have already made clear was it written by or at number  the prime ministers official spokesman also rejected the claims saying the attorney general made it clear the words and the judgement were his but exforeign secretary robin cook says all the advice should now be published he said the claims suggested parliament had only received a prcis of lord goldsmiths second opinion  and that it was actually drafted in no  this would be wrong even if lord goldsmith had signed the statement mr cook said because the attorney generals advice should be an independent legal opinion not subject to political negotiation of this kind \",\n          \"confusion over highdefinition tv  now that a critical mass of people have embraced digital tv dvds and digital video recorders the next revolution for tv is being prepared for our sets  in most corners of tv and technology industries highdefinition hdtv is being heralded as the biggest thing to happen to the television since colour hd essentially makes tv picture quality at least four times better than now but there is real concern that people are not getting the right information about hd on the high street thousands of flat panel screens  lcds liquid crystal displays plasma screens and dlp rearprojection tv sets  have already been sold as hd but are in fact not able to display hd  the uk is the largest display market in europe according to john binks director of gfk which monitors global consumer markets  but he added of all the flat panel screens sold just  in the uk are capable of getting highdefinition there are  different devices that are being sold as hd but are not hdready according to alexander oudendijk senior vice president of marketing for satellite giant astra they may be fantastic quality tvs but many do not have adaptors in them  called dvi or hdmi highdefinition multimedia interface connectors  which let the set handle the higher resolution digital images part of this is down to lack of understanding and training on the high street say industry experts who gathered at bafta in london for the  european hdtv summit last week we have to be careful about consumer confusion there is a massive education process to go through said mr binks the industry already recognised that it would be a challenge to get the right information about it across to those of us who will be watching it eventually that will be everyone the bbc is currently developing plans to produce all its tv output to meet hdtv standards by   preparations for the analogue switchoff are already underway in some areas and programmes are being filmed with hd cameras bskyb plans to ship its first generation settop boxes to receive hdtv broadcasts in time for christmas like its sky boxes they will also be personal video recorders pvrs the company will start broadcasts of hdtv programmes offering them as premium channel packages concentrating to start with on sports big events and films in early  but the settop box which receives hdtv broadcasts has to plug into a display  tv set  that can show the images at the much higher resolution that hd demands if hdtv is to be real by   of homes in the uk will have some sort of tv set or display that can show hd in its full glory  but it is all getting rather confusing for people who have only just taken to being digital as a result all the key players those who make flat panel displays as well as the satellite companies and broadcasters formed a hd forum in  to make sure they were all talking to each other part of the forum has been concerned with issues like industry standards and content protection but it has also been preoccupied with how to help the paying public know exactly what they are paying for  from next month all devices that have the right connectors and resolution required will carry a hdready sticker this also means they are equipped to cope with both analogue and hdtv signals and so comply with the minimum specification set out by the industry the logo is absolutely the way forward said david mercer analysts with strategy analytics but it is still not appearing on many retail products the industry is upbeat that the sticker will help but it is only a start we can only do so much with the position we are in today with manufacturers said mr oudendijk there may well be a number of dissatisfied customers in the next few months the european broadcast union ebu is testing different flavours of hd formats to prepare for even better hdtv further down the line it is similarly concerned that people get the right information on hdtv formats as well as which devices will support the formats we believe consumers buying expensive displays need to ensure their investment is worthwhile said phil laven technical director for the ebu the tv display manufacturers want us to watch hd on screens that are at least   to get the true impact of hd they say although smaller displays suffice what may convince people to spend money on hdready devices is the falling prices which continue to tumble across europe the prices are dropping an average of  every year according to analysts lcd prices dropped by  in europe as a whole last year according to mr oudendijk \"\n        ],\n        \"semantic_type\": \"\",\n        \"description\": \"\"\n      }\n    },\n    {\n      \"column\": \"no_stopwords\",\n      \"properties\": {\n        \"dtype\": \"string\",\n        \"num_unique_values\": 2121,\n        \"samples\": [\n          \"games enter classroom  video games could soon transplanted natural habitat academic atmosphere classroom  violent titles continuing top charts gaming learning always sat well together tide could beginning turn recent research london institute education concluded games valid place classroom games teach life skills decision making problem solving said martin owen futurelab mr owen said games could also help children make quick assessments situations learning trial error  futurelab nonprofit organisation looking ways using technology innovative learning game firms busy turning profit lucrative commercial market consider developing games use schools liverpoolbased games firm lateral visions saw gap market learning games somewhat oldfashioned didnt see anyone else wanted said dr carl gavin managing director lateral visions company set write something look feel commercial game educational learning element result racing academy massively multiplayer car racing game requires thirst speed working knowledge physics engineering well  used futurelab test viability using gaming classroom keen find whether alongside learning game also learn something rest world understand educational said mr owen players understand car works order win races knowledge physics engineering gather along way done way text book teach game requires users build maintain vehicles monitor analyse performance using data variety outputs racing teamwork essential chat area allows students exchange information data work collaboratively review performances fusion chatrooms gaming special interest futurelab talking others much learning achieved thinks mr owen  game trialled two secondary schools bristol feedback students positive pupils used statistics work best way build cars online message board share ideas support said ben williamson researcher futurelab charged testing game real schools dr gavin thinks game satisfies teachers need learning outcomes childrens desire rise challenge games classroom need support teacher giving children free rein play game recognising games attract attention offer challenge said professor angela macfarlane based bristol university spent several years researching games incorporated classrooms  use games schools patchy found sim city proving popular traditionally schools eschewed mainstream games favour used socalled edutainment software belief packages help make learning fun found research perhaps compromise edutainment mainstream games greatest potential classroom useable games lies wrote paper entitled games learning lite versions existing games could way forward would overcome one biggest hurdles  persuading developers write educational market would appeal developers low costs involved adapting well offering new opportunity marketing already games market civilisation age empire educational elements said mr owen even grand theft auto violence engages people said could time particular game makes classroom though \",\n          \"custody death rate shocks mps  deaths custody reached shocking levels committee mps peers warned  joint committee human rights found committing suicide mainly vulnerable mental health drugs alcohol problems members urged government set task force tackle deaths prisons police cells detention centres special hospitals one prison suicide every four days   mps said report followed yearlong inquiry committee found high death rate amounts serious failure protect right life highly vulnerable group  many ended taking lives presented authorities problems even offended report said questioned whether prison appropriate place kept whether earlier intervention would meant custody could avoided  increased resources reduction use imprisonment needed address issue longer term report said committee chairman labour mp jean corston said every death custody death many regardless circumstances  yet throughout inquiry seen time time extremely vulnerable people entering custody history mental illness drug alcohol problems potential taking lives highly vulnerable people held within structure glaringly illsuited meet even basic needs crime levels falling holding people custody ever misplaced overreliance prison system vulnerable people country heart problems encountered change whole approach imprisoning vulnerable people cannot begin meet positive obligations article  european convention human rights meet duty care  committee also highlighted deeply worrying cases children young people taking lives    children taken lives prison two died secure training centres picked case joseph scholes hanged bars cell stoke heath young offender institution march  urged home secretary hold public inquiry revealed two weeks court appearance series robberies yearold depressed exhibiting suicidal tendencies slashed face knife  times even though trial judge alerted experience sexual abuse mental illness sentenced twoyear detention training order nine days sentence joseph hung bars cell window sheet \",\n          \"cage films third week us top  nicolas cage movie national treasure topped us canada box office third week row  national treasure made   ticket sales friday sunday according studio estimates taking total   comedy christmas kranks starring tim allen jamie lee curtis second place polar express entered third place jude law film closer made debut number six  oliver stones bigbudget epic alexander starring colin farrell followed last weeks disappointing sixthplace opening slump seventh place takings   critics savaged threehour epic reportedly cost   make national treasure sees cages character ben gates chase hidden fortune made disney studios cages fourth collaboration jerry bruckheimer usually noted maleorientated action films \"\n        ],\n        \"semantic_type\": \"\",\n        \"description\": \"\"\n      }\n    },\n    {\n      \"column\": \"lemmatization\",\n      \"properties\": {\n        \"dtype\": \"string\",\n        \"num_unique_values\": 2120,\n        \"samples\": [\n          \"indy buy india paper  irish publishing group independent news  medium buying  stake indian newspaper company jagran deal worth  euro   jagran publishes india topselling daily newspaper hindilanguage dainik jagran circulation  year news deal came group announced result would meet market forecast company reported strong revenue growth across major market  group advertising revenue  yearonyear group said overall circulation revenue expected increase almost  yearonyear helped positive impact compact newspaper edition ireland uk said  proven important year independent news  medium said chief executive sir anthony oreilly simple aim independent low cost producer every region operate confident show meaningful increase earnings   meanwhile group made comment future independent newspaper despite recent speculation sir anthony held talk potential buyer stake daily publication consistently denied suggestion independent independent sunday sale buy understood recent success smaller edition independent pushed circulation   prompted interest industry rival daily mail  general trust tipped likely suitor lossmaking newspaper expected reach breakeven  \",\n          \"csa chief quit still job  head failing child support agency widely reported resigned three month ago still helm troubled organisation  doug smith departure announced work secretary alan johnson  november mp grilled agency poor performance resignation referred tory lib dem leader day prime minister question official say resign move civil service rule  mr smith departure reported widely time shouldering blame failing child support agency january mp make common work pension committee published highly critical report failing agency noting chief executive left hoping new leadership bring fresh approach failing organisation  day today programme mr johnson asked mr smith allowed resign rather sacked replied chief executive decided time move new chief executive coming emerges widespread belief mr smith made commander order bath new year honour left wrong department work pension spokeswoman confirmed mr smith still post would continue job replacement found date ever given doug smith departure said adding post advertised  tory work pension spokesman david willetts said family affected csa failing would wonder mr smith still job three month departure announced csa surrounded controversy since introduction  ass enforce child support payment absent parent  work pension committee launched inquiry csas performance became clear despite introduction simpler system calculating maintenance payment new case  backlog claim still building currently chasing outstanding payment   designated unrecoverable mp found american giant ed  system nowhere near fully functional number dissatisfied disenchanted angry customer continues escalate  november surprised mp watching medium announcing mr smith departure mr johnson said tell doug decided time stand aside allow new chief executive tackle challenge ahead doug exceeded four year senior civil servant expected remain particular post doug belief reached natural breakpoint hand rein lib dem sir archy kirkwood chair common work pension committee said mr johnson announced mr smith going got clear impression csa chief retiring though since emerged case may seeking new employment opportunity  added committee duty bound allow work pension secretary get new management place csa would premature say anything issue moment committee member tory mp nigel waterson said amazed mr smith still job mr smith secretary state came give evidence led believe going shortly said even working three month notice clearing desk asked thursday mr smith position mr johnson told bbc radio  world one thought nonstory added absolutely open announced mr smith departure select committee people chose interpret different thing major issue got new chief executive coming important agency quickly possible gone right selection process make sure weve got right people added \",\n          \"cage film third week u top  nicolas cage movie national treasure topped u canada box office third week row  national treasure made   ticket sale friday sunday according studio estimate taking total   comedy christmas kranks starring tim allen jamie lee curtis second place polar express entered third place jude law film closer made debut number six  oliver stone bigbudget epic alexander starring colin farrell followed last week disappointing sixthplace opening slump seventh place taking   critic savaged threehour epic reportedly cost   make national treasure see cage character ben gate chase hidden fortune made disney studio cage fourth collaboration jerry bruckheimer usually noted maleorientated action film \"\n        ],\n        \"semantic_type\": \"\",\n        \"description\": \"\"\n      }\n    },\n    {\n      \"column\": \"final_text\",\n      \"properties\": {\n        \"dtype\": \"string\",\n        \"num_unique_values\": 2120,\n        \"samples\": [\n          \"indy buy india paper  irish publishing group independent news  medium buying  stake indian newspaper company jagran deal worth  euro   jagran publishes india topselling daily newspaper hindilanguage dainik jagran circulation  year news deal came group announced result would meet market forecast company reported strong revenue growth across major market  group advertising revenue  yearonyear group said overall circulation revenue expected increase almost  yearonyear helped positive impact compact newspaper edition ireland uk said  proven important year independent news  medium said chief executive sir anthony oreilly simple aim independent low cost producer every region operate confident show meaningful increase earnings   meanwhile group made comment future independent newspaper despite recent speculation sir anthony held talk potential buyer stake daily publication consistently denied suggestion independent independent sunday sale buy understood recent success smaller edition independent pushed circulation   prompted interest industry rival daily mail  general trust tipped likely suitor lossmaking newspaper expected reach breakeven  \",\n          \"csa chief quit still job  head failing child support agency widely reported resigned three month ago still helm troubled organisation  doug smith departure announced work secretary alan johnson  november mp grilled agency poor performance resignation referred tory lib dem leader day prime minister question official say resign move civil service rule  mr smith departure reported widely time shouldering blame failing child support agency january mp make common work pension committee published highly critical report failing agency noting chief executive left hoping new leadership bring fresh approach failing organisation  day today programme mr johnson asked mr smith allowed resign rather sacked replied chief executive decided time move new chief executive coming emerges widespread belief mr smith made commander order bath new year honour left wrong department work pension spokeswoman confirmed mr smith still post would continue job replacement found date ever given doug smith departure said adding post advertised  tory work pension spokesman david willetts said family affected csa failing would wonder mr smith still job three month departure announced csa surrounded controversy since introduction  as enforce child support payment absent parent  work pension committee launched inquiry csas performance became clear despite introduction simpler system calculating maintenance payment new case  backlog claim still building currently chasing outstanding payment   designated unrecoverable mp found american giant ed  system nowhere near fully functional number dissatisfied disenchanted angry customer continues escalate  november surprised mp watching medium announcing mr smith departure mr johnson said tell doug decided time stand aside allow new chief executive tackle challenge ahead doug exceeded four year senior civil servant expected remain particular post doug belief reached natural breakpoint hand rein lib dem sir archy kirkwood chair common work pension committee said mr johnson announced mr smith going got clear impression csa chief retiring though since emerged case may seeking new employment opportunity  added committee duty bound allow work pension secretary get new management place csa would premature say anything issue moment committee member tory mp nigel waterson said amazed mr smith still job mr smith secretary state came give evidence led believe going shortly said even working three month notice clearing desk asked thursday mr smith position mr johnson told bbc radio  world one thought nonstory added absolutely open announced mr smith departure select committee people chose interpret different thing major issue got new chief executive coming important agency quickly possible gone right selection process make sure weve got right people added \",\n          \"cage film third week u top  nicolas cage movie national treasure topped u canada box office third week row  national treasure made   ticket sale friday sunday according studio estimate taking total   comedy christmas kranks starring tim allen jamie lee curtis second place polar express entered third place jude law film closer made debut number six  oliver stone bigbudget epic alexander starring colin farrell followed last week disappointing sixthplace opening slump seventh place taking   critic savaged threehour epic reportedly cost   make national treasure see cage character ben gate chase hidden fortune made disney studio cage fourth collaboration jerry bruckheimer usually noted maleorientated action film \"\n        ],\n        \"semantic_type\": \"\",\n        \"description\": \"\"\n      }\n    }\n  ]\n}"
            }
          },
          "metadata": {},
          "execution_count": 12
        }
      ]
    },
    {
      "cell_type": "code",
      "source": [
        "# For simple purpose, I start to try based on TF-IDF Vectorizer\n",
        "vectorizer = TfidfVectorizer()"
      ],
      "metadata": {
        "id": "pzi2_z24_RvX"
      },
      "execution_count": null,
      "outputs": []
    },
    {
      "cell_type": "markdown",
      "source": [
        "## Modelling"
      ],
      "metadata": {
        "id": "FtJFzSMiFmkR"
      }
    },
    {
      "cell_type": "code",
      "source": [
        "X_train, X_val, y_train, y_val = train_test_split(text_data['final_text'], text_data['labels'],\n",
        "                                                  test_size=0.1,\n",
        "                                                  random_state=123\n",
        "                                                  )"
      ],
      "metadata": {
        "id": "r4umjuCD_vDT"
      },
      "execution_count": null,
      "outputs": []
    },
    {
      "cell_type": "code",
      "source": [
        "vecX_train = vectorizer.fit_transform(X_train)\n",
        "vecX_test  = vectorizer.transform(X_val)"
      ],
      "metadata": {
        "id": "RvCNkuJjAGId"
      },
      "execution_count": null,
      "outputs": []
    },
    {
      "cell_type": "code",
      "source": [
        "\n",
        "vecy_train = np.array(y_train)\n",
        "vecy_test  = np.array(y_val)"
      ],
      "metadata": {
        "id": "yMHYhN2mA28Y"
      },
      "execution_count": null,
      "outputs": []
    },
    {
      "cell_type": "code",
      "source": [
        "document_class1 = DecisionTreeClassifier(random_state=123)"
      ],
      "metadata": {
        "id": "0dBN8NNsAilq"
      },
      "execution_count": null,
      "outputs": []
    },
    {
      "cell_type": "code",
      "source": [
        "cv_score = cross_val_score(X=vecX_train,\n",
        "                           y=vecy_train,\n",
        "                           estimator=document_class1,\n",
        "                           scoring='f1_micro',\n",
        "                           cv=5\n",
        "                           )"
      ],
      "metadata": {
        "id": "CmjTMA80a8dH"
      },
      "execution_count": null,
      "outputs": []
    },
    {
      "cell_type": "code",
      "source": [
        "print(cv_score)"
      ],
      "metadata": {
        "colab": {
          "base_uri": "https://localhost:8080/"
        },
        "id": "uv6ovFw-bBse",
        "outputId": "f1cd5b16-1452-4905-b215-50906d97807f"
      },
      "execution_count": null,
      "outputs": [
        {
          "output_type": "stream",
          "name": "stdout",
          "text": [
            "[0.81795511 0.87032419 0.8425     0.8825     0.835     ]\n"
          ]
        }
      ]
    },
    {
      "cell_type": "code",
      "source": [
        "document_class1.fit(vecX_train, vecy_train)\n",
        "predict = document_class1.predict(vecX_train)"
      ],
      "metadata": {
        "id": "f-6HvFm_B7Ns"
      },
      "execution_count": null,
      "outputs": []
    },
    {
      "cell_type": "code",
      "source": [
        "test_predict = document_class1.predict(vecX_test)"
      ],
      "metadata": {
        "id": "fVeqkKTDC6X1"
      },
      "execution_count": null,
      "outputs": []
    },
    {
      "cell_type": "code",
      "source": [
        "# Evaluate on validation set\n",
        "accuracy = accuracy_score(vecy_test, test_predict)\n",
        "print(f\"Validation Accuracy: {accuracy}\")\n",
        "\n",
        "# Detailed classification report\n",
        "print(classification_report(vecy_test, test_predict))\n",
        "\n",
        "# There are potential several problems\n",
        "# 1. TF-IDF is way too simple for complicated news\n",
        "# 2. Decision tree could not generalize well (I think this is the symptom, though)\n",
        "# 3. Probably lemmatization is not good enough for this problem?"
      ],
      "metadata": {
        "colab": {
          "base_uri": "https://localhost:8080/"
        },
        "id": "K_ZsT6ivDDUq",
        "outputId": "0cc87620-b449-42db-f7a8-e957a929de3a"
      },
      "execution_count": null,
      "outputs": [
        {
          "output_type": "stream",
          "name": "stdout",
          "text": [
            "Validation Accuracy: 0.8968609865470852\n",
            "               precision    recall  f1-score   support\n",
            "\n",
            "     business       0.84      0.85      0.84        54\n",
            "entertainment       0.88      0.85      0.87        34\n",
            "     politics       0.93      0.93      0.93        43\n",
            "        sport       0.92      0.97      0.94        62\n",
            "         tech       0.93      0.83      0.88        30\n",
            "\n",
            "     accuracy                           0.90       223\n",
            "    macro avg       0.90      0.89      0.89       223\n",
            " weighted avg       0.90      0.90      0.90       223\n",
            "\n"
          ]
        }
      ]
    },
    {
      "cell_type": "markdown",
      "source": [
        "If we interpret the model's metrics as one-vs-rest, here's what I got:\n",
        "1. **Business**\n",
        "\n",
        "> It has 0.84 precision. Meaning that model correctly classifies 84% of business label has \"business-content\". Note that 16% of the rest are necessarily not business content, however our model classifies it as a \"business\" (false positive).\n",
        "\n",
        "> It has 0.85 recall. Meaning that model correctly classifies 85% \"business-content\" as a business label. Note that rest 15% of \"business-content\" arent labelled as a business label (false negative).\n",
        "\n",
        "2. **Entertainment**\n",
        "\n",
        "> It has 0.88 recall. Meaning that model correctly classifies 88% of entertainment label has \"entertainment-content\". Note that 12% of the rest are necessarily not entertainment content, however our model classifies it as a \"business\" (false positive).\n",
        "\n",
        "> It has 0.85 recall. Meaning that model correctly classifies 85% \"entertainment-content\" as a entertainment label. Note that rest 15% of \"entertainment-content\" arent labelled as a entertainment label (false negative).\n",
        "\n",
        "3. **Politics**\n",
        "\n",
        "> It has 0.93 precision. Meaning that model correctly classifies 93% of politics label has \"politics-content\". Note that 7% of the rest are necessarily not politics content, however our model classifies it as a \"politics\" (false positive).\n",
        "\n",
        "> It has 0.93 recall. Meaning that model correctly classifies 93% \"politics-content\" as a politics label. Note that rest 7% of \"politics-content\" arent labelled as a politics label (false negative). It is the most consistent one. Maybe it has more nuanced words, that model knows for certain it is political content.\n",
        "\n",
        "4. **Sport**\n",
        "\n",
        "> It has 0.92 precision. Meaning that model correctly classifies 92% of sport label has \"sport-content\". Note that 8% of the rest are necessarily not sport content, however our model classifies it as a \"sport\" (false positive).\n",
        "\n",
        "> It has 0.97 recall. Meaning that model correctly classifies 97% \"sport-content\" as a sport label. Note that rest 3% of \"sport-content\" arent labelled as a sport label (false negative). The model knows the most what are sport content. It quickly acknowledges it. However, in precision we know that 8% of sport-label arent containing \"sport-content\". There are content that have sport-content terms. This is the caveat of TF-IDF feature extractor, it relies a lot on terms distribution.\n",
        "\n",
        "5. **Tech**\n",
        "\n",
        "> It has 0.93 precision. Meaning that model correctly classifies 93% of tech label has \"tech-content\". Note that 7% of the rest are necessarily not tech content, however our model classifies it as a \"tech\" (false positive).\n",
        "\n",
        "> It has 0.83 recall. Meaning that model correctly classifies 83% \"tech-content\" as a tech label. Note that rest 17% of \"tech-content\" arent labelled as a tech label (false negative). I kinda get it why this happened, because tech-related content oftenly relates on business nor politics: such as The Fed rate, startups-based tech updates, global capital venture that invest to tech updates, etc.\n",
        "\n",
        "Note that the interpretation is not entirely zero-sum game. For example, I could not accuse the lost of 7% political content are on business label."
      ],
      "metadata": {
        "id": "Y0A99tnncAQM"
      }
    },
    {
      "cell_type": "markdown",
      "source": [
        "## Test accuracy on another pre-prop\n",
        "I want to test whether cleaned_text (no punctuation marks) and no stopwords-only results the same"
      ],
      "metadata": {
        "id": "xaEfSCHxX9qu"
      }
    },
    {
      "cell_type": "code",
      "source": [
        "# Testing no punct-only\n",
        "X_train1, X_val1, y_train1, y_val1 = train_test_split(text_data['cleaned_text'], text_data['labels'],\n",
        "                                                      test_size=0.1,\n",
        "                                                      random_state=123\n",
        "                                                      )"
      ],
      "metadata": {
        "id": "TnL7OTFxX4bJ"
      },
      "execution_count": null,
      "outputs": []
    },
    {
      "cell_type": "code",
      "source": [
        "vecX_train1 = vectorizer.fit_transform(X_train1)\n",
        "vecX_test1  = vectorizer.transform(X_val1)"
      ],
      "metadata": {
        "id": "fqZ7zaiCYgez"
      },
      "execution_count": null,
      "outputs": []
    },
    {
      "cell_type": "code",
      "source": [
        "vecy_train1 = np.array(y_train1)\n",
        "vecy_test1  = np.array(y_val1)"
      ],
      "metadata": {
        "id": "ocwHeH0fYsox"
      },
      "execution_count": null,
      "outputs": []
    },
    {
      "cell_type": "code",
      "source": [
        "document_class1 = DecisionTreeClassifier(random_state=123)"
      ],
      "metadata": {
        "id": "npm6eZDkYv4_"
      },
      "execution_count": null,
      "outputs": []
    },
    {
      "cell_type": "code",
      "source": [
        "# Cross validation\n",
        "cv_score = cross_val_score(X=vecX_train1,\n",
        "                           y=vecy_train1,\n",
        "                           estimator=document_class1,\n",
        "                           scoring='f1_micro',\n",
        "                           cv=5\n",
        "                           )"
      ],
      "metadata": {
        "id": "HoM7oqFPY3TZ"
      },
      "execution_count": null,
      "outputs": []
    },
    {
      "cell_type": "code",
      "source": [
        "print(cv_score)"
      ],
      "metadata": {
        "colab": {
          "base_uri": "https://localhost:8080/"
        },
        "id": "Gfe3pkyWaElz",
        "outputId": "460d7b8e-ef63-4bfe-daeb-c8e6ff4cdf0c"
      },
      "execution_count": null,
      "outputs": [
        {
          "output_type": "stream",
          "name": "stdout",
          "text": [
            "[0.74812968 0.79052369 0.8025     0.825      0.7975    ]\n"
          ]
        }
      ]
    },
    {
      "cell_type": "code",
      "source": [
        "# Testing no stop words-only\n",
        "X_train2, X_val2, y_train2, y_val2 = train_test_split(text_data['no_stopwords'], text_data['labels'],\n",
        "                                                      test_size=0.1,\n",
        "                                                      random_state=123\n",
        "                                                      )"
      ],
      "metadata": {
        "id": "-DCKuitXaRl5"
      },
      "execution_count": null,
      "outputs": []
    },
    {
      "cell_type": "code",
      "source": [
        "vecX_train2 = vectorizer.fit_transform(X_train2)\n",
        "vecX_test2  = vectorizer.transform(X_val2)"
      ],
      "metadata": {
        "id": "2cmErbahaa7V"
      },
      "execution_count": null,
      "outputs": []
    },
    {
      "cell_type": "code",
      "source": [
        "vecX_train"
      ],
      "metadata": {
        "colab": {
          "base_uri": "https://localhost:8080/"
        },
        "id": "vJVKtbS1jAEz",
        "outputId": "c3888ba7-435f-4e68-f459-064ca8d191aa"
      },
      "execution_count": null,
      "outputs": [
        {
          "output_type": "execute_result",
          "data": {
            "text/plain": [
              "<2002x26559 sparse matrix of type '<class 'numpy.float64'>'\n",
              "\twith 296592 stored elements in Compressed Sparse Row format>"
            ]
          },
          "metadata": {},
          "execution_count": 54
        }
      ]
    },
    {
      "cell_type": "code",
      "source": [
        "vecy_train2 = np.array(y_train2)\n",
        "vecy_test2  = np.array(y_val2)"
      ],
      "metadata": {
        "id": "xbBaudyxamMp"
      },
      "execution_count": null,
      "outputs": []
    },
    {
      "cell_type": "code",
      "source": [
        "cv_score = cross_val_score(X=vecX_train2,\n",
        "                           y=vecy_train2,\n",
        "                           estimator=document_class1,\n",
        "                           scoring='f1_micro',\n",
        "                           cv=5\n",
        "                           )"
      ],
      "metadata": {
        "id": "8o5MxZCcaqle"
      },
      "execution_count": null,
      "outputs": []
    },
    {
      "cell_type": "code",
      "source": [
        "print(cv_score)"
      ],
      "metadata": {
        "colab": {
          "base_uri": "https://localhost:8080/"
        },
        "id": "Z7YnaLTIateq",
        "outputId": "e441a25c-f563-49d6-fd91-089bb2e5c53d"
      },
      "execution_count": null,
      "outputs": [
        {
          "output_type": "stream",
          "name": "stdout",
          "text": [
            "[0.77057357 0.80049875 0.8275     0.8475     0.8075    ]\n"
          ]
        }
      ]
    },
    {
      "cell_type": "markdown",
      "source": [
        "Based on the cross validation scores, they confirm that cleaning text up to lemmatization is indeed a bare minimum of text-processing..."
      ],
      "metadata": {
        "id": "xhU1UjSNaQwr"
      }
    },
    {
      "cell_type": "markdown",
      "source": [
        "# Apply Embedding\n",
        "One of most famous embeddings is Word2Vec. It has two variations: relies on skip-gram model or continuous bag of words (CBOW). It extract features within document from its corpus to evaluate their similarity (in form of vector space: evaluated by vector dot product nor cosine similarity). It is powerful for semantic meaning (capture more context rather than just relying on words distribution).\n",
        "\n",
        "Talking about distance metrics for text:\n",
        "- Dot product of two text vectors: dot product is computationally more cheap, but it accounts magnitude of vectors. Though two texts are similar, if one text has more frequency than others, it might affect the evaluation.\n",
        "- Cosine similarity: while this normalize magnitudes, it is computationally more \"expensive\".\n",
        "Source: https://datascience.stackexchange.com/questions/744/cosine-similarity-versus-dot-product-as-distance-metrics\n",
        "\n",
        "Embeddings are strongly recommended feature-extraction before applying any deep learning structure. Because it is a dense matrix, thus channels for backprop could be found effectively.\n",
        "\n",
        "More notes about skip-gram and CBOW:\n",
        "- Both uses deep learning architecture, relatively simple one\n",
        "- Skip-gram tries to predict context words given target words. CBOW tries to predict target words given context words (default algorithm)."
      ],
      "metadata": {
        "id": "eqDh_nBdbpvI"
      }
    },
    {
      "cell_type": "code",
      "source": [
        "def build_corpus(data):\n",
        "  corpus = []\n",
        "\n",
        "  # data['final_text'] is a series, hence I could not do any .iteritems()\n",
        "  for sentence in data['final_text']:\n",
        "    # Since I wont include blank space in the corpus\n",
        "    # I filter words only\n",
        "    # crude .split(\" \") will accrue blank space as a separate word\n",
        "      word_list = [word for word in sentence.split(\" \") if word]\n",
        "      corpus.append(word_list)\n",
        "  return corpus"
      ],
      "metadata": {
        "id": "fpAUcoi0fiml"
      },
      "execution_count": null,
      "outputs": []
    },
    {
      "cell_type": "code",
      "source": [
        "corpus = build_corpus(text_data)\n",
        "corpus[1][0:15]"
      ],
      "metadata": {
        "colab": {
          "base_uri": "https://localhost:8080/"
        },
        "id": "59AmsT2khc7G",
        "outputId": "4e0ee1da-b3ca-4ab1-82f4-2b9d7ca5394f"
      },
      "execution_count": null,
      "outputs": [
        {
          "output_type": "execute_result",
          "data": {
            "text/plain": [
              "['desire',\n",
              " 'number',\n",
              " 'one',\n",
              " 'three',\n",
              " 'prestigious',\n",
              " 'grammy',\n",
              " 'award',\n",
              " 'hit',\n",
              " 'vertigo',\n",
              " 'stubbornly',\n",
              " 'clinging',\n",
              " 'status',\n",
              " 'one',\n",
              " 'biggest',\n",
              " 'band']"
            ]
          },
          "metadata": {},
          "execution_count": 17
        }
      ]
    },
    {
      "cell_type": "code",
      "source": [
        "# Embedding is used for training data. Soon, I will split it to learn OOV (out-of-vocab)\n",
        "model = word2vec.Word2Vec(corpus,\n",
        "                          vector_size=10, # Dimensionality of word\n",
        "                          window=10, # How many words accounted to learn a word context\n",
        "                          min_count=2, # Words with less than 2 freqs will be ignored\n",
        "                          workers=4)\n",
        "\n",
        "# Array below is a feature representation of 'hit'\n",
        "model.wv['hit']"
      ],
      "metadata": {
        "colab": {
          "base_uri": "https://localhost:8080/"
        },
        "id": "iLxmHEqoir0-",
        "outputId": "f14249b6-3816-442e-aa89-19b11cb4dbe3"
      },
      "execution_count": null,
      "outputs": [
        {
          "output_type": "execute_result",
          "data": {
            "text/plain": [
              "array([ 0.83815014, -3.3375576 , -0.32498214,  0.22187428,  3.0209515 ,\n",
              "       -1.8358115 , -1.1694268 ,  2.826173  , -1.891367  ,  3.6616387 ],\n",
              "      dtype=float32)"
            ]
          },
          "metadata": {},
          "execution_count": 38
        }
      ]
    },
    {
      "cell_type": "code",
      "source": [
        "def tsne_plot(model):\n",
        "  \"Creates and TSNE model and plots it\"\n",
        "  '''\n",
        "    Since model 1 returns 10-dimension per word, we can't plot it on 2D plane.\n",
        "    Thus, it needs to be simplified on to 2D, using T-SNE.\n",
        "    Source: https://medium.com/swlh/word-embedding-word2vec-with-genism-nltk-and-t-sne-visualization-43eae8ab3e2e\n",
        "\n",
        "    The author wants to understand \"similarities\" between words. Oftenly used to understand\n",
        "    embeddings.\n",
        "  '''\n",
        "  labels = []\n",
        "  tokens = []\n",
        "\n",
        "  # .wv enables us to access words learned by model from the corpus\n",
        "  for word in model.wv.index_to_key:\n",
        "    # access that specific word from the corpus\n",
        "    # and append them on tokens' list\n",
        "    tokens.append(model.wv[word])\n",
        "    labels.append(word)\n",
        "\n",
        "  # Since TSNE needs to shape the array, I need to convert it to np.array instead of list\n",
        "  tokens = np.array(tokens)\n",
        "  tsne_model = TSNE(perplexity=40, n_components=2, init='pca',\n",
        "                    max_iter=250, random_state=23)\n",
        "  new_values = tsne_model.fit_transform(tokens)\n",
        "\n",
        "  x = new_values[:, 0]\n",
        "  y = new_values[:, 1]\n",
        "\n",
        "  plt.figure(figsize=(16, 16))\n",
        "  for i in range(len(x)):\n",
        "    plt.scatter(x[i],y[i])\n",
        "    plt.annotate(labels[i],\n",
        "                 xy=(x[i], y[i]),\n",
        "                 xytext=(5, 2),\n",
        "                 textcoords='offset points',\n",
        "                 ha='right',\n",
        "                 va='bottom'\n",
        "                 )\n",
        "  plt.show()\n",
        "  tsne_plot(model)"
      ],
      "metadata": {
        "id": "gOHtdYG6k2VL"
      },
      "execution_count": null,
      "outputs": []
    },
    {
      "cell_type": "code",
      "source": [
        "# Train the model based off the corpus\n",
        "model1 = word2vec.Word2Vec(corpus, vector_size=10, window=10, min_count=3, workers=4)\n",
        "tsne_plot(model1)"
      ],
      "metadata": {
        "colab": {
          "base_uri": "https://localhost:8080/",
          "height": 1000
        },
        "id": "hE7M81-vlGvz",
        "outputId": "a040a5e4-da81-4dc6-aaae-5bf738ca39f5"
      },
      "execution_count": null,
      "outputs": [
        {
          "output_type": "display_data",
          "data": {
            "text/plain": [
              "<Figure size 1600x1600 with 1 Axes>"
            ],
            "image/png": "[encoded data removed]"
          },
          "metadata": {}
        },
        {
          "output_type": "error",
          "ename": "KeyboardInterrupt",
          "evalue": "",
          "traceback": [
            "\u001b[0;31m---------------------------------------------------------------------------\u001b[0m",
            "\u001b[0;31mKeyboardInterrupt\u001b[0m                         Traceback (most recent call last)",
            "\u001b[0;32m<ipython-input-26-17a4e852b752>\u001b[0m in \u001b[0;36m<cell line: 3>\u001b[0;34m()\u001b[0m\n\u001b[1;32m      1\u001b[0m \u001b[0;31m# Train the model based off the corpus\u001b[0m\u001b[0;34m\u001b[0m\u001b[0;34m\u001b[0m\u001b[0m\n\u001b[1;32m      2\u001b[0m \u001b[0mmodel1\u001b[0m \u001b[0;34m=\u001b[0m \u001b[0mword2vec\u001b[0m\u001b[0;34m.\u001b[0m\u001b[0mWord2Vec\u001b[0m\u001b[0;34m(\u001b[0m\u001b[0mcorpus\u001b[0m\u001b[0;34m,\u001b[0m \u001b[0mvector_size\u001b[0m\u001b[0;34m=\u001b[0m\u001b[0;36m10\u001b[0m\u001b[0;34m,\u001b[0m \u001b[0mwindow\u001b[0m\u001b[0;34m=\u001b[0m\u001b[0;36m10\u001b[0m\u001b[0;34m,\u001b[0m \u001b[0mmin_count\u001b[0m\u001b[0;34m=\u001b[0m\u001b[0;36m3\u001b[0m\u001b[0;34m,\u001b[0m \u001b[0mworkers\u001b[0m\u001b[0;34m=\u001b[0m\u001b[0;36m4\u001b[0m\u001b[0;34m)\u001b[0m\u001b[0;34m\u001b[0m\u001b[0;34m\u001b[0m\u001b[0m\n\u001b[0;32m----> 3\u001b[0;31m \u001b[0mtsne_plot\u001b[0m\u001b[0;34m(\u001b[0m\u001b[0mmodel1\u001b[0m\u001b[0;34m)\u001b[0m\u001b[0;34m\u001b[0m\u001b[0;34m\u001b[0m\u001b[0m\n\u001b[0m",
            "\u001b[0;32m<ipython-input-25-d0f0e0585eab>\u001b[0m in \u001b[0;36mtsne_plot\u001b[0;34m(model)\u001b[0m\n\u001b[1;32m     42\u001b[0m                  )\n\u001b[1;32m     43\u001b[0m   \u001b[0mplt\u001b[0m\u001b[0;34m.\u001b[0m\u001b[0mshow\u001b[0m\u001b[0;34m(\u001b[0m\u001b[0;34m)\u001b[0m\u001b[0;34m\u001b[0m\u001b[0;34m\u001b[0m\u001b[0m\n\u001b[0;32m---> 44\u001b[0;31m   \u001b[0mtsne_plot\u001b[0m\u001b[0;34m(\u001b[0m\u001b[0mmodel\u001b[0m\u001b[0;34m)\u001b[0m\u001b[0;34m\u001b[0m\u001b[0;34m\u001b[0m\u001b[0m\n\u001b[0m",
            "\u001b[0;32m<ipython-input-25-d0f0e0585eab>\u001b[0m in \u001b[0;36mtsne_plot\u001b[0;34m(model)\u001b[0m\n\u001b[1;32m     33\u001b[0m   \u001b[0mplt\u001b[0m\u001b[0;34m.\u001b[0m\u001b[0mfigure\u001b[0m\u001b[0;34m(\u001b[0m\u001b[0mfigsize\u001b[0m\u001b[0;34m=\u001b[0m\u001b[0;34m(\u001b[0m\u001b[0;36m16\u001b[0m\u001b[0;34m,\u001b[0m \u001b[0;36m16\u001b[0m\u001b[0;34m)\u001b[0m\u001b[0;34m)\u001b[0m\u001b[0;34m\u001b[0m\u001b[0;34m\u001b[0m\u001b[0m\n\u001b[1;32m     34\u001b[0m   \u001b[0;32mfor\u001b[0m \u001b[0mi\u001b[0m \u001b[0;32min\u001b[0m \u001b[0mrange\u001b[0m\u001b[0;34m(\u001b[0m\u001b[0mlen\u001b[0m\u001b[0;34m(\u001b[0m\u001b[0mx\u001b[0m\u001b[0;34m)\u001b[0m\u001b[0;34m)\u001b[0m\u001b[0;34m:\u001b[0m\u001b[0;34m\u001b[0m\u001b[0;34m\u001b[0m\u001b[0m\n\u001b[0;32m---> 35\u001b[0;31m     \u001b[0mplt\u001b[0m\u001b[0;34m.\u001b[0m\u001b[0mscatter\u001b[0m\u001b[0;34m(\u001b[0m\u001b[0mx\u001b[0m\u001b[0;34m[\u001b[0m\u001b[0mi\u001b[0m\u001b[0;34m]\u001b[0m\u001b[0;34m,\u001b[0m\u001b[0my\u001b[0m\u001b[0;34m[\u001b[0m\u001b[0mi\u001b[0m\u001b[0;34m]\u001b[0m\u001b[0;34m)\u001b[0m\u001b[0;34m\u001b[0m\u001b[0;34m\u001b[0m\u001b[0m\n\u001b[0m\u001b[1;32m     36\u001b[0m     plt.annotate(labels[i],\n\u001b[1;32m     37\u001b[0m                  \u001b[0mxy\u001b[0m\u001b[0;34m=\u001b[0m\u001b[0;34m(\u001b[0m\u001b[0mx\u001b[0m\u001b[0;34m[\u001b[0m\u001b[0mi\u001b[0m\u001b[0;34m]\u001b[0m\u001b[0;34m,\u001b[0m \u001b[0my\u001b[0m\u001b[0;34m[\u001b[0m\u001b[0mi\u001b[0m\u001b[0;34m]\u001b[0m\u001b[0;34m)\u001b[0m\u001b[0;34m,\u001b[0m\u001b[0;34m\u001b[0m\u001b[0;34m\u001b[0m\u001b[0m\n",
            "\u001b[0;32m/usr/local/lib/python3.10/dist-packages/matplotlib/pyplot.py\u001b[0m in \u001b[0;36mscatter\u001b[0;34m(x, y, s, c, marker, cmap, norm, vmin, vmax, alpha, linewidths, edgecolors, plotnonfinite, data, **kwargs)\u001b[0m\n\u001b[1;32m   2860\u001b[0m         \u001b[0mvmin\u001b[0m\u001b[0;34m=\u001b[0m\u001b[0;32mNone\u001b[0m\u001b[0;34m,\u001b[0m \u001b[0mvmax\u001b[0m\u001b[0;34m=\u001b[0m\u001b[0;32mNone\u001b[0m\u001b[0;34m,\u001b[0m \u001b[0malpha\u001b[0m\u001b[0;34m=\u001b[0m\u001b[0;32mNone\u001b[0m\u001b[0;34m,\u001b[0m \u001b[0mlinewidths\u001b[0m\u001b[0;34m=\u001b[0m\u001b[0;32mNone\u001b[0m\u001b[0;34m,\u001b[0m \u001b[0;34m*\u001b[0m\u001b[0;34m,\u001b[0m\u001b[0;34m\u001b[0m\u001b[0;34m\u001b[0m\u001b[0m\n\u001b[1;32m   2861\u001b[0m         edgecolors=None, plotnonfinite=False, data=None, **kwargs):\n\u001b[0;32m-> 2862\u001b[0;31m     __ret = gca().scatter(\n\u001b[0m\u001b[1;32m   2863\u001b[0m         \u001b[0mx\u001b[0m\u001b[0;34m,\u001b[0m \u001b[0my\u001b[0m\u001b[0;34m,\u001b[0m \u001b[0ms\u001b[0m\u001b[0;34m=\u001b[0m\u001b[0ms\u001b[0m\u001b[0;34m,\u001b[0m \u001b[0mc\u001b[0m\u001b[0;34m=\u001b[0m\u001b[0mc\u001b[0m\u001b[0;34m,\u001b[0m \u001b[0mmarker\u001b[0m\u001b[0;34m=\u001b[0m\u001b[0mmarker\u001b[0m\u001b[0;34m,\u001b[0m \u001b[0mcmap\u001b[0m\u001b[0;34m=\u001b[0m\u001b[0mcmap\u001b[0m\u001b[0;34m,\u001b[0m \u001b[0mnorm\u001b[0m\u001b[0;34m=\u001b[0m\u001b[0mnorm\u001b[0m\u001b[0;34m,\u001b[0m\u001b[0;34m\u001b[0m\u001b[0;34m\u001b[0m\u001b[0m\n\u001b[1;32m   2864\u001b[0m         \u001b[0mvmin\u001b[0m\u001b[0;34m=\u001b[0m\u001b[0mvmin\u001b[0m\u001b[0;34m,\u001b[0m \u001b[0mvmax\u001b[0m\u001b[0;34m=\u001b[0m\u001b[0mvmax\u001b[0m\u001b[0;34m,\u001b[0m \u001b[0malpha\u001b[0m\u001b[0;34m=\u001b[0m\u001b[0malpha\u001b[0m\u001b[0;34m,\u001b[0m \u001b[0mlinewidths\u001b[0m\u001b[0;34m=\u001b[0m\u001b[0mlinewidths\u001b[0m\u001b[0;34m,\u001b[0m\u001b[0;34m\u001b[0m\u001b[0;34m\u001b[0m\u001b[0m\n",
            "\u001b[0;32m/usr/local/lib/python3.10/dist-packages/matplotlib/__init__.py\u001b[0m in \u001b[0;36minner\u001b[0;34m(ax, data, *args, **kwargs)\u001b[0m\n\u001b[1;32m   1440\u001b[0m     \u001b[0;32mdef\u001b[0m \u001b[0minner\u001b[0m\u001b[0;34m(\u001b[0m\u001b[0max\u001b[0m\u001b[0;34m,\u001b[0m \u001b[0;34m*\u001b[0m\u001b[0margs\u001b[0m\u001b[0;34m,\u001b[0m \u001b[0mdata\u001b[0m\u001b[0;34m=\u001b[0m\u001b[0;32mNone\u001b[0m\u001b[0;34m,\u001b[0m \u001b[0;34m**\u001b[0m\u001b[0mkwargs\u001b[0m\u001b[0;34m)\u001b[0m\u001b[0;34m:\u001b[0m\u001b[0;34m\u001b[0m\u001b[0;34m\u001b[0m\u001b[0m\n\u001b[1;32m   1441\u001b[0m         \u001b[0;32mif\u001b[0m \u001b[0mdata\u001b[0m \u001b[0;32mis\u001b[0m \u001b[0;32mNone\u001b[0m\u001b[0;34m:\u001b[0m\u001b[0;34m\u001b[0m\u001b[0;34m\u001b[0m\u001b[0m\n\u001b[0;32m-> 1442\u001b[0;31m             \u001b[0;32mreturn\u001b[0m \u001b[0mfunc\u001b[0m\u001b[0;34m(\u001b[0m\u001b[0max\u001b[0m\u001b[0;34m,\u001b[0m \u001b[0;34m*\u001b[0m\u001b[0mmap\u001b[0m\u001b[0;34m(\u001b[0m\u001b[0msanitize_sequence\u001b[0m\u001b[0;34m,\u001b[0m \u001b[0margs\u001b[0m\u001b[0;34m)\u001b[0m\u001b[0;34m,\u001b[0m \u001b[0;34m**\u001b[0m\u001b[0mkwargs\u001b[0m\u001b[0;34m)\u001b[0m\u001b[0;34m\u001b[0m\u001b[0;34m\u001b[0m\u001b[0m\n\u001b[0m\u001b[1;32m   1443\u001b[0m \u001b[0;34m\u001b[0m\u001b[0m\n\u001b[1;32m   1444\u001b[0m         \u001b[0mbound\u001b[0m \u001b[0;34m=\u001b[0m \u001b[0mnew_sig\u001b[0m\u001b[0;34m.\u001b[0m\u001b[0mbind\u001b[0m\u001b[0;34m(\u001b[0m\u001b[0max\u001b[0m\u001b[0;34m,\u001b[0m \u001b[0;34m*\u001b[0m\u001b[0margs\u001b[0m\u001b[0;34m,\u001b[0m \u001b[0;34m**\u001b[0m\u001b[0mkwargs\u001b[0m\u001b[0;34m)\u001b[0m\u001b[0;34m\u001b[0m\u001b[0;34m\u001b[0m\u001b[0m\n",
            "\u001b[0;32m/usr/local/lib/python3.10/dist-packages/matplotlib/axes/_axes.py\u001b[0m in \u001b[0;36mscatter\u001b[0;34m(self, x, y, s, c, marker, cmap, norm, vmin, vmax, alpha, linewidths, edgecolors, plotnonfinite, **kwargs)\u001b[0m\n\u001b[1;32m   4709\u001b[0m                 \u001b[0mself\u001b[0m\u001b[0;34m.\u001b[0m\u001b[0mset_ymargin\u001b[0m\u001b[0;34m(\u001b[0m\u001b[0;36m0.05\u001b[0m\u001b[0;34m)\u001b[0m\u001b[0;34m\u001b[0m\u001b[0;34m\u001b[0m\u001b[0m\n\u001b[1;32m   4710\u001b[0m \u001b[0;34m\u001b[0m\u001b[0m\n\u001b[0;32m-> 4711\u001b[0;31m         \u001b[0mself\u001b[0m\u001b[0;34m.\u001b[0m\u001b[0madd_collection\u001b[0m\u001b[0;34m(\u001b[0m\u001b[0mcollection\u001b[0m\u001b[0;34m)\u001b[0m\u001b[0;34m\u001b[0m\u001b[0;34m\u001b[0m\u001b[0m\n\u001b[0m\u001b[1;32m   4712\u001b[0m         \u001b[0mself\u001b[0m\u001b[0;34m.\u001b[0m\u001b[0m_request_autoscale_view\u001b[0m\u001b[0;34m(\u001b[0m\u001b[0;34m)\u001b[0m\u001b[0;34m\u001b[0m\u001b[0;34m\u001b[0m\u001b[0m\n\u001b[1;32m   4713\u001b[0m \u001b[0;34m\u001b[0m\u001b[0m\n",
            "\u001b[0;32m/usr/local/lib/python3.10/dist-packages/matplotlib/axes/_base.py\u001b[0m in \u001b[0;36madd_collection\u001b[0;34m(self, collection, autolim)\u001b[0m\n\u001b[1;32m   2261\u001b[0m             \u001b[0;31m# Make sure viewLim is not stale (mostly to match\u001b[0m\u001b[0;34m\u001b[0m\u001b[0;34m\u001b[0m\u001b[0m\n\u001b[1;32m   2262\u001b[0m             \u001b[0;31m# pre-lazy-autoscale behavior, which is not really better).\u001b[0m\u001b[0;34m\u001b[0m\u001b[0;34m\u001b[0m\u001b[0m\n\u001b[0;32m-> 2263\u001b[0;31m             \u001b[0mself\u001b[0m\u001b[0;34m.\u001b[0m\u001b[0m_unstale_viewLim\u001b[0m\u001b[0;34m(\u001b[0m\u001b[0;34m)\u001b[0m\u001b[0;34m\u001b[0m\u001b[0;34m\u001b[0m\u001b[0m\n\u001b[0m\u001b[1;32m   2264\u001b[0m             \u001b[0mdatalim\u001b[0m \u001b[0;34m=\u001b[0m \u001b[0mcollection\u001b[0m\u001b[0;34m.\u001b[0m\u001b[0mget_datalim\u001b[0m\u001b[0;34m(\u001b[0m\u001b[0mself\u001b[0m\u001b[0;34m.\u001b[0m\u001b[0mtransData\u001b[0m\u001b[0;34m)\u001b[0m\u001b[0;34m\u001b[0m\u001b[0;34m\u001b[0m\u001b[0m\n\u001b[1;32m   2265\u001b[0m             \u001b[0mpoints\u001b[0m \u001b[0;34m=\u001b[0m \u001b[0mdatalim\u001b[0m\u001b[0;34m.\u001b[0m\u001b[0mget_points\u001b[0m\u001b[0;34m(\u001b[0m\u001b[0;34m)\u001b[0m\u001b[0;34m\u001b[0m\u001b[0;34m\u001b[0m\u001b[0m\n",
            "\u001b[0;32m/usr/local/lib/python3.10/dist-packages/matplotlib/axes/_base.py\u001b[0m in \u001b[0;36m_unstale_viewLim\u001b[0;34m(self)\u001b[0m\n\u001b[1;32m    850\u001b[0m                 \u001b[0;32mfor\u001b[0m \u001b[0max\u001b[0m \u001b[0;32min\u001b[0m \u001b[0mself\u001b[0m\u001b[0;34m.\u001b[0m\u001b[0m_shared_axes\u001b[0m\u001b[0;34m[\u001b[0m\u001b[0mname\u001b[0m\u001b[0;34m]\u001b[0m\u001b[0;34m.\u001b[0m\u001b[0mget_siblings\u001b[0m\u001b[0;34m(\u001b[0m\u001b[0mself\u001b[0m\u001b[0;34m)\u001b[0m\u001b[0;34m:\u001b[0m\u001b[0;34m\u001b[0m\u001b[0;34m\u001b[0m\u001b[0m\n\u001b[1;32m    851\u001b[0m                     \u001b[0max\u001b[0m\u001b[0;34m.\u001b[0m\u001b[0m_stale_viewlims\u001b[0m\u001b[0;34m[\u001b[0m\u001b[0mname\u001b[0m\u001b[0;34m]\u001b[0m \u001b[0;34m=\u001b[0m \u001b[0;32mFalse\u001b[0m\u001b[0;34m\u001b[0m\u001b[0;34m\u001b[0m\u001b[0m\n\u001b[0;32m--> 852\u001b[0;31m             self.autoscale_view(**{f\"scale{name}\": scale\n\u001b[0m\u001b[1;32m    853\u001b[0m                                    for name, scale in need_scale.items()})\n\u001b[1;32m    854\u001b[0m \u001b[0;34m\u001b[0m\u001b[0m\n",
            "\u001b[0;32m/usr/local/lib/python3.10/dist-packages/matplotlib/axes/_base.py\u001b[0m in \u001b[0;36mautoscale_view\u001b[0;34m(self, tight, scalex, scaley)\u001b[0m\n\u001b[1;32m   2852\u001b[0m         \u001b[0;32mif\u001b[0m \u001b[0mself\u001b[0m\u001b[0;34m.\u001b[0m\u001b[0muse_sticky_edges\u001b[0m\u001b[0;34m:\u001b[0m\u001b[0;34m\u001b[0m\u001b[0;34m\u001b[0m\u001b[0m\n\u001b[1;32m   2853\u001b[0m             \u001b[0;32mif\u001b[0m \u001b[0mself\u001b[0m\u001b[0;34m.\u001b[0m\u001b[0m_xmargin\u001b[0m \u001b[0;32mand\u001b[0m \u001b[0mscalex\u001b[0m \u001b[0;32mand\u001b[0m \u001b[0mself\u001b[0m\u001b[0;34m.\u001b[0m\u001b[0mget_autoscalex_on\u001b[0m\u001b[0;34m(\u001b[0m\u001b[0;34m)\u001b[0m\u001b[0;34m:\u001b[0m\u001b[0;34m\u001b[0m\u001b[0;34m\u001b[0m\u001b[0m\n\u001b[0;32m-> 2854\u001b[0;31m                 x_stickies = np.sort(np.concatenate([\n\u001b[0m\u001b[1;32m   2855\u001b[0m                     \u001b[0martist\u001b[0m\u001b[0;34m.\u001b[0m\u001b[0msticky_edges\u001b[0m\u001b[0;34m.\u001b[0m\u001b[0mx\u001b[0m\u001b[0;34m\u001b[0m\u001b[0;34m\u001b[0m\u001b[0m\n\u001b[1;32m   2856\u001b[0m                     \u001b[0;32mfor\u001b[0m \u001b[0max\u001b[0m \u001b[0;32min\u001b[0m \u001b[0mself\u001b[0m\u001b[0;34m.\u001b[0m\u001b[0m_shared_axes\u001b[0m\u001b[0;34m[\u001b[0m\u001b[0;34m\"x\"\u001b[0m\u001b[0;34m]\u001b[0m\u001b[0;34m.\u001b[0m\u001b[0mget_siblings\u001b[0m\u001b[0;34m(\u001b[0m\u001b[0mself\u001b[0m\u001b[0;34m)\u001b[0m\u001b[0;34m\u001b[0m\u001b[0;34m\u001b[0m\u001b[0m\n",
            "\u001b[0;32m/usr/local/lib/python3.10/dist-packages/matplotlib/axes/_base.py\u001b[0m in \u001b[0;36m<listcomp>\u001b[0;34m(.0)\u001b[0m\n\u001b[1;32m   2853\u001b[0m             \u001b[0;32mif\u001b[0m \u001b[0mself\u001b[0m\u001b[0;34m.\u001b[0m\u001b[0m_xmargin\u001b[0m \u001b[0;32mand\u001b[0m \u001b[0mscalex\u001b[0m \u001b[0;32mand\u001b[0m \u001b[0mself\u001b[0m\u001b[0;34m.\u001b[0m\u001b[0mget_autoscalex_on\u001b[0m\u001b[0;34m(\u001b[0m\u001b[0;34m)\u001b[0m\u001b[0;34m:\u001b[0m\u001b[0;34m\u001b[0m\u001b[0;34m\u001b[0m\u001b[0m\n\u001b[1;32m   2854\u001b[0m                 x_stickies = np.sort(np.concatenate([\n\u001b[0;32m-> 2855\u001b[0;31m                     \u001b[0martist\u001b[0m\u001b[0;34m.\u001b[0m\u001b[0msticky_edges\u001b[0m\u001b[0;34m.\u001b[0m\u001b[0mx\u001b[0m\u001b[0;34m\u001b[0m\u001b[0;34m\u001b[0m\u001b[0m\n\u001b[0m\u001b[1;32m   2856\u001b[0m                     \u001b[0;32mfor\u001b[0m \u001b[0max\u001b[0m \u001b[0;32min\u001b[0m \u001b[0mself\u001b[0m\u001b[0;34m.\u001b[0m\u001b[0m_shared_axes\u001b[0m\u001b[0;34m[\u001b[0m\u001b[0;34m\"x\"\u001b[0m\u001b[0;34m]\u001b[0m\u001b[0;34m.\u001b[0m\u001b[0mget_siblings\u001b[0m\u001b[0;34m(\u001b[0m\u001b[0mself\u001b[0m\u001b[0;34m)\u001b[0m\u001b[0;34m\u001b[0m\u001b[0;34m\u001b[0m\u001b[0m\n\u001b[1;32m   2857\u001b[0m                     for artist in ax.get_children()]))\n",
            "\u001b[0;32m/usr/local/lib/python3.10/dist-packages/matplotlib/artist.py\u001b[0m in \u001b[0;36msticky_edges\u001b[0;34m(self)\u001b[0m\n\u001b[1;32m   1130\u001b[0m         \u001b[0mself\u001b[0m\u001b[0;34m.\u001b[0m\u001b[0mstale\u001b[0m \u001b[0;34m=\u001b[0m \u001b[0;32mTrue\u001b[0m\u001b[0;34m\u001b[0m\u001b[0;34m\u001b[0m\u001b[0m\n\u001b[1;32m   1131\u001b[0m \u001b[0;34m\u001b[0m\u001b[0m\n\u001b[0;32m-> 1132\u001b[0;31m     \u001b[0;34m@\u001b[0m\u001b[0mproperty\u001b[0m\u001b[0;34m\u001b[0m\u001b[0;34m\u001b[0m\u001b[0m\n\u001b[0m\u001b[1;32m   1133\u001b[0m     \u001b[0;32mdef\u001b[0m \u001b[0msticky_edges\u001b[0m\u001b[0;34m(\u001b[0m\u001b[0mself\u001b[0m\u001b[0;34m)\u001b[0m\u001b[0;34m:\u001b[0m\u001b[0;34m\u001b[0m\u001b[0;34m\u001b[0m\u001b[0m\n\u001b[1;32m   1134\u001b[0m         \"\"\"\n",
            "\u001b[0;31mKeyboardInterrupt\u001b[0m: "
          ]
        },
        {
          "output_type": "stream",
          "name": "stdout",
          "text": [
            "Error in callback <function flush_figures at 0x7be3dff65ab0> (for post_execute):\n"
          ]
        },
        {
          "output_type": "error",
          "ename": "KeyboardInterrupt",
          "evalue": "",
          "traceback": [
            "\u001b[0;31m---------------------------------------------------------------------------\u001b[0m",
            "\u001b[0;31mKeyboardInterrupt\u001b[0m                         Traceback (most recent call last)",
            "\u001b[0;32m/usr/local/lib/python3.10/dist-packages/matplotlib_inline/backend_inline.py\u001b[0m in \u001b[0;36mflush_figures\u001b[0;34m()\u001b[0m\n\u001b[1;32m    124\u001b[0m             \u001b[0;31m# ignore the tracking, just draw and close all figures\u001b[0m\u001b[0;34m\u001b[0m\u001b[0;34m\u001b[0m\u001b[0m\n\u001b[1;32m    125\u001b[0m             \u001b[0;32mtry\u001b[0m\u001b[0;34m:\u001b[0m\u001b[0;34m\u001b[0m\u001b[0;34m\u001b[0m\u001b[0m\n\u001b[0;32m--> 126\u001b[0;31m                 \u001b[0;32mreturn\u001b[0m \u001b[0mshow\u001b[0m\u001b[0;34m(\u001b[0m\u001b[0;32mTrue\u001b[0m\u001b[0;34m)\u001b[0m\u001b[0;34m\u001b[0m\u001b[0;34m\u001b[0m\u001b[0m\n\u001b[0m\u001b[1;32m    127\u001b[0m             \u001b[0;32mexcept\u001b[0m \u001b[0mException\u001b[0m \u001b[0;32mas\u001b[0m \u001b[0me\u001b[0m\u001b[0;34m:\u001b[0m\u001b[0;34m\u001b[0m\u001b[0;34m\u001b[0m\u001b[0m\n\u001b[1;32m    128\u001b[0m                 \u001b[0;31m# safely show traceback if in IPython, else raise\u001b[0m\u001b[0;34m\u001b[0m\u001b[0;34m\u001b[0m\u001b[0m\n",
            "\u001b[0;32m/usr/local/lib/python3.10/dist-packages/matplotlib_inline/backend_inline.py\u001b[0m in \u001b[0;36mshow\u001b[0;34m(close, block)\u001b[0m\n\u001b[1;32m     88\u001b[0m     \u001b[0;32mtry\u001b[0m\u001b[0;34m:\u001b[0m\u001b[0;34m\u001b[0m\u001b[0;34m\u001b[0m\u001b[0m\n\u001b[1;32m     89\u001b[0m         \u001b[0;32mfor\u001b[0m \u001b[0mfigure_manager\u001b[0m \u001b[0;32min\u001b[0m \u001b[0mGcf\u001b[0m\u001b[0;34m.\u001b[0m\u001b[0mget_all_fig_managers\u001b[0m\u001b[0;34m(\u001b[0m\u001b[0;34m)\u001b[0m\u001b[0;34m:\u001b[0m\u001b[0;34m\u001b[0m\u001b[0;34m\u001b[0m\u001b[0m\n\u001b[0;32m---> 90\u001b[0;31m             display(\n\u001b[0m\u001b[1;32m     91\u001b[0m                 \u001b[0mfigure_manager\u001b[0m\u001b[0;34m.\u001b[0m\u001b[0mcanvas\u001b[0m\u001b[0;34m.\u001b[0m\u001b[0mfigure\u001b[0m\u001b[0;34m,\u001b[0m\u001b[0;34m\u001b[0m\u001b[0;34m\u001b[0m\u001b[0m\n\u001b[1;32m     92\u001b[0m                 \u001b[0mmetadata\u001b[0m\u001b[0;34m=\u001b[0m\u001b[0m_fetch_figure_metadata\u001b[0m\u001b[0;34m(\u001b[0m\u001b[0mfigure_manager\u001b[0m\u001b[0;34m.\u001b[0m\u001b[0mcanvas\u001b[0m\u001b[0;34m.\u001b[0m\u001b[0mfigure\u001b[0m\u001b[0;34m)\u001b[0m\u001b[0;34m\u001b[0m\u001b[0;34m\u001b[0m\u001b[0m\n",
            "\u001b[0;32m/usr/local/lib/python3.10/dist-packages/IPython/core/display.py\u001b[0m in \u001b[0;36mdisplay\u001b[0;34m(include, exclude, metadata, transient, display_id, *objs, **kwargs)\u001b[0m\n\u001b[1;32m    318\u001b[0m             \u001b[0mpublish_display_data\u001b[0m\u001b[0;34m(\u001b[0m\u001b[0mdata\u001b[0m\u001b[0;34m=\u001b[0m\u001b[0mobj\u001b[0m\u001b[0;34m,\u001b[0m \u001b[0mmetadata\u001b[0m\u001b[0;34m=\u001b[0m\u001b[0mmetadata\u001b[0m\u001b[0;34m,\u001b[0m \u001b[0;34m**\u001b[0m\u001b[0mkwargs\u001b[0m\u001b[0;34m)\u001b[0m\u001b[0;34m\u001b[0m\u001b[0;34m\u001b[0m\u001b[0m\n\u001b[1;32m    319\u001b[0m         \u001b[0;32melse\u001b[0m\u001b[0;34m:\u001b[0m\u001b[0;34m\u001b[0m\u001b[0;34m\u001b[0m\u001b[0m\n\u001b[0;32m--> 320\u001b[0;31m             \u001b[0mformat_dict\u001b[0m\u001b[0;34m,\u001b[0m \u001b[0mmd_dict\u001b[0m \u001b[0;34m=\u001b[0m \u001b[0mformat\u001b[0m\u001b[0;34m(\u001b[0m\u001b[0mobj\u001b[0m\u001b[0;34m,\u001b[0m \u001b[0minclude\u001b[0m\u001b[0;34m=\u001b[0m\u001b[0minclude\u001b[0m\u001b[0;34m,\u001b[0m \u001b[0mexclude\u001b[0m\u001b[0;34m=\u001b[0m\u001b[0mexclude\u001b[0m\u001b[0;34m)\u001b[0m\u001b[0;34m\u001b[0m\u001b[0;34m\u001b[0m\u001b[0m\n\u001b[0m\u001b[1;32m    321\u001b[0m             \u001b[0;32mif\u001b[0m \u001b[0;32mnot\u001b[0m \u001b[0mformat_dict\u001b[0m\u001b[0;34m:\u001b[0m\u001b[0;34m\u001b[0m\u001b[0;34m\u001b[0m\u001b[0m\n\u001b[1;32m    322\u001b[0m                 \u001b[0;31m# nothing to display (e.g. _ipython_display_ took over)\u001b[0m\u001b[0;34m\u001b[0m\u001b[0;34m\u001b[0m\u001b[0m\n",
            "\u001b[0;32m/usr/local/lib/python3.10/dist-packages/IPython/core/formatters.py\u001b[0m in \u001b[0;36mformat\u001b[0;34m(self, obj, include, exclude)\u001b[0m\n\u001b[1;32m    178\u001b[0m             \u001b[0mmd\u001b[0m \u001b[0;34m=\u001b[0m \u001b[0;32mNone\u001b[0m\u001b[0;34m\u001b[0m\u001b[0;34m\u001b[0m\u001b[0m\n\u001b[1;32m    179\u001b[0m             \u001b[0;32mtry\u001b[0m\u001b[0;34m:\u001b[0m\u001b[0;34m\u001b[0m\u001b[0;34m\u001b[0m\u001b[0m\n\u001b[0;32m--> 180\u001b[0;31m                 \u001b[0mdata\u001b[0m \u001b[0;34m=\u001b[0m \u001b[0mformatter\u001b[0m\u001b[0;34m(\u001b[0m\u001b[0mobj\u001b[0m\u001b[0;34m)\u001b[0m\u001b[0;34m\u001b[0m\u001b[0;34m\u001b[0m\u001b[0m\n\u001b[0m\u001b[1;32m    181\u001b[0m             \u001b[0;32mexcept\u001b[0m\u001b[0;34m:\u001b[0m\u001b[0;34m\u001b[0m\u001b[0;34m\u001b[0m\u001b[0m\n\u001b[1;32m    182\u001b[0m                 \u001b[0;31m# FIXME: log the exception\u001b[0m\u001b[0;34m\u001b[0m\u001b[0;34m\u001b[0m\u001b[0m\n",
            "\u001b[0;32m<decorator-gen-2>\u001b[0m in \u001b[0;36m__call__\u001b[0;34m(self, obj)\u001b[0m\n",
            "\u001b[0;32m/usr/local/lib/python3.10/dist-packages/IPython/core/formatters.py\u001b[0m in \u001b[0;36mcatch_format_error\u001b[0;34m(method, self, *args, **kwargs)\u001b[0m\n\u001b[1;32m    222\u001b[0m     \u001b[0;34m\"\"\"show traceback on failed format call\"\"\"\u001b[0m\u001b[0;34m\u001b[0m\u001b[0;34m\u001b[0m\u001b[0m\n\u001b[1;32m    223\u001b[0m     \u001b[0;32mtry\u001b[0m\u001b[0;34m:\u001b[0m\u001b[0;34m\u001b[0m\u001b[0;34m\u001b[0m\u001b[0m\n\u001b[0;32m--> 224\u001b[0;31m         \u001b[0mr\u001b[0m \u001b[0;34m=\u001b[0m \u001b[0mmethod\u001b[0m\u001b[0;34m(\u001b[0m\u001b[0mself\u001b[0m\u001b[0;34m,\u001b[0m \u001b[0;34m*\u001b[0m\u001b[0margs\u001b[0m\u001b[0;34m,\u001b[0m \u001b[0;34m**\u001b[0m\u001b[0mkwargs\u001b[0m\u001b[0;34m)\u001b[0m\u001b[0;34m\u001b[0m\u001b[0;34m\u001b[0m\u001b[0m\n\u001b[0m\u001b[1;32m    225\u001b[0m     \u001b[0;32mexcept\u001b[0m \u001b[0mNotImplementedError\u001b[0m\u001b[0;34m:\u001b[0m\u001b[0;34m\u001b[0m\u001b[0;34m\u001b[0m\u001b[0m\n\u001b[1;32m    226\u001b[0m         \u001b[0;31m# don't warn on NotImplementedErrors\u001b[0m\u001b[0;34m\u001b[0m\u001b[0;34m\u001b[0m\u001b[0m\n",
            "\u001b[0;32m/usr/local/lib/python3.10/dist-packages/IPython/core/formatters.py\u001b[0m in \u001b[0;36m__call__\u001b[0;34m(self, obj)\u001b[0m\n\u001b[1;32m    339\u001b[0m                 \u001b[0;32mpass\u001b[0m\u001b[0;34m\u001b[0m\u001b[0;34m\u001b[0m\u001b[0m\n\u001b[1;32m    340\u001b[0m             \u001b[0;32melse\u001b[0m\u001b[0;34m:\u001b[0m\u001b[0;34m\u001b[0m\u001b[0;34m\u001b[0m\u001b[0m\n\u001b[0;32m--> 341\u001b[0;31m                 \u001b[0;32mreturn\u001b[0m \u001b[0mprinter\u001b[0m\u001b[0;34m(\u001b[0m\u001b[0mobj\u001b[0m\u001b[0;34m)\u001b[0m\u001b[0;34m\u001b[0m\u001b[0;34m\u001b[0m\u001b[0m\n\u001b[0m\u001b[1;32m    342\u001b[0m             \u001b[0;31m# Finally look for special method names\u001b[0m\u001b[0;34m\u001b[0m\u001b[0;34m\u001b[0m\u001b[0m\n\u001b[1;32m    343\u001b[0m             \u001b[0mmethod\u001b[0m \u001b[0;34m=\u001b[0m \u001b[0mget_real_method\u001b[0m\u001b[0;34m(\u001b[0m\u001b[0mobj\u001b[0m\u001b[0;34m,\u001b[0m \u001b[0mself\u001b[0m\u001b[0;34m.\u001b[0m\u001b[0mprint_method\u001b[0m\u001b[0;34m)\u001b[0m\u001b[0;34m\u001b[0m\u001b[0;34m\u001b[0m\u001b[0m\n",
            "\u001b[0;32m/usr/local/lib/python3.10/dist-packages/IPython/core/pylabtools.py\u001b[0m in \u001b[0;36mprint_figure\u001b[0;34m(fig, fmt, bbox_inches, base64, **kwargs)\u001b[0m\n\u001b[1;32m    149\u001b[0m         \u001b[0mFigureCanvasBase\u001b[0m\u001b[0;34m(\u001b[0m\u001b[0mfig\u001b[0m\u001b[0;34m)\u001b[0m\u001b[0;34m\u001b[0m\u001b[0;34m\u001b[0m\u001b[0m\n\u001b[1;32m    150\u001b[0m \u001b[0;34m\u001b[0m\u001b[0m\n\u001b[0;32m--> 151\u001b[0;31m     \u001b[0mfig\u001b[0m\u001b[0;34m.\u001b[0m\u001b[0mcanvas\u001b[0m\u001b[0;34m.\u001b[0m\u001b[0mprint_figure\u001b[0m\u001b[0;34m(\u001b[0m\u001b[0mbytes_io\u001b[0m\u001b[0;34m,\u001b[0m \u001b[0;34m**\u001b[0m\u001b[0mkw\u001b[0m\u001b[0;34m)\u001b[0m\u001b[0;34m\u001b[0m\u001b[0;34m\u001b[0m\u001b[0m\n\u001b[0m\u001b[1;32m    152\u001b[0m     \u001b[0mdata\u001b[0m \u001b[0;34m=\u001b[0m \u001b[0mbytes_io\u001b[0m\u001b[0;34m.\u001b[0m\u001b[0mgetvalue\u001b[0m\u001b[0;34m(\u001b[0m\u001b[0;34m)\u001b[0m\u001b[0;34m\u001b[0m\u001b[0;34m\u001b[0m\u001b[0m\n\u001b[1;32m    153\u001b[0m     \u001b[0;32mif\u001b[0m \u001b[0mfmt\u001b[0m \u001b[0;34m==\u001b[0m \u001b[0;34m'svg'\u001b[0m\u001b[0;34m:\u001b[0m\u001b[0;34m\u001b[0m\u001b[0;34m\u001b[0m\u001b[0m\n",
            "\u001b[0;32m/usr/local/lib/python3.10/dist-packages/matplotlib/backend_bases.py\u001b[0m in \u001b[0;36mprint_figure\u001b[0;34m(self, filename, dpi, facecolor, edgecolor, orientation, format, bbox_inches, pad_inches, bbox_extra_artists, backend, **kwargs)\u001b[0m\n\u001b[1;32m   2364\u001b[0m                 \u001b[0;31m# force the figure dpi to 72), so we need to set it again here.\u001b[0m\u001b[0;34m\u001b[0m\u001b[0;34m\u001b[0m\u001b[0m\n\u001b[1;32m   2365\u001b[0m                 \u001b[0;32mwith\u001b[0m \u001b[0mcbook\u001b[0m\u001b[0;34m.\u001b[0m\u001b[0m_setattr_cm\u001b[0m\u001b[0;34m(\u001b[0m\u001b[0mself\u001b[0m\u001b[0;34m.\u001b[0m\u001b[0mfigure\u001b[0m\u001b[0;34m,\u001b[0m \u001b[0mdpi\u001b[0m\u001b[0;34m=\u001b[0m\u001b[0mdpi\u001b[0m\u001b[0;34m)\u001b[0m\u001b[0;34m:\u001b[0m\u001b[0;34m\u001b[0m\u001b[0;34m\u001b[0m\u001b[0m\n\u001b[0;32m-> 2366\u001b[0;31m                     result = print_method(\n\u001b[0m\u001b[1;32m   2367\u001b[0m                         \u001b[0mfilename\u001b[0m\u001b[0;34m,\u001b[0m\u001b[0;34m\u001b[0m\u001b[0;34m\u001b[0m\u001b[0m\n\u001b[1;32m   2368\u001b[0m                         \u001b[0mfacecolor\u001b[0m\u001b[0;34m=\u001b[0m\u001b[0mfacecolor\u001b[0m\u001b[0;34m,\u001b[0m\u001b[0;34m\u001b[0m\u001b[0;34m\u001b[0m\u001b[0m\n",
            "\u001b[0;32m/usr/local/lib/python3.10/dist-packages/matplotlib/backend_bases.py\u001b[0m in \u001b[0;36m<lambda>\u001b[0;34m(*args, **kwargs)\u001b[0m\n\u001b[1;32m   2230\u001b[0m                 \"bbox_inches_restore\"}\n\u001b[1;32m   2231\u001b[0m             \u001b[0mskip\u001b[0m \u001b[0;34m=\u001b[0m \u001b[0moptional_kws\u001b[0m \u001b[0;34m-\u001b[0m \u001b[0;34m{\u001b[0m\u001b[0;34m*\u001b[0m\u001b[0minspect\u001b[0m\u001b[0;34m.\u001b[0m\u001b[0msignature\u001b[0m\u001b[0;34m(\u001b[0m\u001b[0mmeth\u001b[0m\u001b[0;34m)\u001b[0m\u001b[0;34m.\u001b[0m\u001b[0mparameters\u001b[0m\u001b[0;34m}\u001b[0m\u001b[0;34m\u001b[0m\u001b[0;34m\u001b[0m\u001b[0m\n\u001b[0;32m-> 2232\u001b[0;31m             print_method = functools.wraps(meth)(lambda *args, **kwargs: meth(\n\u001b[0m\u001b[1;32m   2233\u001b[0m                 *args, **{k: v for k, v in kwargs.items() if k not in skip}))\n\u001b[1;32m   2234\u001b[0m         \u001b[0;32melse\u001b[0m\u001b[0;34m:\u001b[0m  \u001b[0;31m# Let third-parties do as they see fit.\u001b[0m\u001b[0;34m\u001b[0m\u001b[0;34m\u001b[0m\u001b[0m\n",
            "\u001b[0;32m/usr/local/lib/python3.10/dist-packages/matplotlib/backends/backend_agg.py\u001b[0m in \u001b[0;36mprint_png\u001b[0;34m(self, filename_or_obj, metadata, pil_kwargs)\u001b[0m\n\u001b[1;32m    507\u001b[0m             \u001b[0;34m*\u001b[0m\u001b[0mmetadata\u001b[0m\u001b[0;34m*\u001b[0m\u001b[0;34m,\u001b[0m \u001b[0mincluding\u001b[0m \u001b[0mthe\u001b[0m \u001b[0mdefault\u001b[0m \u001b[0;34m'Software'\u001b[0m \u001b[0mkey\u001b[0m\u001b[0;34m.\u001b[0m\u001b[0;34m\u001b[0m\u001b[0;34m\u001b[0m\u001b[0m\n\u001b[1;32m    508\u001b[0m         \"\"\"\n\u001b[0;32m--> 509\u001b[0;31m         \u001b[0mself\u001b[0m\u001b[0;34m.\u001b[0m\u001b[0m_print_pil\u001b[0m\u001b[0;34m(\u001b[0m\u001b[0mfilename_or_obj\u001b[0m\u001b[0;34m,\u001b[0m \u001b[0;34m\"png\"\u001b[0m\u001b[0;34m,\u001b[0m \u001b[0mpil_kwargs\u001b[0m\u001b[0;34m,\u001b[0m \u001b[0mmetadata\u001b[0m\u001b[0;34m)\u001b[0m\u001b[0;34m\u001b[0m\u001b[0;34m\u001b[0m\u001b[0m\n\u001b[0m\u001b[1;32m    510\u001b[0m \u001b[0;34m\u001b[0m\u001b[0m\n\u001b[1;32m    511\u001b[0m     \u001b[0;32mdef\u001b[0m \u001b[0mprint_to_buffer\u001b[0m\u001b[0;34m(\u001b[0m\u001b[0mself\u001b[0m\u001b[0;34m)\u001b[0m\u001b[0;34m:\u001b[0m\u001b[0;34m\u001b[0m\u001b[0;34m\u001b[0m\u001b[0m\n",
            "\u001b[0;32m/usr/local/lib/python3.10/dist-packages/matplotlib/backends/backend_agg.py\u001b[0m in \u001b[0;36m_print_pil\u001b[0;34m(self, filename_or_obj, fmt, pil_kwargs, metadata)\u001b[0m\n\u001b[1;32m    455\u001b[0m         *pil_kwargs* and *metadata* are forwarded).\n\u001b[1;32m    456\u001b[0m         \"\"\"\n\u001b[0;32m--> 457\u001b[0;31m         \u001b[0mFigureCanvasAgg\u001b[0m\u001b[0;34m.\u001b[0m\u001b[0mdraw\u001b[0m\u001b[0;34m(\u001b[0m\u001b[0mself\u001b[0m\u001b[0;34m)\u001b[0m\u001b[0;34m\u001b[0m\u001b[0;34m\u001b[0m\u001b[0m\n\u001b[0m\u001b[1;32m    458\u001b[0m         mpl.image.imsave(\n\u001b[1;32m    459\u001b[0m             \u001b[0mfilename_or_obj\u001b[0m\u001b[0;34m,\u001b[0m \u001b[0mself\u001b[0m\u001b[0;34m.\u001b[0m\u001b[0mbuffer_rgba\u001b[0m\u001b[0;34m(\u001b[0m\u001b[0;34m)\u001b[0m\u001b[0;34m,\u001b[0m \u001b[0mformat\u001b[0m\u001b[0;34m=\u001b[0m\u001b[0mfmt\u001b[0m\u001b[0;34m,\u001b[0m \u001b[0morigin\u001b[0m\u001b[0;34m=\u001b[0m\u001b[0;34m\"upper\"\u001b[0m\u001b[0;34m,\u001b[0m\u001b[0;34m\u001b[0m\u001b[0;34m\u001b[0m\u001b[0m\n",
            "\u001b[0;32m/usr/local/lib/python3.10/dist-packages/matplotlib/backends/backend_agg.py\u001b[0m in \u001b[0;36mdraw\u001b[0;34m(self)\u001b[0m\n\u001b[1;32m    398\u001b[0m              (self.toolbar._wait_cursor_for_draw_cm() if self.toolbar\n\u001b[1;32m    399\u001b[0m               else nullcontext()):\n\u001b[0;32m--> 400\u001b[0;31m             \u001b[0mself\u001b[0m\u001b[0;34m.\u001b[0m\u001b[0mfigure\u001b[0m\u001b[0;34m.\u001b[0m\u001b[0mdraw\u001b[0m\u001b[0;34m(\u001b[0m\u001b[0mself\u001b[0m\u001b[0;34m.\u001b[0m\u001b[0mrenderer\u001b[0m\u001b[0;34m)\u001b[0m\u001b[0;34m\u001b[0m\u001b[0;34m\u001b[0m\u001b[0m\n\u001b[0m\u001b[1;32m    401\u001b[0m             \u001b[0;31m# A GUI class may be need to update a window using this draw, so\u001b[0m\u001b[0;34m\u001b[0m\u001b[0;34m\u001b[0m\u001b[0m\n\u001b[1;32m    402\u001b[0m             \u001b[0;31m# don't forget to call the superclass.\u001b[0m\u001b[0;34m\u001b[0m\u001b[0;34m\u001b[0m\u001b[0m\n",
            "\u001b[0;32m/usr/local/lib/python3.10/dist-packages/matplotlib/artist.py\u001b[0m in \u001b[0;36mdraw_wrapper\u001b[0;34m(artist, renderer, *args, **kwargs)\u001b[0m\n\u001b[1;32m     93\u001b[0m     \u001b[0;34m@\u001b[0m\u001b[0mwraps\u001b[0m\u001b[0;34m(\u001b[0m\u001b[0mdraw\u001b[0m\u001b[0;34m)\u001b[0m\u001b[0;34m\u001b[0m\u001b[0;34m\u001b[0m\u001b[0m\n\u001b[1;32m     94\u001b[0m     \u001b[0;32mdef\u001b[0m \u001b[0mdraw_wrapper\u001b[0m\u001b[0;34m(\u001b[0m\u001b[0martist\u001b[0m\u001b[0;34m,\u001b[0m \u001b[0mrenderer\u001b[0m\u001b[0;34m,\u001b[0m \u001b[0;34m*\u001b[0m\u001b[0margs\u001b[0m\u001b[0;34m,\u001b[0m \u001b[0;34m**\u001b[0m\u001b[0mkwargs\u001b[0m\u001b[0;34m)\u001b[0m\u001b[0;34m:\u001b[0m\u001b[0;34m\u001b[0m\u001b[0;34m\u001b[0m\u001b[0m\n\u001b[0;32m---> 95\u001b[0;31m         \u001b[0mresult\u001b[0m \u001b[0;34m=\u001b[0m \u001b[0mdraw\u001b[0m\u001b[0;34m(\u001b[0m\u001b[0martist\u001b[0m\u001b[0;34m,\u001b[0m \u001b[0mrenderer\u001b[0m\u001b[0;34m,\u001b[0m \u001b[0;34m*\u001b[0m\u001b[0margs\u001b[0m\u001b[0;34m,\u001b[0m \u001b[0;34m**\u001b[0m\u001b[0mkwargs\u001b[0m\u001b[0;34m)\u001b[0m\u001b[0;34m\u001b[0m\u001b[0;34m\u001b[0m\u001b[0m\n\u001b[0m\u001b[1;32m     96\u001b[0m         \u001b[0;32mif\u001b[0m \u001b[0mrenderer\u001b[0m\u001b[0;34m.\u001b[0m\u001b[0m_rasterizing\u001b[0m\u001b[0;34m:\u001b[0m\u001b[0;34m\u001b[0m\u001b[0;34m\u001b[0m\u001b[0m\n\u001b[1;32m     97\u001b[0m             \u001b[0mrenderer\u001b[0m\u001b[0;34m.\u001b[0m\u001b[0mstop_rasterizing\u001b[0m\u001b[0;34m(\u001b[0m\u001b[0;34m)\u001b[0m\u001b[0;34m\u001b[0m\u001b[0;34m\u001b[0m\u001b[0m\n",
            "\u001b[0;32m/usr/local/lib/python3.10/dist-packages/matplotlib/artist.py\u001b[0m in \u001b[0;36mdraw_wrapper\u001b[0;34m(artist, renderer)\u001b[0m\n\u001b[1;32m     70\u001b[0m                 \u001b[0mrenderer\u001b[0m\u001b[0;34m.\u001b[0m\u001b[0mstart_filter\u001b[0m\u001b[0;34m(\u001b[0m\u001b[0;34m)\u001b[0m\u001b[0;34m\u001b[0m\u001b[0;34m\u001b[0m\u001b[0m\n\u001b[1;32m     71\u001b[0m \u001b[0;34m\u001b[0m\u001b[0m\n\u001b[0;32m---> 72\u001b[0;31m             \u001b[0;32mreturn\u001b[0m \u001b[0mdraw\u001b[0m\u001b[0;34m(\u001b[0m\u001b[0martist\u001b[0m\u001b[0;34m,\u001b[0m \u001b[0mrenderer\u001b[0m\u001b[0;34m)\u001b[0m\u001b[0;34m\u001b[0m\u001b[0;34m\u001b[0m\u001b[0m\n\u001b[0m\u001b[1;32m     73\u001b[0m         \u001b[0;32mfinally\u001b[0m\u001b[0;34m:\u001b[0m\u001b[0;34m\u001b[0m\u001b[0;34m\u001b[0m\u001b[0m\n\u001b[1;32m     74\u001b[0m             \u001b[0;32mif\u001b[0m \u001b[0martist\u001b[0m\u001b[0;34m.\u001b[0m\u001b[0mget_agg_filter\u001b[0m\u001b[0;34m(\u001b[0m\u001b[0;34m)\u001b[0m \u001b[0;32mis\u001b[0m \u001b[0;32mnot\u001b[0m \u001b[0;32mNone\u001b[0m\u001b[0;34m:\u001b[0m\u001b[0;34m\u001b[0m\u001b[0;34m\u001b[0m\u001b[0m\n",
            "\u001b[0;32m/usr/local/lib/python3.10/dist-packages/matplotlib/figure.py\u001b[0m in \u001b[0;36mdraw\u001b[0;34m(self, renderer)\u001b[0m\n\u001b[1;32m   3138\u001b[0m \u001b[0;34m\u001b[0m\u001b[0m\n\u001b[1;32m   3139\u001b[0m             \u001b[0mself\u001b[0m\u001b[0;34m.\u001b[0m\u001b[0mpatch\u001b[0m\u001b[0;34m.\u001b[0m\u001b[0mdraw\u001b[0m\u001b[0;34m(\u001b[0m\u001b[0mrenderer\u001b[0m\u001b[0;34m)\u001b[0m\u001b[0;34m\u001b[0m\u001b[0;34m\u001b[0m\u001b[0m\n\u001b[0;32m-> 3140\u001b[0;31m             mimage._draw_list_compositing_images(\n\u001b[0m\u001b[1;32m   3141\u001b[0m                 renderer, self, artists, self.suppressComposite)\n\u001b[1;32m   3142\u001b[0m \u001b[0;34m\u001b[0m\u001b[0m\n",
            "\u001b[0;32m/usr/local/lib/python3.10/dist-packages/matplotlib/image.py\u001b[0m in \u001b[0;36m_draw_list_compositing_images\u001b[0;34m(renderer, parent, artists, suppress_composite)\u001b[0m\n\u001b[1;32m    129\u001b[0m     \u001b[0;32mif\u001b[0m \u001b[0mnot_composite\u001b[0m \u001b[0;32mor\u001b[0m \u001b[0;32mnot\u001b[0m \u001b[0mhas_images\u001b[0m\u001b[0;34m:\u001b[0m\u001b[0;34m\u001b[0m\u001b[0;34m\u001b[0m\u001b[0m\n\u001b[1;32m    130\u001b[0m         \u001b[0;32mfor\u001b[0m \u001b[0ma\u001b[0m \u001b[0;32min\u001b[0m \u001b[0martists\u001b[0m\u001b[0;34m:\u001b[0m\u001b[0;34m\u001b[0m\u001b[0;34m\u001b[0m\u001b[0m\n\u001b[0;32m--> 131\u001b[0;31m             \u001b[0ma\u001b[0m\u001b[0;34m.\u001b[0m\u001b[0mdraw\u001b[0m\u001b[0;34m(\u001b[0m\u001b[0mrenderer\u001b[0m\u001b[0;34m)\u001b[0m\u001b[0;34m\u001b[0m\u001b[0;34m\u001b[0m\u001b[0m\n\u001b[0m\u001b[1;32m    132\u001b[0m     \u001b[0;32melse\u001b[0m\u001b[0;34m:\u001b[0m\u001b[0;34m\u001b[0m\u001b[0;34m\u001b[0m\u001b[0m\n\u001b[1;32m    133\u001b[0m         \u001b[0;31m# Composite any adjacent images together\u001b[0m\u001b[0;34m\u001b[0m\u001b[0;34m\u001b[0m\u001b[0m\n",
            "\u001b[0;32m/usr/local/lib/python3.10/dist-packages/matplotlib/artist.py\u001b[0m in \u001b[0;36mdraw_wrapper\u001b[0;34m(artist, renderer)\u001b[0m\n\u001b[1;32m     70\u001b[0m                 \u001b[0mrenderer\u001b[0m\u001b[0;34m.\u001b[0m\u001b[0mstart_filter\u001b[0m\u001b[0;34m(\u001b[0m\u001b[0;34m)\u001b[0m\u001b[0;34m\u001b[0m\u001b[0;34m\u001b[0m\u001b[0m\n\u001b[1;32m     71\u001b[0m \u001b[0;34m\u001b[0m\u001b[0m\n\u001b[0;32m---> 72\u001b[0;31m             \u001b[0;32mreturn\u001b[0m \u001b[0mdraw\u001b[0m\u001b[0;34m(\u001b[0m\u001b[0martist\u001b[0m\u001b[0;34m,\u001b[0m \u001b[0mrenderer\u001b[0m\u001b[0;34m)\u001b[0m\u001b[0;34m\u001b[0m\u001b[0;34m\u001b[0m\u001b[0m\n\u001b[0m\u001b[1;32m     73\u001b[0m         \u001b[0;32mfinally\u001b[0m\u001b[0;34m:\u001b[0m\u001b[0;34m\u001b[0m\u001b[0;34m\u001b[0m\u001b[0m\n\u001b[1;32m     74\u001b[0m             \u001b[0;32mif\u001b[0m \u001b[0martist\u001b[0m\u001b[0;34m.\u001b[0m\u001b[0mget_agg_filter\u001b[0m\u001b[0;34m(\u001b[0m\u001b[0;34m)\u001b[0m \u001b[0;32mis\u001b[0m \u001b[0;32mnot\u001b[0m \u001b[0;32mNone\u001b[0m\u001b[0;34m:\u001b[0m\u001b[0;34m\u001b[0m\u001b[0;34m\u001b[0m\u001b[0m\n",
            "\u001b[0;32m/usr/local/lib/python3.10/dist-packages/matplotlib/axes/_base.py\u001b[0m in \u001b[0;36mdraw\u001b[0;34m(self, renderer)\u001b[0m\n\u001b[1;32m   3062\u001b[0m             \u001b[0m_draw_rasterized\u001b[0m\u001b[0;34m(\u001b[0m\u001b[0mself\u001b[0m\u001b[0;34m.\u001b[0m\u001b[0mfigure\u001b[0m\u001b[0;34m,\u001b[0m \u001b[0martists_rasterized\u001b[0m\u001b[0;34m,\u001b[0m \u001b[0mrenderer\u001b[0m\u001b[0;34m)\u001b[0m\u001b[0;34m\u001b[0m\u001b[0;34m\u001b[0m\u001b[0m\n\u001b[1;32m   3063\u001b[0m \u001b[0;34m\u001b[0m\u001b[0m\n\u001b[0;32m-> 3064\u001b[0;31m         mimage._draw_list_compositing_images(\n\u001b[0m\u001b[1;32m   3065\u001b[0m             renderer, self, artists, self.figure.suppressComposite)\n\u001b[1;32m   3066\u001b[0m \u001b[0;34m\u001b[0m\u001b[0m\n",
            "\u001b[0;32m/usr/local/lib/python3.10/dist-packages/matplotlib/image.py\u001b[0m in \u001b[0;36m_draw_list_compositing_images\u001b[0;34m(renderer, parent, artists, suppress_composite)\u001b[0m\n\u001b[1;32m    129\u001b[0m     \u001b[0;32mif\u001b[0m \u001b[0mnot_composite\u001b[0m \u001b[0;32mor\u001b[0m \u001b[0;32mnot\u001b[0m \u001b[0mhas_images\u001b[0m\u001b[0;34m:\u001b[0m\u001b[0;34m\u001b[0m\u001b[0;34m\u001b[0m\u001b[0m\n\u001b[1;32m    130\u001b[0m         \u001b[0;32mfor\u001b[0m \u001b[0ma\u001b[0m \u001b[0;32min\u001b[0m \u001b[0martists\u001b[0m\u001b[0;34m:\u001b[0m\u001b[0;34m\u001b[0m\u001b[0;34m\u001b[0m\u001b[0m\n\u001b[0;32m--> 131\u001b[0;31m             \u001b[0ma\u001b[0m\u001b[0;34m.\u001b[0m\u001b[0mdraw\u001b[0m\u001b[0;34m(\u001b[0m\u001b[0mrenderer\u001b[0m\u001b[0;34m)\u001b[0m\u001b[0;34m\u001b[0m\u001b[0;34m\u001b[0m\u001b[0m\n\u001b[0m\u001b[1;32m    132\u001b[0m     \u001b[0;32melse\u001b[0m\u001b[0;34m:\u001b[0m\u001b[0;34m\u001b[0m\u001b[0;34m\u001b[0m\u001b[0m\n\u001b[1;32m    133\u001b[0m         \u001b[0;31m# Composite any adjacent images together\u001b[0m\u001b[0;34m\u001b[0m\u001b[0;34m\u001b[0m\u001b[0m\n",
            "\u001b[0;32m/usr/local/lib/python3.10/dist-packages/matplotlib/artist.py\u001b[0m in \u001b[0;36mdraw_wrapper\u001b[0;34m(artist, renderer)\u001b[0m\n\u001b[1;32m     70\u001b[0m                 \u001b[0mrenderer\u001b[0m\u001b[0;34m.\u001b[0m\u001b[0mstart_filter\u001b[0m\u001b[0;34m(\u001b[0m\u001b[0;34m)\u001b[0m\u001b[0;34m\u001b[0m\u001b[0;34m\u001b[0m\u001b[0m\n\u001b[1;32m     71\u001b[0m \u001b[0;34m\u001b[0m\u001b[0m\n\u001b[0;32m---> 72\u001b[0;31m             \u001b[0;32mreturn\u001b[0m \u001b[0mdraw\u001b[0m\u001b[0;34m(\u001b[0m\u001b[0martist\u001b[0m\u001b[0;34m,\u001b[0m \u001b[0mrenderer\u001b[0m\u001b[0;34m)\u001b[0m\u001b[0;34m\u001b[0m\u001b[0;34m\u001b[0m\u001b[0m\n\u001b[0m\u001b[1;32m     73\u001b[0m         \u001b[0;32mfinally\u001b[0m\u001b[0;34m:\u001b[0m\u001b[0;34m\u001b[0m\u001b[0;34m\u001b[0m\u001b[0m\n\u001b[1;32m     74\u001b[0m             \u001b[0;32mif\u001b[0m \u001b[0martist\u001b[0m\u001b[0;34m.\u001b[0m\u001b[0mget_agg_filter\u001b[0m\u001b[0;34m(\u001b[0m\u001b[0;34m)\u001b[0m \u001b[0;32mis\u001b[0m \u001b[0;32mnot\u001b[0m \u001b[0;32mNone\u001b[0m\u001b[0;34m:\u001b[0m\u001b[0;34m\u001b[0m\u001b[0;34m\u001b[0m\u001b[0m\n",
            "\u001b[0;32m/usr/local/lib/python3.10/dist-packages/matplotlib/collections.py\u001b[0m in \u001b[0;36mdraw\u001b[0;34m(self, renderer)\u001b[0m\n\u001b[1;32m    970\u001b[0m     \u001b[0;32mdef\u001b[0m \u001b[0mdraw\u001b[0m\u001b[0;34m(\u001b[0m\u001b[0mself\u001b[0m\u001b[0;34m,\u001b[0m \u001b[0mrenderer\u001b[0m\u001b[0;34m)\u001b[0m\u001b[0;34m:\u001b[0m\u001b[0;34m\u001b[0m\u001b[0;34m\u001b[0m\u001b[0m\n\u001b[1;32m    971\u001b[0m         \u001b[0mself\u001b[0m\u001b[0;34m.\u001b[0m\u001b[0mset_sizes\u001b[0m\u001b[0;34m(\u001b[0m\u001b[0mself\u001b[0m\u001b[0;34m.\u001b[0m\u001b[0m_sizes\u001b[0m\u001b[0;34m,\u001b[0m \u001b[0mself\u001b[0m\u001b[0;34m.\u001b[0m\u001b[0mfigure\u001b[0m\u001b[0;34m.\u001b[0m\u001b[0mdpi\u001b[0m\u001b[0;34m)\u001b[0m\u001b[0;34m\u001b[0m\u001b[0;34m\u001b[0m\u001b[0m\n\u001b[0;32m--> 972\u001b[0;31m         \u001b[0msuper\u001b[0m\u001b[0;34m(\u001b[0m\u001b[0;34m)\u001b[0m\u001b[0;34m.\u001b[0m\u001b[0mdraw\u001b[0m\u001b[0;34m(\u001b[0m\u001b[0mrenderer\u001b[0m\u001b[0;34m)\u001b[0m\u001b[0;34m\u001b[0m\u001b[0;34m\u001b[0m\u001b[0m\n\u001b[0m\u001b[1;32m    973\u001b[0m \u001b[0;34m\u001b[0m\u001b[0m\n\u001b[1;32m    974\u001b[0m \u001b[0;34m\u001b[0m\u001b[0m\n",
            "\u001b[0;32m/usr/local/lib/python3.10/dist-packages/matplotlib/artist.py\u001b[0m in \u001b[0;36mdraw_wrapper\u001b[0;34m(artist, renderer)\u001b[0m\n\u001b[1;32m     70\u001b[0m                 \u001b[0mrenderer\u001b[0m\u001b[0;34m.\u001b[0m\u001b[0mstart_filter\u001b[0m\u001b[0;34m(\u001b[0m\u001b[0;34m)\u001b[0m\u001b[0;34m\u001b[0m\u001b[0;34m\u001b[0m\u001b[0m\n\u001b[1;32m     71\u001b[0m \u001b[0;34m\u001b[0m\u001b[0m\n\u001b[0;32m---> 72\u001b[0;31m             \u001b[0;32mreturn\u001b[0m \u001b[0mdraw\u001b[0m\u001b[0;34m(\u001b[0m\u001b[0martist\u001b[0m\u001b[0;34m,\u001b[0m \u001b[0mrenderer\u001b[0m\u001b[0;34m)\u001b[0m\u001b[0;34m\u001b[0m\u001b[0;34m\u001b[0m\u001b[0m\n\u001b[0m\u001b[1;32m     73\u001b[0m         \u001b[0;32mfinally\u001b[0m\u001b[0;34m:\u001b[0m\u001b[0;34m\u001b[0m\u001b[0;34m\u001b[0m\u001b[0m\n\u001b[1;32m     74\u001b[0m             \u001b[0;32mif\u001b[0m \u001b[0martist\u001b[0m\u001b[0;34m.\u001b[0m\u001b[0mget_agg_filter\u001b[0m\u001b[0;34m(\u001b[0m\u001b[0;34m)\u001b[0m \u001b[0;32mis\u001b[0m \u001b[0;32mnot\u001b[0m \u001b[0;32mNone\u001b[0m\u001b[0;34m:\u001b[0m\u001b[0;34m\u001b[0m\u001b[0;34m\u001b[0m\u001b[0m\n",
            "\u001b[0;32m/usr/local/lib/python3.10/dist-packages/matplotlib/collections.py\u001b[0m in \u001b[0;36mdraw\u001b[0;34m(self, renderer)\u001b[0m\n\u001b[1;32m    386\u001b[0m             \u001b[0;32melse\u001b[0m\u001b[0;34m:\u001b[0m\u001b[0;34m\u001b[0m\u001b[0;34m\u001b[0m\u001b[0m\n\u001b[1;32m    387\u001b[0m                 \u001b[0mcombined_transform\u001b[0m \u001b[0;34m=\u001b[0m \u001b[0mtransform\u001b[0m\u001b[0;34m\u001b[0m\u001b[0;34m\u001b[0m\u001b[0m\n\u001b[0;32m--> 388\u001b[0;31m             \u001b[0mextents\u001b[0m \u001b[0;34m=\u001b[0m \u001b[0mpaths\u001b[0m\u001b[0;34m[\u001b[0m\u001b[0;36m0\u001b[0m\u001b[0;34m]\u001b[0m\u001b[0;34m.\u001b[0m\u001b[0mget_extents\u001b[0m\u001b[0;34m(\u001b[0m\u001b[0mcombined_transform\u001b[0m\u001b[0;34m)\u001b[0m\u001b[0;34m\u001b[0m\u001b[0;34m\u001b[0m\u001b[0m\n\u001b[0m\u001b[1;32m    389\u001b[0m             if (extents.width < self.figure.bbox.width\n\u001b[1;32m    390\u001b[0m                     and extents.height < self.figure.bbox.height):\n",
            "\u001b[0;32m/usr/local/lib/python3.10/dist-packages/matplotlib/path.py\u001b[0m in \u001b[0;36mget_extents\u001b[0;34m(self, transform, **kwargs)\u001b[0m\n\u001b[1;32m    633\u001b[0m             \u001b[0;32mfor\u001b[0m \u001b[0mcurve\u001b[0m\u001b[0;34m,\u001b[0m \u001b[0mcode\u001b[0m \u001b[0;32min\u001b[0m \u001b[0mself\u001b[0m\u001b[0;34m.\u001b[0m\u001b[0miter_bezier\u001b[0m\u001b[0;34m(\u001b[0m\u001b[0;34m**\u001b[0m\u001b[0mkwargs\u001b[0m\u001b[0;34m)\u001b[0m\u001b[0;34m:\u001b[0m\u001b[0;34m\u001b[0m\u001b[0;34m\u001b[0m\u001b[0m\n\u001b[1;32m    634\u001b[0m                 \u001b[0;31m# places where the derivative is zero can be extrema\u001b[0m\u001b[0;34m\u001b[0m\u001b[0;34m\u001b[0m\u001b[0m\n\u001b[0;32m--> 635\u001b[0;31m                 \u001b[0m_\u001b[0m\u001b[0;34m,\u001b[0m \u001b[0mdzeros\u001b[0m \u001b[0;34m=\u001b[0m \u001b[0mcurve\u001b[0m\u001b[0;34m.\u001b[0m\u001b[0maxis_aligned_extrema\u001b[0m\u001b[0;34m(\u001b[0m\u001b[0;34m)\u001b[0m\u001b[0;34m\u001b[0m\u001b[0;34m\u001b[0m\u001b[0m\n\u001b[0m\u001b[1;32m    636\u001b[0m                 \u001b[0;31m# as can the ends of the curve\u001b[0m\u001b[0;34m\u001b[0m\u001b[0;34m\u001b[0m\u001b[0m\n\u001b[1;32m    637\u001b[0m                 \u001b[0mxys\u001b[0m\u001b[0;34m.\u001b[0m\u001b[0mappend\u001b[0m\u001b[0;34m(\u001b[0m\u001b[0mcurve\u001b[0m\u001b[0;34m(\u001b[0m\u001b[0;34m[\u001b[0m\u001b[0;36m0\u001b[0m\u001b[0;34m,\u001b[0m \u001b[0;34m*\u001b[0m\u001b[0mdzeros\u001b[0m\u001b[0;34m,\u001b[0m \u001b[0;36m1\u001b[0m\u001b[0;34m]\u001b[0m\u001b[0;34m)\u001b[0m\u001b[0;34m)\u001b[0m\u001b[0;34m\u001b[0m\u001b[0;34m\u001b[0m\u001b[0m\n",
            "\u001b[0;32m/usr/local/lib/python3.10/dist-packages/matplotlib/bezier.py\u001b[0m in \u001b[0;36maxis_aligned_extrema\u001b[0;34m(self)\u001b[0m\n\u001b[1;32m    300\u001b[0m             \u001b[0mroots\u001b[0m\u001b[0;34m.\u001b[0m\u001b[0mappend\u001b[0m\u001b[0;34m(\u001b[0m\u001b[0mr\u001b[0m\u001b[0;34m)\u001b[0m\u001b[0;34m\u001b[0m\u001b[0;34m\u001b[0m\u001b[0m\n\u001b[1;32m    301\u001b[0m             \u001b[0mdims\u001b[0m\u001b[0;34m.\u001b[0m\u001b[0mappend\u001b[0m\u001b[0;34m(\u001b[0m\u001b[0mnp\u001b[0m\u001b[0;34m.\u001b[0m\u001b[0mfull_like\u001b[0m\u001b[0;34m(\u001b[0m\u001b[0mr\u001b[0m\u001b[0;34m,\u001b[0m \u001b[0mi\u001b[0m\u001b[0;34m)\u001b[0m\u001b[0;34m)\u001b[0m\u001b[0;34m\u001b[0m\u001b[0;34m\u001b[0m\u001b[0m\n\u001b[0;32m--> 302\u001b[0;31m         \u001b[0mroots\u001b[0m \u001b[0;34m=\u001b[0m \u001b[0mnp\u001b[0m\u001b[0;34m.\u001b[0m\u001b[0mconcatenate\u001b[0m\u001b[0;34m(\u001b[0m\u001b[0mroots\u001b[0m\u001b[0;34m)\u001b[0m\u001b[0;34m\u001b[0m\u001b[0;34m\u001b[0m\u001b[0m\n\u001b[0m\u001b[1;32m    303\u001b[0m         \u001b[0mdims\u001b[0m \u001b[0;34m=\u001b[0m \u001b[0mnp\u001b[0m\u001b[0;34m.\u001b[0m\u001b[0mconcatenate\u001b[0m\u001b[0;34m(\u001b[0m\u001b[0mdims\u001b[0m\u001b[0;34m)\u001b[0m\u001b[0;34m\u001b[0m\u001b[0;34m\u001b[0m\u001b[0m\n\u001b[1;32m    304\u001b[0m         \u001b[0min_range\u001b[0m \u001b[0;34m=\u001b[0m \u001b[0mnp\u001b[0m\u001b[0;34m.\u001b[0m\u001b[0misreal\u001b[0m\u001b[0;34m(\u001b[0m\u001b[0mroots\u001b[0m\u001b[0;34m)\u001b[0m \u001b[0;34m&\u001b[0m \u001b[0;34m(\u001b[0m\u001b[0mroots\u001b[0m \u001b[0;34m>=\u001b[0m \u001b[0;36m0\u001b[0m\u001b[0;34m)\u001b[0m \u001b[0;34m&\u001b[0m \u001b[0;34m(\u001b[0m\u001b[0mroots\u001b[0m \u001b[0;34m<=\u001b[0m \u001b[0;36m1\u001b[0m\u001b[0;34m)\u001b[0m\u001b[0;34m\u001b[0m\u001b[0;34m\u001b[0m\u001b[0m\n",
            "\u001b[0;32m/usr/local/lib/python3.10/dist-packages/numpy/core/multiarray.py\u001b[0m in \u001b[0;36mconcatenate\u001b[0;34m(arrays, axis, out, dtype, casting)\u001b[0m\n\u001b[1;32m    151\u001b[0m \u001b[0;34m\u001b[0m\u001b[0m\n\u001b[1;32m    152\u001b[0m \u001b[0;34m\u001b[0m\u001b[0m\n\u001b[0;32m--> 153\u001b[0;31m \u001b[0;34m@\u001b[0m\u001b[0marray_function_from_c_func_and_dispatcher\u001b[0m\u001b[0;34m(\u001b[0m\u001b[0m_multiarray_umath\u001b[0m\u001b[0;34m.\u001b[0m\u001b[0mconcatenate\u001b[0m\u001b[0;34m)\u001b[0m\u001b[0;34m\u001b[0m\u001b[0;34m\u001b[0m\u001b[0m\n\u001b[0m\u001b[1;32m    154\u001b[0m \u001b[0;32mdef\u001b[0m \u001b[0mconcatenate\u001b[0m\u001b[0;34m(\u001b[0m\u001b[0marrays\u001b[0m\u001b[0;34m,\u001b[0m \u001b[0maxis\u001b[0m\u001b[0;34m=\u001b[0m\u001b[0;32mNone\u001b[0m\u001b[0;34m,\u001b[0m \u001b[0mout\u001b[0m\u001b[0;34m=\u001b[0m\u001b[0;32mNone\u001b[0m\u001b[0;34m,\u001b[0m \u001b[0;34m*\u001b[0m\u001b[0;34m,\u001b[0m \u001b[0mdtype\u001b[0m\u001b[0;34m=\u001b[0m\u001b[0;32mNone\u001b[0m\u001b[0;34m,\u001b[0m \u001b[0mcasting\u001b[0m\u001b[0;34m=\u001b[0m\u001b[0;32mNone\u001b[0m\u001b[0;34m)\u001b[0m\u001b[0;34m:\u001b[0m\u001b[0;34m\u001b[0m\u001b[0;34m\u001b[0m\u001b[0m\n\u001b[1;32m    155\u001b[0m     \"\"\"\n",
            "\u001b[0;31mKeyboardInterrupt\u001b[0m: "
          ]
        }
      ]
    },
    {
      "cell_type": "markdown",
      "source": [
        "It is surprising to see that each word forms quadratic line, instead of separate clusters. Meaning most of words have typical or overlapping features (they are interconnected)."
      ],
      "metadata": {
        "id": "VNeZLTM4s2mD"
      }
    },
    {
      "cell_type": "code",
      "source": [
        "# I want to see similar words\n",
        "# I need to access words learned by 'wv'\n",
        "for i in ['business', 'politics', 'tech', 'sport', 'entertainment']:\n",
        "  print(f'Similar words for {i.upper()}')\n",
        "  similar_words = model1.wv.most_similar(i)\n",
        "  for words, cos in similar_words:\n",
        "    print(words)\n",
        "  print('=======================\\n')\n",
        "\n",
        "# The more similar a word, the closer to 1\n",
        "# The more distinct a word, the closer it is to 0 (orthogonal vector/perpendicular)\n",
        "# But since our words' feature are quadratic, I don't think there are orthogonal words"
      ],
      "metadata": {
        "colab": {
          "base_uri": "https://localhost:8080/"
        },
        "id": "9HGwix3ot-Ct",
        "outputId": "33ee3898-1450-4a6a-c73f-a4c51101ae5c"
      },
      "execution_count": null,
      "outputs": [
        {
          "output_type": "stream",
          "name": "stdout",
          "text": [
            "Similar words for BUSINESS\n",
            "pension\n",
            "allowance\n",
            "pay\n",
            "stability\n",
            "taxpayer\n",
            "concern\n",
            "power\n",
            "undervalued\n",
            "waste\n",
            "risk\n",
            "=======================\n",
            "\n",
            "Similar words for POLITICS\n",
            "replied\n",
            "relationship\n",
            "gerrard\n",
            "appropriate\n",
            "glad\n",
            "apologise\n",
            "happy\n",
            "nothing\n",
            "happened\n",
            "family\n",
            "=======================\n",
            "\n",
            "Similar words for TECH\n",
            "targeted\n",
            "halt\n",
            "initial\n",
            "bulk\n",
            "nitoglia\n",
            "guideline\n",
            "air\n",
            "collaboration\n",
            "escape\n",
            "secondary\n",
            "=======================\n",
            "\n",
            "Similar words for SPORT\n",
            "programme\n",
            "radio\n",
            "breakfast\n",
            "correspondent\n",
            "speculating\n",
            "website\n",
            "news\n",
            "wgbhboston\n",
            "today\n",
            "directorgeneral\n",
            "=======================\n",
            "\n",
            "Similar words for ENTERTAINMENT\n",
            "crack\n",
            "reflection\n",
            "screen\n",
            "indepth\n",
            "divide\n",
            "mathieu\n",
            "blog\n",
            "joss\n",
            "combine\n",
            "wear\n",
            "=======================\n",
            "\n"
          ]
        }
      ]
    },
    {
      "cell_type": "markdown",
      "source": [
        "My take on the output:\n",
        "1. Tech and business share similar nuance\n",
        "2. Politics is the most distinct nuance\n",
        "3. Entertainment and sport are also most distinct nuance, but I feel like it is a bit meaningless\n",
        "\n",
        "Note that this word is based of text_data corpus. This likely explains why tech has less recall and entertainment is one of the lowest performance."
      ],
      "metadata": {
        "id": "jO7xEVIYwbK4"
      }
    },
    {
      "cell_type": "markdown",
      "source": [
        "# Aplly LSTM\n",
        "Before digging dive to LSTM (\"extension\" of RNN), I need to understand the distinction between traditional machine learning algorithms.\n",
        "\n",
        "Traditional ML such us decision tree, linear regression, or else requires distinct features: often represented as a matrix. That's why TF-IDF vectorizer which is sparse feature matrix relevant for decision tree.\n",
        "\n",
        "However, LSTM and RNN process **sequences of data** (to understand context of ```n-th``` order from ```n-1``` order). Meaning, **there is an order within a document**. Usually represented as a list, tuple, or else. Thus, TF-IDF vectorizer is not matching with LSTM and RNN architecture.\n",
        "\n",
        "With this, embedding is the well-suited solution to match LSTM and RNN architecture. It tries to extract word's semantic context from sequence's orders. And then transformed onto dense vectors for each word. All of the dense vectors are packed up into a sequence as an input to LSTM and RNN **(vector within array)**.\n",
        "\n",
        "https://www.kaggle.com/code/adnanzaidi/simple-lstm-for-text-classification"
      ],
      "metadata": {
        "id": "hVzlTBlrbfa7"
      }
    },
    {
      "cell_type": "code",
      "source": [
        "max_words = 1000\n",
        "max_len = 150\n",
        "tok = Tokenizer(num_words=max_words)\n",
        "X_train_list = X_train.tolist()  # Convert to list of strings\n",
        "tok.fit_on_texts(X_train_list)\n",
        "sequences = tok.texts_to_sequences(X_train_list)\n",
        "sequences_matrix = sequence.pad_sequences(sequences, maxlen=max_len)"
      ],
      "metadata": {
        "id": "7Gjxn_2jhOHA"
      },
      "execution_count": null,
      "outputs": []
    },
    {
      "cell_type": "code",
      "source": [
        "sequences_matrix"
      ],
      "metadata": {
        "colab": {
          "base_uri": "https://localhost:8080/"
        },
        "id": "z_b7DW1qzYNz",
        "outputId": "fe078220-cc73-4b7d-c60e-f7032ed07f2c"
      },
      "execution_count": null,
      "outputs": [
        {
          "output_type": "execute_result",
          "data": {
            "text/plain": [
              "array([[316,  35,  78, ..., 534,  39,  87],\n",
              "       [  0,   0,   0, ...,  38, 135,   1],\n",
              "       [  0,   0,   0, ..., 182,  94, 411],\n",
              "       ...,\n",
              "       [ 86,  27,   3, ...,  88,  96,  57],\n",
              "       [  0,   0,   0, ...,   1,  48, 713],\n",
              "       [  0,   0,   0, ..., 661,  38, 582]], dtype=int32)"
            ]
          },
          "metadata": {},
          "execution_count": 54
        }
      ]
    },
    {
      "cell_type": "markdown",
      "source": [
        "**BIG NOTE:**\n",
        "\n",
        "Embedding in Gensim is typically trained by simple deep learning, according to skip-gram or CBOW. It results dense vector sequence of numerical representation of each word. It is trained based on word's corpus.\n",
        "\n",
        "While Keras' embedding initially randomize weights to help the machine represents each token. Its weights are updated during training. It is a part of Keras' neural network layer. Since it is updated automatically during training, it is not based on skip-gram nor CBOW. Each weights are updated in order to meet minimization objective. Thus, it is not having any specific algorithm of embedding: \"just\" part of gradient descent.\n",
        "\n",
        "But, we can use Gensim's embedding on Keras' architecture. Since Gensim's embedding is pre-trained, I have to keep it freeze if I use it."
      ],
      "metadata": {
        "id": "YxXlLNQC-Llx"
      }
    },
    {
      "cell_type": "markdown",
      "source": [
        "MODEL COMPARISON\n",
        "\n",
        "I want to check the difference between each optimizers"
      ],
      "metadata": {
        "id": "8MUGHml1AjZI"
      }
    },
    {
      "cell_type": "code",
      "source": [
        "# SGD OPTIMIZER\n",
        "# Step 1: Label Encoding (encode the y_train)\n",
        "label_encoder = LabelEncoder()\n",
        "y_train_encoded = label_encoder.fit_transform(vecy_train)\n",
        "\n",
        "# Step 2: One-Hot Encoding\n",
        "num_classes = len(label_encoder.classes_)  # Number of unique classes\n",
        "y_train_one_hot = to_categorical(y_train_encoded, num_classes)\n",
        "\n",
        "# Tokenization (tokenize the words)\n",
        "max_words = 1000\n",
        "max_len = 150\n",
        "tok = Tokenizer(num_words=max_words)\n",
        "X_train_list = X_train.tolist()  # Convert to list of strings\n",
        "tok.fit_on_texts(X_train_list)\n",
        "sequences = tok.texts_to_sequences(X_train_list)\n",
        "sequences_matrix = sequence.pad_sequences(sequences, maxlen=max_len)\n",
        "\n",
        "# Define the RNN model\n",
        "def RNN():\n",
        "    inputs = Input(name='inputs', shape=[max_len])\n",
        "    layer = Embedding(max_words, 50)(inputs)\n",
        "    layer = LSTM(64)(layer)\n",
        "    layer = Dense(256, name='FC1')(layer)\n",
        "    layer = Activation('relu')(layer)\n",
        "    layer = Dropout(0.5)(layer)\n",
        "    layer = Dense(num_classes, name='out_layer')(layer)  # Set to num_classes\n",
        "    layer = Activation('softmax')(layer)\n",
        "    model = Model(inputs=inputs, outputs=layer)\n",
        "    return model\n",
        "\n",
        "# Instantiate and compile the model\n",
        "model = RNN()\n",
        "model.compile(loss='categorical_crossentropy', optimizer=SGD(), metrics=['accuracy'])\n",
        "\n",
        "# Fit the model using the one-hot encoded labels\n",
        "model.fit(sequences_matrix, y_train_one_hot, batch_size=128, epochs=14,\n",
        "          validation_split=0.2)"
      ],
      "metadata": {
        "colab": {
          "base_uri": "https://localhost:8080/"
        },
        "id": "-ac3xCng0fCe",
        "outputId": "b6fbb18b-f82b-46bd-a945-78d8a37ea87e"
      },
      "execution_count": null,
      "outputs": [
        {
          "output_type": "stream",
          "name": "stdout",
          "text": [
            "Epoch 1/14\n",
            "\u001b[1m13/13\u001b[0m \u001b[32m━━━━━━━━━━━━━━━━━━━━\u001b[0m\u001b[37m\u001b[0m \u001b[1m1s\u001b[0m 41ms/step - accuracy: 0.2267 - loss: 1.6092 - val_accuracy: 0.2643 - val_loss: 1.6086\n",
            "Epoch 2/14\n",
            "\u001b[1m13/13\u001b[0m \u001b[32m━━━━━━━━━━━━━━━━━━━━\u001b[0m\u001b[37m\u001b[0m \u001b[1m0s\u001b[0m 14ms/step - accuracy: 0.2205 - loss: 1.6087 - val_accuracy: 0.2594 - val_loss: 1.6080\n",
            "Epoch 3/14\n",
            "\u001b[1m13/13\u001b[0m \u001b[32m━━━━━━━━━━━━━━━━━━━━\u001b[0m\u001b[37m\u001b[0m \u001b[1m0s\u001b[0m 16ms/step - accuracy: 0.2461 - loss: 1.6082 - val_accuracy: 0.2668 - val_loss: 1.6073\n",
            "Epoch 4/14\n",
            "\u001b[1m13/13\u001b[0m \u001b[32m━━━━━━━━━━━━━━━━━━━━\u001b[0m\u001b[37m\u001b[0m \u001b[1m0s\u001b[0m 11ms/step - accuracy: 0.2253 - loss: 1.6083 - val_accuracy: 0.2693 - val_loss: 1.6066\n",
            "Epoch 5/14\n",
            "\u001b[1m13/13\u001b[0m \u001b[32m━━━━━━━━━━━━━━━━━━━━\u001b[0m\u001b[37m\u001b[0m \u001b[1m0s\u001b[0m 12ms/step - accuracy: 0.2130 - loss: 1.6075 - val_accuracy: 0.2743 - val_loss: 1.6061\n",
            "Epoch 6/14\n",
            "\u001b[1m13/13\u001b[0m \u001b[32m━━━━━━━━━━━━━━━━━━━━\u001b[0m\u001b[37m\u001b[0m \u001b[1m0s\u001b[0m 12ms/step - accuracy: 0.2166 - loss: 1.6079 - val_accuracy: 0.2718 - val_loss: 1.6055\n",
            "Epoch 7/14\n",
            "\u001b[1m13/13\u001b[0m \u001b[32m━━━━━━━━━━━━━━━━━━━━\u001b[0m\u001b[37m\u001b[0m \u001b[1m0s\u001b[0m 12ms/step - accuracy: 0.2224 - loss: 1.6065 - val_accuracy: 0.2718 - val_loss: 1.6050\n",
            "Epoch 8/14\n",
            "\u001b[1m13/13\u001b[0m \u001b[32m━━━━━━━━━━━━━━━━━━━━\u001b[0m\u001b[37m\u001b[0m \u001b[1m0s\u001b[0m 12ms/step - accuracy: 0.2255 - loss: 1.6062 - val_accuracy: 0.2693 - val_loss: 1.6046\n",
            "Epoch 9/14\n",
            "\u001b[1m13/13\u001b[0m \u001b[32m━━━━━━━━━━━━━━━━━━━━\u001b[0m\u001b[37m\u001b[0m \u001b[1m0s\u001b[0m 11ms/step - accuracy: 0.2366 - loss: 1.6059 - val_accuracy: 0.2768 - val_loss: 1.6042\n",
            "Epoch 10/14\n",
            "\u001b[1m13/13\u001b[0m \u001b[32m━━━━━━━━━━━━━━━━━━━━\u001b[0m\u001b[37m\u001b[0m \u001b[1m0s\u001b[0m 11ms/step - accuracy: 0.2379 - loss: 1.6051 - val_accuracy: 0.2768 - val_loss: 1.6038\n",
            "Epoch 11/14\n",
            "\u001b[1m13/13\u001b[0m \u001b[32m━━━━━━━━━━━━━━━━━━━━\u001b[0m\u001b[37m\u001b[0m \u001b[1m0s\u001b[0m 11ms/step - accuracy: 0.2223 - loss: 1.6057 - val_accuracy: 0.2793 - val_loss: 1.6034\n",
            "Epoch 12/14\n",
            "\u001b[1m13/13\u001b[0m \u001b[32m━━━━━━━━━━━━━━━━━━━━\u001b[0m\u001b[37m\u001b[0m \u001b[1m0s\u001b[0m 11ms/step - accuracy: 0.2285 - loss: 1.6061 - val_accuracy: 0.2768 - val_loss: 1.6032\n",
            "Epoch 13/14\n",
            "\u001b[1m13/13\u001b[0m \u001b[32m━━━━━━━━━━━━━━━━━━━━\u001b[0m\u001b[37m\u001b[0m \u001b[1m0s\u001b[0m 10ms/step - accuracy: 0.2700 - loss: 1.6031 - val_accuracy: 0.2693 - val_loss: 1.6028\n",
            "Epoch 14/14\n",
            "\u001b[1m13/13\u001b[0m \u001b[32m━━━━━━━━━━━━━━━━━━━━\u001b[0m\u001b[37m\u001b[0m \u001b[1m0s\u001b[0m 10ms/step - accuracy: 0.2202 - loss: 1.6052 - val_accuracy: 0.2569 - val_loss: 1.6026\n"
          ]
        },
        {
          "output_type": "execute_result",
          "data": {
            "text/plain": [
              "<keras.src.callbacks.history.History at 0x7f7811f06140>"
            ]
          },
          "metadata": {},
          "execution_count": 136
        }
      ]
    },
    {
      "cell_type": "code",
      "source": [
        "# ADAM OPTIMIZER\n",
        "model = RNN()\n",
        "model.compile(loss='categorical_crossentropy', optimizer=Adam(), metrics=['accuracy'])\n",
        "\n",
        "# Fit the model using the one-hot encoded labels\n",
        "model.fit(sequences_matrix, y_train_one_hot, batch_size=128, epochs=14,\n",
        "          validation_split=0.2)"
      ],
      "metadata": {
        "colab": {
          "base_uri": "https://localhost:8080/"
        },
        "id": "Mo08jYKfAq8J",
        "outputId": "e6f84645-6fe2-4502-c438-ff410411b9b3"
      },
      "execution_count": null,
      "outputs": [
        {
          "output_type": "stream",
          "name": "stdout",
          "text": [
            "Epoch 1/14\n",
            "\u001b[1m13/13\u001b[0m \u001b[32m━━━━━━━━━━━━━━━━━━━━\u001b[0m\u001b[37m\u001b[0m \u001b[1m3s\u001b[0m 40ms/step - accuracy: 0.2230 - loss: 1.6069 - val_accuracy: 0.3267 - val_loss: 1.5899\n",
            "Epoch 2/14\n",
            "\u001b[1m13/13\u001b[0m \u001b[32m━━━━━━━━━━━━━━━━━━━━\u001b[0m\u001b[37m\u001b[0m \u001b[1m0s\u001b[0m 22ms/step - accuracy: 0.4444 - loss: 1.5551 - val_accuracy: 0.5860 - val_loss: 1.2613\n",
            "Epoch 3/14\n",
            "\u001b[1m13/13\u001b[0m \u001b[32m━━━━━━━━━━━━━━━━━━━━\u001b[0m\u001b[37m\u001b[0m \u001b[1m0s\u001b[0m 21ms/step - accuracy: 0.6121 - loss: 1.0623 - val_accuracy: 0.6908 - val_loss: 0.7360\n",
            "Epoch 4/14\n",
            "\u001b[1m13/13\u001b[0m \u001b[32m━━━━━━━━━━━━━━━━━━━━\u001b[0m\u001b[37m\u001b[0m \u001b[1m0s\u001b[0m 13ms/step - accuracy: 0.7786 - loss: 0.6088 - val_accuracy: 0.8180 - val_loss: 0.5146\n",
            "Epoch 5/14\n",
            "\u001b[1m13/13\u001b[0m \u001b[32m━━━━━━━━━━━━━━━━━━━━\u001b[0m\u001b[37m\u001b[0m \u001b[1m0s\u001b[0m 13ms/step - accuracy: 0.8756 - loss: 0.3610 - val_accuracy: 0.8678 - val_loss: 0.4063\n",
            "Epoch 6/14\n",
            "\u001b[1m13/13\u001b[0m \u001b[32m━━━━━━━━━━━━━━━━━━━━\u001b[0m\u001b[37m\u001b[0m \u001b[1m0s\u001b[0m 13ms/step - accuracy: 0.9428 - loss: 0.2088 - val_accuracy: 0.9127 - val_loss: 0.3196\n",
            "Epoch 7/14\n",
            "\u001b[1m13/13\u001b[0m \u001b[32m━━━━━━━━━━━━━━━━━━━━\u001b[0m\u001b[37m\u001b[0m \u001b[1m0s\u001b[0m 12ms/step - accuracy: 0.9705 - loss: 0.1264 - val_accuracy: 0.9227 - val_loss: 0.2763\n",
            "Epoch 8/14\n",
            "\u001b[1m13/13\u001b[0m \u001b[32m━━━━━━━━━━━━━━━━━━━━\u001b[0m\u001b[37m\u001b[0m \u001b[1m0s\u001b[0m 12ms/step - accuracy: 0.9872 - loss: 0.0626 - val_accuracy: 0.9277 - val_loss: 0.2598\n",
            "Epoch 9/14\n",
            "\u001b[1m13/13\u001b[0m \u001b[32m━━━━━━━━━━━━━━━━━━━━\u001b[0m\u001b[37m\u001b[0m \u001b[1m0s\u001b[0m 12ms/step - accuracy: 0.9934 - loss: 0.0404 - val_accuracy: 0.9227 - val_loss: 0.2678\n",
            "Epoch 10/14\n",
            "\u001b[1m13/13\u001b[0m \u001b[32m━━━━━━━━━━━━━━━━━━━━\u001b[0m\u001b[37m\u001b[0m \u001b[1m0s\u001b[0m 13ms/step - accuracy: 0.9922 - loss: 0.0348 - val_accuracy: 0.9252 - val_loss: 0.2855\n",
            "Epoch 11/14\n",
            "\u001b[1m13/13\u001b[0m \u001b[32m━━━━━━━━━━━━━━━━━━━━\u001b[0m\u001b[37m\u001b[0m \u001b[1m0s\u001b[0m 12ms/step - accuracy: 0.9867 - loss: 0.0481 - val_accuracy: 0.9127 - val_loss: 0.3793\n",
            "Epoch 12/14\n",
            "\u001b[1m13/13\u001b[0m \u001b[32m━━━━━━━━━━━━━━━━━━━━\u001b[0m\u001b[37m\u001b[0m \u001b[1m0s\u001b[0m 12ms/step - accuracy: 0.9951 - loss: 0.0227 - val_accuracy: 0.9401 - val_loss: 0.2626\n",
            "Epoch 13/14\n",
            "\u001b[1m13/13\u001b[0m \u001b[32m━━━━━━━━━━━━━━━━━━━━\u001b[0m\u001b[37m\u001b[0m \u001b[1m0s\u001b[0m 12ms/step - accuracy: 0.9952 - loss: 0.0175 - val_accuracy: 0.9377 - val_loss: 0.3029\n",
            "Epoch 14/14\n",
            "\u001b[1m13/13\u001b[0m \u001b[32m━━━━━━━━━━━━━━━━━━━━\u001b[0m\u001b[37m\u001b[0m \u001b[1m0s\u001b[0m 12ms/step - accuracy: 1.0000 - loss: 0.0062 - val_accuracy: 0.9401 - val_loss: 0.2979\n"
          ]
        },
        {
          "output_type": "execute_result",
          "data": {
            "text/plain": [
              "<keras.src.callbacks.history.History at 0x7f780cbfdf30>"
            ]
          },
          "metadata": {},
          "execution_count": 150
        }
      ]
    },
    {
      "cell_type": "code",
      "source": [
        "# ADAMAX OPTIMIZER\n",
        "model = RNN()\n",
        "model.compile(loss='categorical_crossentropy', optimizer=Adamax(), metrics=['accuracy'])\n",
        "\n",
        "# Fit the model using the one-hot encoded labels\n",
        "model.fit(sequences_matrix, y_train_one_hot, batch_size=128, epochs=14,\n",
        "          validation_split=0.2)"
      ],
      "metadata": {
        "colab": {
          "base_uri": "https://localhost:8080/"
        },
        "id": "9duRopPwAyMC",
        "outputId": "35e35d82-79d0-4971-82b0-e39aa2297460"
      },
      "execution_count": null,
      "outputs": [
        {
          "output_type": "stream",
          "name": "stdout",
          "text": [
            "Epoch 1/14\n",
            "\u001b[1m13/13\u001b[0m \u001b[32m━━━━━━━━━━━━━━━━━━━━\u001b[0m\u001b[37m\u001b[0m \u001b[1m2s\u001b[0m 42ms/step - accuracy: 0.2186 - loss: 1.6088 - val_accuracy: 0.3067 - val_loss: 1.6044\n",
            "Epoch 2/14\n",
            "\u001b[1m13/13\u001b[0m \u001b[32m━━━━━━━━━━━━━━━━━━━━\u001b[0m\u001b[37m\u001b[0m \u001b[1m0s\u001b[0m 21ms/step - accuracy: 0.3066 - loss: 1.6038 - val_accuracy: 0.3641 - val_loss: 1.5966\n",
            "Epoch 3/14\n",
            "\u001b[1m13/13\u001b[0m \u001b[32m━━━━━━━━━━━━━━━━━━━━\u001b[0m\u001b[37m\u001b[0m \u001b[1m0s\u001b[0m 16ms/step - accuracy: 0.3584 - loss: 1.5918 - val_accuracy: 0.4140 - val_loss: 1.5759\n",
            "Epoch 4/14\n",
            "\u001b[1m13/13\u001b[0m \u001b[32m━━━━━━━━━━━━━━━━━━━━\u001b[0m\u001b[37m\u001b[0m \u001b[1m0s\u001b[0m 14ms/step - accuracy: 0.4217 - loss: 1.5629 - val_accuracy: 0.4688 - val_loss: 1.4938\n",
            "Epoch 5/14\n",
            "\u001b[1m13/13\u001b[0m \u001b[32m━━━━━━━━━━━━━━━━━━━━\u001b[0m\u001b[37m\u001b[0m \u001b[1m0s\u001b[0m 13ms/step - accuracy: 0.4768 - loss: 1.4166 - val_accuracy: 0.4788 - val_loss: 1.1859\n",
            "Epoch 6/14\n",
            "\u001b[1m13/13\u001b[0m \u001b[32m━━━━━━━━━━━━━━━━━━━━\u001b[0m\u001b[37m\u001b[0m \u001b[1m0s\u001b[0m 12ms/step - accuracy: 0.4907 - loss: 1.1360 - val_accuracy: 0.5062 - val_loss: 1.0476\n",
            "Epoch 7/14\n",
            "\u001b[1m13/13\u001b[0m \u001b[32m━━━━━━━━━━━━━━━━━━━━\u001b[0m\u001b[37m\u001b[0m \u001b[1m0s\u001b[0m 12ms/step - accuracy: 0.5618 - loss: 0.9835 - val_accuracy: 0.6234 - val_loss: 0.9056\n",
            "Epoch 8/14\n",
            "\u001b[1m13/13\u001b[0m \u001b[32m━━━━━━━━━━━━━━━━━━━━\u001b[0m\u001b[37m\u001b[0m \u001b[1m0s\u001b[0m 12ms/step - accuracy: 0.6399 - loss: 0.8783 - val_accuracy: 0.6160 - val_loss: 0.8221\n",
            "Epoch 9/14\n",
            "\u001b[1m13/13\u001b[0m \u001b[32m━━━━━━━━━━━━━━━━━━━━\u001b[0m\u001b[37m\u001b[0m \u001b[1m0s\u001b[0m 11ms/step - accuracy: 0.6281 - loss: 0.7804 - val_accuracy: 0.6633 - val_loss: 0.7765\n",
            "Epoch 10/14\n",
            "\u001b[1m13/13\u001b[0m \u001b[32m━━━━━━━━━━━━━━━━━━━━\u001b[0m\u001b[37m\u001b[0m \u001b[1m0s\u001b[0m 13ms/step - accuracy: 0.6524 - loss: 0.7070 - val_accuracy: 0.7032 - val_loss: 0.6953\n",
            "Epoch 11/14\n",
            "\u001b[1m13/13\u001b[0m \u001b[32m━━━━━━━━━━━━━━━━━━━━\u001b[0m\u001b[37m\u001b[0m \u001b[1m0s\u001b[0m 11ms/step - accuracy: 0.7309 - loss: 0.6070 - val_accuracy: 0.7556 - val_loss: 0.6040\n",
            "Epoch 12/14\n",
            "\u001b[1m13/13\u001b[0m \u001b[32m━━━━━━━━━━━━━━━━━━━━\u001b[0m\u001b[37m\u001b[0m \u001b[1m0s\u001b[0m 12ms/step - accuracy: 0.8137 - loss: 0.5279 - val_accuracy: 0.8803 - val_loss: 0.4994\n",
            "Epoch 13/14\n",
            "\u001b[1m13/13\u001b[0m \u001b[32m━━━━━━━━━━━━━━━━━━━━\u001b[0m\u001b[37m\u001b[0m \u001b[1m0s\u001b[0m 11ms/step - accuracy: 0.9140 - loss: 0.3775 - val_accuracy: 0.9052 - val_loss: 0.3834\n",
            "Epoch 14/14\n",
            "\u001b[1m13/13\u001b[0m \u001b[32m━━━━━━━━━━━━━━━━━━━━\u001b[0m\u001b[37m\u001b[0m \u001b[1m0s\u001b[0m 13ms/step - accuracy: 0.9460 - loss: 0.2724 - val_accuracy: 0.9052 - val_loss: 0.3781\n"
          ]
        },
        {
          "output_type": "execute_result",
          "data": {
            "text/plain": [
              "<keras.src.callbacks.history.History at 0x7f7810c4c3d0>"
            ]
          },
          "metadata": {},
          "execution_count": 140
        }
      ]
    },
    {
      "cell_type": "code",
      "source": [
        "# ADAMW OPTIMIZER\n",
        "model = RNN()\n",
        "model.compile(loss='categorical_crossentropy', optimizer=AdamW(), metrics=['accuracy'])\n",
        "\n",
        "# Fit the model using the one-hot encoded labels\n",
        "model.fit(sequences_matrix, y_train_one_hot, batch_size=128, epochs=14,\n",
        "          validation_split=0.2)"
      ],
      "metadata": {
        "colab": {
          "base_uri": "https://localhost:8080/"
        },
        "id": "F2dcGtloA7qm",
        "outputId": "61988060-8da4-4b2e-ad5b-7fea8db0ed94"
      },
      "execution_count": null,
      "outputs": [
        {
          "output_type": "stream",
          "name": "stdout",
          "text": [
            "Epoch 1/14\n",
            "\u001b[1m13/13\u001b[0m \u001b[32m━━━━━━━━━━━━━━━━━━━━\u001b[0m\u001b[37m\u001b[0m \u001b[1m2s\u001b[0m 40ms/step - accuracy: 0.2492 - loss: 1.6070 - val_accuracy: 0.4090 - val_loss: 1.5900\n",
            "Epoch 2/14\n",
            "\u001b[1m13/13\u001b[0m \u001b[32m━━━━━━━━━━━━━━━━━━━━\u001b[0m\u001b[37m\u001b[0m \u001b[1m0s\u001b[0m 17ms/step - accuracy: 0.4104 - loss: 1.5574 - val_accuracy: 0.4015 - val_loss: 1.3547\n",
            "Epoch 3/14\n",
            "\u001b[1m13/13\u001b[0m \u001b[32m━━━━━━━━━━━━━━━━━━━━\u001b[0m\u001b[37m\u001b[0m \u001b[1m0s\u001b[0m 14ms/step - accuracy: 0.5126 - loss: 1.2562 - val_accuracy: 0.5860 - val_loss: 1.0270\n",
            "Epoch 4/14\n",
            "\u001b[1m13/13\u001b[0m \u001b[32m━━━━━━━━━━━━━━━━━━━━\u001b[0m\u001b[37m\u001b[0m \u001b[1m0s\u001b[0m 13ms/step - accuracy: 0.6183 - loss: 0.8525 - val_accuracy: 0.7830 - val_loss: 0.5912\n",
            "Epoch 5/14\n",
            "\u001b[1m13/13\u001b[0m \u001b[32m━━━━━━━━━━━━━━━━━━━━\u001b[0m\u001b[37m\u001b[0m \u001b[1m0s\u001b[0m 13ms/step - accuracy: 0.8646 - loss: 0.4379 - val_accuracy: 0.8703 - val_loss: 0.5280\n",
            "Epoch 6/14\n",
            "\u001b[1m13/13\u001b[0m \u001b[32m━━━━━━━━━━━━━━━━━━━━\u001b[0m\u001b[37m\u001b[0m \u001b[1m0s\u001b[0m 13ms/step - accuracy: 0.9180 - loss: 0.3544 - val_accuracy: 0.7880 - val_loss: 0.6017\n",
            "Epoch 7/14\n",
            "\u001b[1m13/13\u001b[0m \u001b[32m━━━━━━━━━━━━━━━━━━━━\u001b[0m\u001b[37m\u001b[0m \u001b[1m0s\u001b[0m 13ms/step - accuracy: 0.9248 - loss: 0.2812 - val_accuracy: 0.8953 - val_loss: 0.3619\n",
            "Epoch 8/14\n",
            "\u001b[1m13/13\u001b[0m \u001b[32m━━━━━━━━━━━━━━━━━━━━\u001b[0m\u001b[37m\u001b[0m \u001b[1m0s\u001b[0m 13ms/step - accuracy: 0.9639 - loss: 0.1592 - val_accuracy: 0.9177 - val_loss: 0.2828\n",
            "Epoch 9/14\n",
            "\u001b[1m13/13\u001b[0m \u001b[32m━━━━━━━━━━━━━━━━━━━━\u001b[0m\u001b[37m\u001b[0m \u001b[1m0s\u001b[0m 13ms/step - accuracy: 0.9747 - loss: 0.1158 - val_accuracy: 0.9102 - val_loss: 0.3003\n",
            "Epoch 10/14\n",
            "\u001b[1m13/13\u001b[0m \u001b[32m━━━━━━━━━━━━━━━━━━━━\u001b[0m\u001b[37m\u001b[0m \u001b[1m0s\u001b[0m 12ms/step - accuracy: 0.9913 - loss: 0.0561 - val_accuracy: 0.9227 - val_loss: 0.2859\n",
            "Epoch 11/14\n",
            "\u001b[1m13/13\u001b[0m \u001b[32m━━━━━━━━━━━━━━━━━━━━\u001b[0m\u001b[37m\u001b[0m \u001b[1m0s\u001b[0m 12ms/step - accuracy: 0.9964 - loss: 0.0271 - val_accuracy: 0.9252 - val_loss: 0.3046\n",
            "Epoch 12/14\n",
            "\u001b[1m13/13\u001b[0m \u001b[32m━━━━━━━━━━━━━━━━━━━━\u001b[0m\u001b[37m\u001b[0m \u001b[1m0s\u001b[0m 13ms/step - accuracy: 0.9981 - loss: 0.0197 - val_accuracy: 0.9327 - val_loss: 0.3051\n",
            "Epoch 13/14\n",
            "\u001b[1m13/13\u001b[0m \u001b[32m━━━━━━━━━━━━━━━━━━━━\u001b[0m\u001b[37m\u001b[0m \u001b[1m0s\u001b[0m 11ms/step - accuracy: 0.9981 - loss: 0.0121 - val_accuracy: 0.9327 - val_loss: 0.2995\n",
            "Epoch 14/14\n",
            "\u001b[1m13/13\u001b[0m \u001b[32m━━━━━━━━━━━━━━━━━━━━\u001b[0m\u001b[37m\u001b[0m \u001b[1m0s\u001b[0m 12ms/step - accuracy: 0.9997 - loss: 0.0076 - val_accuracy: 0.9277 - val_loss: 0.3404\n"
          ]
        },
        {
          "output_type": "execute_result",
          "data": {
            "text/plain": [
              "<keras.src.callbacks.history.History at 0x7f7856437f70>"
            ]
          },
          "metadata": {},
          "execution_count": 142
        }
      ]
    },
    {
      "cell_type": "code",
      "source": [
        "# ADAGRAD OPTIMIZER\n",
        "model = RNN()\n",
        "model.compile(loss='categorical_crossentropy', optimizer=Adagrad(), metrics=['accuracy'])\n",
        "\n",
        "# Fit the model using the one-hot encoded labels\n",
        "model.fit(sequences_matrix, y_train_one_hot, batch_size=128, epochs=14,\n",
        "          validation_split=0.2)"
      ],
      "metadata": {
        "colab": {
          "base_uri": "https://localhost:8080/"
        },
        "id": "GeH4gW3WCZR_",
        "outputId": "20b35aae-82ba-4898-824e-f13f74730374"
      },
      "execution_count": null,
      "outputs": [
        {
          "output_type": "stream",
          "name": "stdout",
          "text": [
            "Epoch 1/14\n",
            "\u001b[1m13/13\u001b[0m \u001b[32m━━━━━━━━━━━━━━━━━━━━\u001b[0m\u001b[37m\u001b[0m \u001b[1m3s\u001b[0m 52ms/step - accuracy: 0.2107 - loss: 1.6097 - val_accuracy: 0.2095 - val_loss: 1.6095\n",
            "Epoch 2/14\n",
            "\u001b[1m13/13\u001b[0m \u001b[32m━━━━━━━━━━━━━━━━━━━━\u001b[0m\u001b[37m\u001b[0m \u001b[1m1s\u001b[0m 19ms/step - accuracy: 0.2057 - loss: 1.6093 - val_accuracy: 0.2244 - val_loss: 1.6092\n",
            "Epoch 3/14\n",
            "\u001b[1m13/13\u001b[0m \u001b[32m━━━━━━━━━━━━━━━━━━━━\u001b[0m\u001b[37m\u001b[0m \u001b[1m0s\u001b[0m 16ms/step - accuracy: 0.2019 - loss: 1.6092 - val_accuracy: 0.2319 - val_loss: 1.6090\n",
            "Epoch 4/14\n",
            "\u001b[1m13/13\u001b[0m \u001b[32m━━━━━━━━━━━━━━━━━━━━\u001b[0m\u001b[37m\u001b[0m \u001b[1m0s\u001b[0m 14ms/step - accuracy: 0.2427 - loss: 1.6090 - val_accuracy: 0.2294 - val_loss: 1.6088\n",
            "Epoch 5/14\n",
            "\u001b[1m13/13\u001b[0m \u001b[32m━━━━━━━━━━━━━━━━━━━━\u001b[0m\u001b[37m\u001b[0m \u001b[1m0s\u001b[0m 14ms/step - accuracy: 0.2297 - loss: 1.6089 - val_accuracy: 0.2369 - val_loss: 1.6087\n",
            "Epoch 6/14\n",
            "\u001b[1m13/13\u001b[0m \u001b[32m━━━━━━━━━━━━━━━━━━━━\u001b[0m\u001b[37m\u001b[0m \u001b[1m0s\u001b[0m 14ms/step - accuracy: 0.2205 - loss: 1.6088 - val_accuracy: 0.2344 - val_loss: 1.6085\n",
            "Epoch 7/14\n",
            "\u001b[1m13/13\u001b[0m \u001b[32m━━━━━━━━━━━━━━━━━━━━\u001b[0m\u001b[37m\u001b[0m \u001b[1m0s\u001b[0m 14ms/step - accuracy: 0.2139 - loss: 1.6088 - val_accuracy: 0.2344 - val_loss: 1.6083\n",
            "Epoch 8/14\n",
            "\u001b[1m13/13\u001b[0m \u001b[32m━━━━━━━━━━━━━━━━━━━━\u001b[0m\u001b[37m\u001b[0m \u001b[1m0s\u001b[0m 12ms/step - accuracy: 0.2244 - loss: 1.6084 - val_accuracy: 0.2344 - val_loss: 1.6082\n",
            "Epoch 9/14\n",
            "\u001b[1m13/13\u001b[0m \u001b[32m━━━━━━━━━━━━━━━━━━━━\u001b[0m\u001b[37m\u001b[0m \u001b[1m0s\u001b[0m 13ms/step - accuracy: 0.2186 - loss: 1.6087 - val_accuracy: 0.2344 - val_loss: 1.6080\n",
            "Epoch 10/14\n",
            "\u001b[1m13/13\u001b[0m \u001b[32m━━━━━━━━━━━━━━━━━━━━\u001b[0m\u001b[37m\u001b[0m \u001b[1m0s\u001b[0m 14ms/step - accuracy: 0.2350 - loss: 1.6080 - val_accuracy: 0.2344 - val_loss: 1.6078\n",
            "Epoch 11/14\n",
            "\u001b[1m13/13\u001b[0m \u001b[32m━━━━━━━━━━━━━━━━━━━━\u001b[0m\u001b[37m\u001b[0m \u001b[1m0s\u001b[0m 20ms/step - accuracy: 0.2203 - loss: 1.6085 - val_accuracy: 0.2369 - val_loss: 1.6077\n",
            "Epoch 12/14\n",
            "\u001b[1m13/13\u001b[0m \u001b[32m━━━━━━━━━━━━━━━━━━━━\u001b[0m\u001b[37m\u001b[0m \u001b[1m0s\u001b[0m 21ms/step - accuracy: 0.2378 - loss: 1.6082 - val_accuracy: 0.2369 - val_loss: 1.6075\n",
            "Epoch 13/14\n",
            "\u001b[1m13/13\u001b[0m \u001b[32m━━━━━━━━━━━━━━━━━━━━\u001b[0m\u001b[37m\u001b[0m \u001b[1m0s\u001b[0m 21ms/step - accuracy: 0.2312 - loss: 1.6080 - val_accuracy: 0.2369 - val_loss: 1.6074\n",
            "Epoch 14/14\n",
            "\u001b[1m13/13\u001b[0m \u001b[32m━━━━━━━━━━━━━━━━━━━━\u001b[0m\u001b[37m\u001b[0m \u001b[1m0s\u001b[0m 21ms/step - accuracy: 0.2290 - loss: 1.6080 - val_accuracy: 0.2394 - val_loss: 1.6073\n"
          ]
        },
        {
          "output_type": "execute_result",
          "data": {
            "text/plain": [
              "<keras.src.callbacks.history.History at 0x7f780d3e24a0>"
            ]
          },
          "metadata": {},
          "execution_count": 145
        }
      ]
    },
    {
      "cell_type": "code",
      "source": [
        "# RMS PROP OPTIMIZER\n",
        "model = RNN()\n",
        "model.compile(loss='categorical_crossentropy', optimizer=RMSprop(), metrics=['accuracy'])\n",
        "\n",
        "# Fit the model using the one-hot encoded labels\n",
        "model.fit(sequences_matrix, y_train_one_hot, batch_size=128, epochs=14,\n",
        "          validation_split=0.2)"
      ],
      "metadata": {
        "colab": {
          "base_uri": "https://localhost:8080/"
        },
        "id": "Fejzp9FxCk6Z",
        "outputId": "624c5cbf-bd4d-4c94-b951-750ddc53256c"
      },
      "execution_count": null,
      "outputs": [
        {
          "output_type": "stream",
          "name": "stdout",
          "text": [
            "Epoch 1/14\n",
            "\u001b[1m13/13\u001b[0m \u001b[32m━━━━━━━━━━━━━━━━━━━━\u001b[0m\u001b[37m\u001b[0m \u001b[1m3s\u001b[0m 61ms/step - accuracy: 0.2236 - loss: 1.6084 - val_accuracy: 0.2594 - val_loss: 1.6020\n",
            "Epoch 2/14\n",
            "\u001b[1m13/13\u001b[0m \u001b[32m━━━━━━━━━━━━━━━━━━━━\u001b[0m\u001b[37m\u001b[0m \u001b[1m0s\u001b[0m 26ms/step - accuracy: 0.2633 - loss: 1.6019 - val_accuracy: 0.3815 - val_loss: 1.5912\n",
            "Epoch 3/14\n",
            "\u001b[1m13/13\u001b[0m \u001b[32m━━━━━━━━━━━━━━━━━━━━\u001b[0m\u001b[37m\u001b[0m \u001b[1m0s\u001b[0m 25ms/step - accuracy: 0.3651 - loss: 1.5850 - val_accuracy: 0.4389 - val_loss: 1.4167\n",
            "Epoch 4/14\n",
            "\u001b[1m13/13\u001b[0m \u001b[32m━━━━━━━━━━━━━━━━━━━━\u001b[0m\u001b[37m\u001b[0m \u001b[1m0s\u001b[0m 16ms/step - accuracy: 0.4415 - loss: 1.3623 - val_accuracy: 0.4663 - val_loss: 1.1487\n",
            "Epoch 5/14\n",
            "\u001b[1m13/13\u001b[0m \u001b[32m━━━━━━━━━━━━━━━━━━━━\u001b[0m\u001b[37m\u001b[0m \u001b[1m0s\u001b[0m 13ms/step - accuracy: 0.4580 - loss: 1.0984 - val_accuracy: 0.4813 - val_loss: 1.0160\n",
            "Epoch 6/14\n",
            "\u001b[1m13/13\u001b[0m \u001b[32m━━━━━━━━━━━━━━━━━━━━\u001b[0m\u001b[37m\u001b[0m \u001b[1m0s\u001b[0m 13ms/step - accuracy: 0.5427 - loss: 0.9733 - val_accuracy: 0.6384 - val_loss: 0.8659\n",
            "Epoch 7/14\n",
            "\u001b[1m13/13\u001b[0m \u001b[32m━━━━━━━━━━━━━━━━━━━━\u001b[0m\u001b[37m\u001b[0m \u001b[1m0s\u001b[0m 17ms/step - accuracy: 0.7077 - loss: 0.7655 - val_accuracy: 0.7332 - val_loss: 0.8178\n",
            "Epoch 8/14\n",
            "\u001b[1m13/13\u001b[0m \u001b[32m━━━━━━━━━━━━━━━━━━━━\u001b[0m\u001b[37m\u001b[0m \u001b[1m0s\u001b[0m 12ms/step - accuracy: 0.8071 - loss: 0.5364 - val_accuracy: 0.8479 - val_loss: 0.4997\n",
            "Epoch 9/14\n",
            "\u001b[1m13/13\u001b[0m \u001b[32m━━━━━━━━━━━━━━━━━━━━\u001b[0m\u001b[37m\u001b[0m \u001b[1m0s\u001b[0m 13ms/step - accuracy: 0.8754 - loss: 0.3866 - val_accuracy: 0.7955 - val_loss: 0.5124\n",
            "Epoch 10/14\n",
            "\u001b[1m13/13\u001b[0m \u001b[32m━━━━━━━━━━━━━━━━━━━━\u001b[0m\u001b[37m\u001b[0m \u001b[1m0s\u001b[0m 13ms/step - accuracy: 0.9095 - loss: 0.2880 - val_accuracy: 0.8753 - val_loss: 0.3852\n",
            "Epoch 11/14\n",
            "\u001b[1m13/13\u001b[0m \u001b[32m━━━━━━━━━━━━━━━━━━━━\u001b[0m\u001b[37m\u001b[0m \u001b[1m0s\u001b[0m 13ms/step - accuracy: 0.9461 - loss: 0.1921 - val_accuracy: 0.7007 - val_loss: 0.8708\n",
            "Epoch 12/14\n",
            "\u001b[1m13/13\u001b[0m \u001b[32m━━━━━━━━━━━━━━━━━━━━\u001b[0m\u001b[37m\u001b[0m \u001b[1m0s\u001b[0m 13ms/step - accuracy: 0.9190 - loss: 0.2630 - val_accuracy: 0.9002 - val_loss: 0.3529\n",
            "Epoch 13/14\n",
            "\u001b[1m13/13\u001b[0m \u001b[32m━━━━━━━━━━━━━━━━━━━━\u001b[0m\u001b[37m\u001b[0m \u001b[1m0s\u001b[0m 13ms/step - accuracy: 0.9731 - loss: 0.0890 - val_accuracy: 0.8928 - val_loss: 0.3496\n",
            "Epoch 14/14\n",
            "\u001b[1m13/13\u001b[0m \u001b[32m━━━━━━━━━━━━━━━━━━━━\u001b[0m\u001b[37m\u001b[0m \u001b[1m0s\u001b[0m 12ms/step - accuracy: 0.9930 - loss: 0.0441 - val_accuracy: 0.9152 - val_loss: 0.3285\n"
          ]
        },
        {
          "output_type": "execute_result",
          "data": {
            "text/plain": [
              "<keras.src.callbacks.history.History at 0x7f780d0d2620>"
            ]
          },
          "metadata": {},
          "execution_count": 148
        }
      ]
    },
    {
      "cell_type": "markdown",
      "source": [],
      "metadata": {
        "id": "Z6Jp-bIKAEFv"
      }
    },
    {
      "cell_type": "code",
      "source": [
        "test_sequences = tok.texts_to_sequences(X_val)\n",
        "test_sequences_matrix = sequence.pad_sequences(test_sequences,maxlen=max_len)"
      ],
      "metadata": {
        "id": "_qxzgvQj3Fqk"
      },
      "execution_count": null,
      "outputs": []
    },
    {
      "cell_type": "code",
      "source": [
        "test_sequences_matrix.shape"
      ],
      "metadata": {
        "colab": {
          "base_uri": "https://localhost:8080/"
        },
        "id": "w3l-Do353eKG",
        "outputId": "96338799-ea7b-4553-d403-e1ea3b5ed630"
      },
      "execution_count": null,
      "outputs": [
        {
          "output_type": "execute_result",
          "data": {
            "text/plain": [
              "(223, 150)"
            ]
          },
          "metadata": {},
          "execution_count": 129
        }
      ]
    },
    {
      "cell_type": "code",
      "source": [
        "vecy_test.shape"
      ],
      "metadata": {
        "colab": {
          "base_uri": "https://localhost:8080/"
        },
        "id": "Xnk-QBNoBjgk",
        "outputId": "982fed7b-88cf-4193-ef7e-76c1bee27045"
      },
      "execution_count": null,
      "outputs": [
        {
          "output_type": "execute_result",
          "data": {
            "text/plain": [
              "(223,)"
            ]
          },
          "metadata": {},
          "execution_count": 130
        }
      ]
    },
    {
      "cell_type": "code",
      "source": [
        "label_encoder = LabelEncoder()\n",
        "y_test_encoded = label_encoder.fit_transform(vecy_test)\n",
        "\n",
        "# Step 2: One-Hot Encoding\n",
        "num_classes = len(label_encoder.classes_)  # Number of unique classes\n",
        "y_test_one_hot = to_categorical(y_test_encoded, num_classes)"
      ],
      "metadata": {
        "id": "MMEFbJ9c3Osu"
      },
      "execution_count": null,
      "outputs": []
    },
    {
      "cell_type": "code",
      "source": [
        "y_test_one_hot.shape"
      ],
      "metadata": {
        "colab": {
          "base_uri": "https://localhost:8080/"
        },
        "id": "8Fqea77p3gaM",
        "outputId": "1fa9aac0-1d90-41be-a991-8f602aa3677b"
      },
      "execution_count": null,
      "outputs": [
        {
          "output_type": "execute_result",
          "data": {
            "text/plain": [
              "(223, 5)"
            ]
          },
          "metadata": {},
          "execution_count": 134
        }
      ]
    },
    {
      "cell_type": "code",
      "source": [
        "# SGD\n",
        "accr = model.evaluate(test_sequences_matrix, y_test_one_hot)"
      ],
      "metadata": {
        "colab": {
          "base_uri": "https://localhost:8080/"
        },
        "id": "txQglZD1B5fX",
        "outputId": "2c0614fd-cbe7-4457-f531-2eb2f8cbdfb5"
      },
      "execution_count": null,
      "outputs": [
        {
          "output_type": "stream",
          "name": "stdout",
          "text": [
            "\u001b[1m7/7\u001b[0m \u001b[32m━━━━━━━━━━━━━━━━━━━━\u001b[0m\u001b[37m\u001b[0m \u001b[1m0s\u001b[0m 11ms/step - accuracy: 0.3148 - loss: 1.5961\n"
          ]
        }
      ]
    },
    {
      "cell_type": "code",
      "source": [
        "# ADAM\n",
        "accr = model.evaluate(test_sequences_matrix, y_test_one_hot)"
      ],
      "metadata": {
        "colab": {
          "base_uri": "https://localhost:8080/"
        },
        "id": "9I-cCKMLCACS",
        "outputId": "1b15f05c-117a-4d49-cba6-98f648756747"
      },
      "execution_count": null,
      "outputs": [
        {
          "output_type": "stream",
          "name": "stdout",
          "text": [
            "\u001b[1m7/7\u001b[0m \u001b[32m━━━━━━━━━━━━━━━━━━━━\u001b[0m\u001b[37m\u001b[0m \u001b[1m0s\u001b[0m 14ms/step - accuracy: 0.9768 - loss: 0.0839\n"
          ]
        }
      ]
    },
    {
      "cell_type": "code",
      "source": [
        "# ADAMAX\n",
        "accr = model.evaluate(test_sequences_matrix, y_test_one_hot)"
      ],
      "metadata": {
        "colab": {
          "base_uri": "https://localhost:8080/"
        },
        "id": "_mmGw5wO3WZi",
        "outputId": "36758020-54e9-48c4-d328-82469c42142a"
      },
      "execution_count": null,
      "outputs": [
        {
          "output_type": "stream",
          "name": "stdout",
          "text": [
            "\u001b[1m7/7\u001b[0m \u001b[32m━━━━━━━━━━━━━━━━━━━━\u001b[0m\u001b[37m\u001b[0m \u001b[1m0s\u001b[0m 8ms/step - accuracy: 0.9167 - loss: 0.2845 \n"
          ]
        }
      ]
    },
    {
      "cell_type": "code",
      "source": [
        "# ADAMW\n",
        "accr = model.evaluate(test_sequences_matrix, y_test_one_hot)"
      ],
      "metadata": {
        "colab": {
          "base_uri": "https://localhost:8080/"
        },
        "id": "CtkkZA6bCKWQ",
        "outputId": "625d84a2-0d5c-4747-9031-8da2520f8339"
      },
      "execution_count": null,
      "outputs": [
        {
          "output_type": "stream",
          "name": "stdout",
          "text": [
            "\u001b[1m7/7\u001b[0m \u001b[32m━━━━━━━━━━━━━━━━━━━━\u001b[0m\u001b[37m\u001b[0m \u001b[1m0s\u001b[0m 9ms/step - accuracy: 0.9737 - loss: 0.1487 \n"
          ]
        }
      ]
    },
    {
      "cell_type": "code",
      "source": [
        "# ADAGRAD\n",
        "accr = model.evaluate(test_sequences_matrix, y_test_one_hot)"
      ],
      "metadata": {
        "colab": {
          "base_uri": "https://localhost:8080/"
        },
        "id": "9ik3lGePCgAz",
        "outputId": "51311e6a-99f7-45c8-eb0d-55d00019a574"
      },
      "execution_count": null,
      "outputs": [
        {
          "output_type": "stream",
          "name": "stdout",
          "text": [
            "\u001b[1m7/7\u001b[0m \u001b[32m━━━━━━━━━━━━━━━━━━━━\u001b[0m\u001b[37m\u001b[0m \u001b[1m0s\u001b[0m 8ms/step - accuracy: 0.2792 - loss: 1.6053 \n"
          ]
        }
      ]
    },
    {
      "cell_type": "code",
      "source": [
        "# RMS PROP\n",
        "accr = model.evaluate(test_sequences_matrix, y_test_one_hot)"
      ],
      "metadata": {
        "colab": {
          "base_uri": "https://localhost:8080/"
        },
        "id": "PIMSuE11Cil7",
        "outputId": "391d2995-d876-4755-d6d2-3906be34b432"
      },
      "execution_count": null,
      "outputs": [
        {
          "output_type": "stream",
          "name": "stdout",
          "text": [
            "\u001b[1m7/7\u001b[0m \u001b[32m━━━━━━━━━━━━━━━━━━━━\u001b[0m\u001b[37m\u001b[0m \u001b[1m0s\u001b[0m 8ms/step - accuracy: 0.9417 - loss: 0.2099 \n"
          ]
        }
      ]
    },
    {
      "cell_type": "markdown",
      "source": [
        "**CONCLUSION**\n",
        "\n",
        "Amongst the best optimizer, Adam is the best one, followed by AdamW and RMS Prop. Both last two indicates overfit, however. Hence, Adam is the most well-suit for this context.\n",
        "\n",
        "Note that the accuracy is overwhelmingly increased. Using decision tree with TF-IDF feature-extractor, it is already 89%. However, using Adam, the test accuracy overwhemingly increases to 97%!\n",
        "\n",
        "Even though there are several problems relating to topics' nuance, LSTM with Adam helps to sky-rocket the accuracy. But, I think there is a hero without a cope here: embedding. It helps to model each word's representation feature. With combination of LSTM, it is really powerful to understand contextual and semantic relationship.\n",
        "\n",
        "Note that I got 97% test accuracy with really fast computation. Meaning, no further complex model is needed."
      ],
      "metadata": {
        "id": "7eenWfwcC7pZ"
      }
    },
    {
      "cell_type": "markdown",
      "source": [
        "# Apply to real data"
      ],
      "metadata": {
        "id": "WS8UPN13_Qds"
      }
    },
    {
      "cell_type": "code",
      "source": [
        "# I got the text sample from this: https://www.bbc.com/news/articles/c1kne7nl8vlo\n",
        "real_data = \"Japan PM vows to continue ruling despite bruising loss Japan's prime minister Shigeru Ishiba has vowed to continue ruling the country despite a bruising loss suffered by his party at the general election. The country now faces an uncertain political future as the coalition led by the long-ruling Liberal Democratic Party (LDP) has lost its majority in parliament, its worst result in over a decade. Ishiba was sworn in as prime minister just this month after winning the leadership of his party. He had called a snap election to seal his mandate. But in a speech on Monday, he admitted the LDP received 'severe judgement' from voters, and added his party would 'humbly accept' this. 'The Japanese people expressed their strong desire for the LDP to do some reflection and become a party that acts in line with the people's will,' Ishiba told national broadcaster NHK. The LDP and its much smaller coalition partner Komeito, have altogether taken 215 seats, falling short of the 233-seat majority needed to govern. It is the first time the LDP has lost its parliamentary majority since 2009. The party has ruled Japan almost continuously since 1955. The result comes after a tumultuous few years for the LDP which saw a cascade of scandals, widespread voter apathy and record-low approval ratings. The party had seen approval ratings of below 20% earlier in the year, in the wake of a political fundraising corruption scandal. Ishiba on Monday pledged to 'enact fundamental reform regarding the issue of money and politics'. 'We need to answer to the people’s criticism. That is how I will take responsibility for the loss of the election,' he said. He also promised to revitalise rural Japan and tackle inflation. Japan's parliament now has 30 days to convene and choose a prime minister. The chosen PM's party or coalition, will form the government and can do so even without a majority of seats. Ishiba said there are no plans to expand his political coalition at this stage. This raises the likely possibility that he will retain his premiership and his coalition will continue to rule Japan without a majority. But it also means they will no longer have the power to pass laws unilaterally. Another possibility is that the opposition parties unite to form the government - the largest one, the Constitutional Democratic Party (CDP), won 148 seats up from 98 previously. But that is a more unlikely scenario as Japan's opposition parties historically have faced difficulty in uniting or convincing voters they are a viable option to govern. The CDP had an approval rating of just 6.6% before parliament was dissolved. Japan’s politics gets a rare dose of upheaval after snap election Politics in Japan has been moving at a fast pace in recent months. Ishiba took over as the country's leader early this month following party elections held after his predecessor Fumio Kishida - who had been in the role since 2021 – made a surprise decision to step down in August. The move to call the election came at a time when the LDP is desperate to restore its tarnished image among the public. Chief among the series of scandals that have dogged the LDP is its relationship with the controversial Unification Church, described by critics as a “cult”, and the level of influence it had on lawmakers. Then came the revelations of the slush funds scandal, with dozens of LDP lawmakers accused of pocketing proceeds from political fundraising events. Those allegations, running into the millions of dollars, has led to the dissolution of powerful factions.\""
      ],
      "metadata": {
        "id": "732cB5vNDxem"
      },
      "execution_count": null,
      "outputs": []
    },
    {
      "cell_type": "code",
      "source": [
        "cleaned_data = preprocess_and_clean(real_data)\n",
        "cleaned_data"
      ],
      "metadata": {
        "colab": {
          "base_uri": "https://localhost:8080/",
          "height": 122
        },
        "id": "rwTx4YzJEDXp",
        "outputId": "076749f0-1570-47fb-83fb-943b3a493a1b"
      },
      "execution_count": null,
      "outputs": [
        {
          "output_type": "execute_result",
          "data": {
            "text/plain": [
              "'japan pm vow continue ruling despite bruising loss japan prime minister shigeru ishiba vowed continue ruling country despite bruising loss suffered party general election country face uncertain political future coalition led longruling liberal democratic party ldp lost majority parliament worst result decade ishiba sworn prime minister month winning leadership party called snap election seal mandate speech monday admitted ldp received severe judgement voter added party would humbly accept japanese people expressed strong desire ldp reflection become party act line people ishiba told national broadcaster nhk ldp much smaller coalition partner komeito altogether taken  seat falling short seat majority needed govern first time ldp lost parliamentary majority since  party ruled japan almost continuously since  result come tumultuous year ldp saw cascade scandal widespread voter apathy recordlow approval rating party seen approval rating  earlier year wake political fundraising corruption scandal ishiba monday pledged enact fundamental reform regarding issue money politics need answer people’s criticism take responsibility loss election said also promised revitalise rural japan tackle inflation japan parliament  day convene choose prime minister chosen pm party coalition form government even without majority seat ishiba said plan expand political coalition stage raise likely possibility retain premiership coalition continue rule japan without majority also mean longer power pas law unilaterally another possibility opposition party unite form government  largest one constitutional democratic party cdp  seat  previously unlikely scenario japan opposition party historically faced difficulty uniting convincing voter viable option govern cdp approval rating  parliament dissolved japan’s politics get rare dose upheaval snap election politics japan moving fast pace recent month ishiba took country leader early month following party election held predecessor fumio kishida  role since  – made surprise decision step august move call election came time ldp desperate restore tarnished image among public chief among series scandal dogged ldp relationship controversial unification church described critic “cult” level influence lawmaker came revelation slush fund scandal dozen ldp lawmaker accused pocketing proceeds political fundraising event allegation running million dollar led dissolution powerful faction'"
            ],
            "application/vnd.google.colaboratory.intrinsic+json": {
              "type": "string"
            }
          },
          "metadata": {},
          "execution_count": 103
        }
      ]
    },
    {
      "cell_type": "code",
      "source": [
        "# Compare with simple LSTM structure\n",
        "test_sequences_real = tok.texts_to_sequences(cleaned_data)\n",
        "test_sequences_real_matrix = sequence.pad_sequences(test_sequences_real, maxlen=max_len)\n",
        "\n",
        "# Step 2: Make Predictions\n",
        "predictions = model.predict(test_sequences_real_matrix)\n",
        "\n",
        "# Step 3: Convert Predictions to Class Labels\n",
        "predicted_class_index = np.argmax(predictions, axis=1)  # Get the index of the highest probability\n",
        "predicted_label = label_encoder.inverse_transform(predicted_class_index)  # Convert index back to label\n",
        "\n",
        "print(f'This is a {predicted_label} news')"
      ],
      "metadata": {
        "colab": {
          "base_uri": "https://localhost:8080/"
        },
        "id": "1ZO25ydu4AgS",
        "outputId": "7a5f20aa-bf0f-4397-bc10-009dee0b508e"
      },
      "execution_count": null,
      "outputs": [
        {
          "output_type": "stream",
          "name": "stdout",
          "text": [
            "\u001b[1m76/76\u001b[0m \u001b[32m━━━━━━━━━━━━━━━━━━━━\u001b[0m\u001b[37m\u001b[0m \u001b[1m0s\u001b[0m 4ms/step\n",
            "This is a ['sport' 'sport' 'sport' ... 'sport' 'sport' 'sport'] news\n"
          ]
        }
      ]
    },
    {
      "cell_type": "markdown",
      "source": [
        "This return all of processed sequence matrix output, based off the highest probability label. Hence, we need to slice it."
      ],
      "metadata": {
        "id": "4yofaBWu8_1c"
      }
    },
    {
      "cell_type": "code",
      "source": [
        "# Compare with simple LSTM structure\n",
        "test_sequences_real = tok.texts_to_sequences(cleaned_data)\n",
        "test_sequences_real_matrix = sequence.pad_sequences(test_sequences_real, maxlen=max_len)\n",
        "\n",
        "# Step 2: Make Predictions\n",
        "predictions = model.predict(test_sequences_real_matrix)\n",
        "\n",
        "# Step 3: Convert Predictions to Class Labels\n",
        "predicted_class_index = np.argmax(predictions, axis=1)  # Get the index of the highest probability\n",
        "predicted_label = label_encoder.inverse_transform(predicted_class_index)  # Convert index back to label\n",
        "\n",
        "print(f'This is a {predicted_label[1]} news')"
      ],
      "metadata": {
        "colab": {
          "base_uri": "https://localhost:8080/"
        },
        "id": "Yj__IDQr9w8R",
        "outputId": "ebe23256-e4d3-4f78-b1a0-aec8d8a847a1"
      },
      "execution_count": null,
      "outputs": [
        {
          "output_type": "stream",
          "name": "stdout",
          "text": [
            "\u001b[1m76/76\u001b[0m \u001b[32m━━━━━━━━━━━━━━━━━━━━\u001b[0m\u001b[37m\u001b[0m \u001b[1m0s\u001b[0m 4ms/step\n",
            "This is a sport news\n"
          ]
        }
      ]
    }
  ]
}